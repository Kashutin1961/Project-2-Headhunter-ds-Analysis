{
 "cells": [
  {
   "cell_type": "markdown",
   "id": "658a27cd",
   "metadata": {},
   "source": [
    "### Настройки"
   ]
  },
  {
   "cell_type": "markdown",
   "id": "e4c242f3",
   "metadata": {},
   "source": [
    "Начинаем с импорта библиотек"
   ]
  },
  {
   "cell_type": "code",
   "execution_count": 107,
   "id": "f266c8b9",
   "metadata": {},
   "outputs": [],
   "source": [
    "# Импортируем библиотеки: pandas для работы с таблицами, psycopg2 для подключения к PostgreSQL\n",
    "import pandas as pd\n",
    "import psycopg2  # библиотека для работы с PostgreSQL\n",
    "import warnings\n",
    "import os\n",
    "from dotenv import load_dotenv\n",
    "\n",
    "load_dotenv()  # Загружаем переменные окружения из .env файла\n",
    "\n",
    "warnings.simplefilter(\"ignore\", FutureWarning)\n",
    "warnings.simplefilter(\"ignore\", UserWarning)\n",
    "\n",
    "\n",
    "# Используем словарь df для хранения нескольких DataFrame по ключам (удобно для отображения).\n",
    "df = {}"
   ]
  },
  {
   "cell_type": "markdown",
   "id": "2957dbf3",
   "metadata": {},
   "source": [
    "Начинаем с импорта библиотек"
   ]
  },
  {
   "cell_type": "code",
   "execution_count": 108,
   "id": "8a558a9c",
   "metadata": {},
   "outputs": [],
   "source": [
    "# Параметры подключения к БД загружаем из файла .env\n",
    "DBNAME_ = os.getenv(\"DBNAME_\")\n",
    "USER_ = os.getenv(\"USER_\")\n",
    "HOST_ = os.getenv(\"HOST_\")\n",
    "PASSWORD_ = os.getenv(\"PASSWORD_\")\n",
    "PORT_ = os.getenv(\"PORT_\")"
   ]
  },
  {
   "cell_type": "code",
   "execution_count": 109,
   "id": "d64047da",
   "metadata": {},
   "outputs": [],
   "source": [
    "# Создаём соединение с PostgreSQL с параметрами загруженными из .env.\n",
    "connection = psycopg2.connect(\n",
    "    dbname=DBNAME_,\n",
    "    user=USER_,\n",
    "    host=HOST_,\n",
    "    password=PASSWORD_,\n",
    "    port=PORT_,\n",
    ")"
   ]
  },
  {
   "cell_type": "code",
   "execution_count": 110,
   "id": "a4e34d08",
   "metadata": {},
   "outputs": [],
   "source": [
    "# Пример формирования SQL-запроса в строковой переменной.\n",
    "# Здесь показывается использование f-строки для подставления параметров (n).\n",
    "\n",
    "n = 10\n",
    "query = f'''SELECT * \n",
    "            FROM sql.pokemon \n",
    "            LIMIT {n}\n",
    "         '''\n",
    "# В реальных задачах лучше использовать параметры запросов, чтобы избегать SQL-инъекций."
   ]
  },
  {
   "cell_type": "code",
   "execution_count": 111,
   "id": "fcd55171",
   "metadata": {},
   "outputs": [
    {
     "data": {
      "text/html": [
       "<div>\n",
       "<style scoped>\n",
       "    .dataframe tbody tr th:only-of-type {\n",
       "        vertical-align: middle;\n",
       "    }\n",
       "\n",
       "    .dataframe tbody tr th {\n",
       "        vertical-align: top;\n",
       "    }\n",
       "\n",
       "    .dataframe thead th {\n",
       "        text-align: right;\n",
       "    }\n",
       "</style>\n",
       "<table border=\"1\" class=\"dataframe\">\n",
       "  <thead>\n",
       "    <tr style=\"text-align: right;\">\n",
       "      <th></th>\n",
       "      <th>id</th>\n",
       "      <th>name</th>\n",
       "      <th>type1</th>\n",
       "      <th>type2</th>\n",
       "      <th>hp</th>\n",
       "      <th>attack</th>\n",
       "      <th>defense</th>\n",
       "      <th>speed</th>\n",
       "    </tr>\n",
       "  </thead>\n",
       "  <tbody>\n",
       "    <tr>\n",
       "      <th>0</th>\n",
       "      <td>1</td>\n",
       "      <td>Bulbasaur</td>\n",
       "      <td>Grass</td>\n",
       "      <td>Poison</td>\n",
       "      <td>45</td>\n",
       "      <td>49</td>\n",
       "      <td>49</td>\n",
       "      <td>45</td>\n",
       "    </tr>\n",
       "    <tr>\n",
       "      <th>1</th>\n",
       "      <td>2</td>\n",
       "      <td>Ivysaur</td>\n",
       "      <td>Grass</td>\n",
       "      <td>Poison</td>\n",
       "      <td>60</td>\n",
       "      <td>62</td>\n",
       "      <td>63</td>\n",
       "      <td>60</td>\n",
       "    </tr>\n",
       "    <tr>\n",
       "      <th>2</th>\n",
       "      <td>3</td>\n",
       "      <td>Venusaur</td>\n",
       "      <td>Grass</td>\n",
       "      <td>Poison</td>\n",
       "      <td>80</td>\n",
       "      <td>82</td>\n",
       "      <td>83</td>\n",
       "      <td>80</td>\n",
       "    </tr>\n",
       "    <tr>\n",
       "      <th>3</th>\n",
       "      <td>4</td>\n",
       "      <td>VenusaurMega Venusaur</td>\n",
       "      <td>Grass</td>\n",
       "      <td>Poison</td>\n",
       "      <td>80</td>\n",
       "      <td>100</td>\n",
       "      <td>123</td>\n",
       "      <td>80</td>\n",
       "    </tr>\n",
       "    <tr>\n",
       "      <th>4</th>\n",
       "      <td>7</td>\n",
       "      <td>Charizard</td>\n",
       "      <td>Fire</td>\n",
       "      <td>Flying</td>\n",
       "      <td>78</td>\n",
       "      <td>84</td>\n",
       "      <td>78</td>\n",
       "      <td>100</td>\n",
       "    </tr>\n",
       "    <tr>\n",
       "      <th>5</th>\n",
       "      <td>8</td>\n",
       "      <td>CharizardMega Charizard X</td>\n",
       "      <td>Fire</td>\n",
       "      <td>Dragon</td>\n",
       "      <td>78</td>\n",
       "      <td>130</td>\n",
       "      <td>111</td>\n",
       "      <td>100</td>\n",
       "    </tr>\n",
       "    <tr>\n",
       "      <th>6</th>\n",
       "      <td>9</td>\n",
       "      <td>CharizardMega Charizard Y</td>\n",
       "      <td>Fire</td>\n",
       "      <td>Flying</td>\n",
       "      <td>78</td>\n",
       "      <td>104</td>\n",
       "      <td>78</td>\n",
       "      <td>100</td>\n",
       "    </tr>\n",
       "    <tr>\n",
       "      <th>7</th>\n",
       "      <td>16</td>\n",
       "      <td>Butterfree</td>\n",
       "      <td>Bug</td>\n",
       "      <td>Flying</td>\n",
       "      <td>60</td>\n",
       "      <td>45</td>\n",
       "      <td>50</td>\n",
       "      <td>70</td>\n",
       "    </tr>\n",
       "    <tr>\n",
       "      <th>8</th>\n",
       "      <td>17</td>\n",
       "      <td>Weedle</td>\n",
       "      <td>Bug</td>\n",
       "      <td>Poison</td>\n",
       "      <td>40</td>\n",
       "      <td>35</td>\n",
       "      <td>30</td>\n",
       "      <td>50</td>\n",
       "    </tr>\n",
       "    <tr>\n",
       "      <th>9</th>\n",
       "      <td>18</td>\n",
       "      <td>Kakuna</td>\n",
       "      <td>Bug</td>\n",
       "      <td>Poison</td>\n",
       "      <td>45</td>\n",
       "      <td>25</td>\n",
       "      <td>50</td>\n",
       "      <td>35</td>\n",
       "    </tr>\n",
       "  </tbody>\n",
       "</table>\n",
       "</div>"
      ],
      "text/plain": [
       "   id                       name  type1   type2  hp  attack  defense  speed\n",
       "0   1                  Bulbasaur  Grass  Poison  45      49       49     45\n",
       "1   2                    Ivysaur  Grass  Poison  60      62       63     60\n",
       "2   3                   Venusaur  Grass  Poison  80      82       83     80\n",
       "3   4      VenusaurMega Venusaur  Grass  Poison  80     100      123     80\n",
       "4   7                  Charizard   Fire  Flying  78      84       78    100\n",
       "5   8  CharizardMega Charizard X   Fire  Dragon  78     130      111    100\n",
       "6   9  CharizardMega Charizard Y   Fire  Flying  78     104       78    100\n",
       "7  16                 Butterfree    Bug  Flying  60      45       50     70\n",
       "8  17                     Weedle    Bug  Poison  40      35       30     50\n",
       "9  18                     Kakuna    Bug  Poison  45      25       50     35"
      ]
     },
     "execution_count": 111,
     "metadata": {},
     "output_type": "execute_result"
    }
   ],
   "source": [
    "# Выполняем SQL-запрос и загружаем результат в DataFrame pandas.\n",
    "# read_sql_query возвращает DataFrame, удобный для дальнейшего анализа и отображения.\n",
    "\n",
    "df_ = pd.read_sql_query(query, connection)\n",
    "df_"
   ]
  },
  {
   "cell_type": "code",
   "execution_count": 112,
   "id": "aef7a310",
   "metadata": {},
   "outputs": [],
   "source": [
    "# Пример подключения к другой базе 'project_sql' (переназначение параметров).\n",
    "# Для смены БД достаточно изменить переменные и создать новое соединение.\n",
    "DBNAME = os.getenv(\"DBNAME\")\n",
    "USER = os.getenv(\"USER\")\n",
    "HOST = os.getenv(\"HOST\")\n",
    "PASSWORD = os.getenv(\"PASSWORD\")\n",
    "PORT = os.getenv(\"PORT\")\n",
    "\n",
    "connection = psycopg2.connect(\n",
    "    dbname=DBNAME,\n",
    "    user=USER,\n",
    "    host=HOST,\n",
    "    password=PASSWORD,\n",
    "    port=PORT,\n",
    ")"
   ]
  },
  {
   "cell_type": "markdown",
   "id": "e41a5506",
   "metadata": {},
   "source": [
    "### ERD-схема: Структура базы данных вакансий\n",
    "\n",
    "!['project_sql ERD'](plots/Project_2_Public_HH_ERD.png)\n",
    "\n",
    "Диаграмма отображает структуру и связи между ключевыми сущностями в базе данных, связанной с вакансиями, работодателями, отраслями и регионами.\n",
    "\n",
    "#### Основные таблицы:\n",
    "\n",
    "- **industries** — содержит список отраслей, каждая с уникальным `id`.\n",
    "- **employers** — таблица работодателей, включает `name` и `area`.\n",
    "- **areas** — справочник географических регионов (`name`).\n",
    "- **vacancies** — основная таблица вакансий, включает:\n",
    "  - Название вакансии (`name`)\n",
    "  - Ключевые навыки (`key_skills`)\n",
    "  - График работы, опыт, тип занятости\n",
    "  - Зарплатные границы (`salary_from`, `salary_to`)\n",
    "  - Связь с работодателем (`employer_id`) и регионом (`area_id`)\n",
    "- **employers_industries** — связывает работодателей с отраслями через `employer_id` и `industry_id`.\n",
    "\n",
    "#### Связи между таблицами:\n",
    "\n",
    "- `vacancies` связана с `employers` по `employer_id`.\n",
    "- `vacancies` связана с `areas` по `area_id`.\n",
    "- `employers_industries` связывает `employers` и `industries`, позволяя одному работодателю работать в нескольких отраслях.\n",
    "\n",
    "#### Назначение схемы:\n",
    "\n",
    "- Обеспечивает гибкость при анализе вакансий по отраслям и регионам.\n",
    "- Позволяет строить запросы для анализа конкуренции, зарплат и распределения работодателей.\n",
    "- Упрощает визуализацию связей и построение аналитических моделей.\n",
    "\n"
   ]
  },
  {
   "cell_type": "code",
   "execution_count": 113,
   "id": "dd1a197e",
   "metadata": {},
   "outputs": [
    {
     "data": {
      "text/html": [
       "<div>\n",
       "<style scoped>\n",
       "    .dataframe tbody tr th:only-of-type {\n",
       "        vertical-align: middle;\n",
       "    }\n",
       "\n",
       "    .dataframe tbody tr th {\n",
       "        vertical-align: top;\n",
       "    }\n",
       "\n",
       "    .dataframe thead th {\n",
       "        text-align: right;\n",
       "    }\n",
       "</style>\n",
       "<table border=\"1\" class=\"dataframe\">\n",
       "  <thead>\n",
       "    <tr style=\"text-align: right;\">\n",
       "      <th></th>\n",
       "      <th>id</th>\n",
       "      <th>name</th>\n",
       "      <th>key_skills</th>\n",
       "      <th>schedule</th>\n",
       "      <th>experience</th>\n",
       "      <th>employment</th>\n",
       "      <th>salary_from</th>\n",
       "      <th>salary_to</th>\n",
       "      <th>area_id</th>\n",
       "      <th>employer_id</th>\n",
       "    </tr>\n",
       "  </thead>\n",
       "  <tbody>\n",
       "    <tr>\n",
       "      <th>0</th>\n",
       "      <td>55312386</td>\n",
       "      <td>Компьютерный Мастер</td>\n",
       "      <td>Пользователь ПК\\tРабота в команде\\tРемонт ноут...</td>\n",
       "      <td>Полный день</td>\n",
       "      <td>Нет опыта</td>\n",
       "      <td>Полная занятость</td>\n",
       "      <td>64000.0</td>\n",
       "      <td>NaN</td>\n",
       "      <td>1516</td>\n",
       "      <td>5724811</td>\n",
       "    </tr>\n",
       "    <tr>\n",
       "      <th>1</th>\n",
       "      <td>55843014</td>\n",
       "      <td>Системный администратор</td>\n",
       "      <td>Средства криптографической защиты информации\\t...</td>\n",
       "      <td>Полный день</td>\n",
       "      <td>От 3 до 6 лет</td>\n",
       "      <td>Полная занятость</td>\n",
       "      <td>NaN</td>\n",
       "      <td>NaN</td>\n",
       "      <td>130</td>\n",
       "      <td>4903713</td>\n",
       "    </tr>\n",
       "    <tr>\n",
       "      <th>2</th>\n",
       "      <td>54525964</td>\n",
       "      <td>Lead Java Developer to Poland</td>\n",
       "      <td>Spring Framework\\tSQL\\tHibernate ORM\\tJava\\tGit</td>\n",
       "      <td>Удаленная работа</td>\n",
       "      <td>От 3 до 6 лет</td>\n",
       "      <td>Полная занятость</td>\n",
       "      <td>NaN</td>\n",
       "      <td>NaN</td>\n",
       "      <td>160</td>\n",
       "      <td>69961</td>\n",
       "    </tr>\n",
       "    <tr>\n",
       "      <th>3</th>\n",
       "      <td>54525965</td>\n",
       "      <td>Lead Java Developer to Poland</td>\n",
       "      <td>Spring Framework\\tSQL\\tHibernate ORM\\tJava\\tGit</td>\n",
       "      <td>Удаленная работа</td>\n",
       "      <td>От 3 до 6 лет</td>\n",
       "      <td>Полная занятость</td>\n",
       "      <td>NaN</td>\n",
       "      <td>NaN</td>\n",
       "      <td>159</td>\n",
       "      <td>69961</td>\n",
       "    </tr>\n",
       "    <tr>\n",
       "      <th>4</th>\n",
       "      <td>55354053</td>\n",
       "      <td>Специалист службы поддержки с техническими зна...</td>\n",
       "      <td>None</td>\n",
       "      <td>Удаленная работа</td>\n",
       "      <td>Нет опыта</td>\n",
       "      <td>Частичная занятость</td>\n",
       "      <td>15000.0</td>\n",
       "      <td>NaN</td>\n",
       "      <td>1955</td>\n",
       "      <td>1740</td>\n",
       "    </tr>\n",
       "    <tr>\n",
       "      <th>...</th>\n",
       "      <td>...</td>\n",
       "      <td>...</td>\n",
       "      <td>...</td>\n",
       "      <td>...</td>\n",
       "      <td>...</td>\n",
       "      <td>...</td>\n",
       "      <td>...</td>\n",
       "      <td>...</td>\n",
       "      <td>...</td>\n",
       "      <td>...</td>\n",
       "    </tr>\n",
       "    <tr>\n",
       "      <th>49192</th>\n",
       "      <td>55589514</td>\n",
       "      <td>Специалист по информационным технологиям</td>\n",
       "      <td>Электронный документооборот\\t1С: Предприятие 8...</td>\n",
       "      <td>Полный день</td>\n",
       "      <td>От 3 до 6 лет</td>\n",
       "      <td>Полная занятость</td>\n",
       "      <td>NaN</td>\n",
       "      <td>NaN</td>\n",
       "      <td>66</td>\n",
       "      <td>5109332</td>\n",
       "    </tr>\n",
       "    <tr>\n",
       "      <th>49193</th>\n",
       "      <td>55029668</td>\n",
       "      <td>Руководитель процессного офиса</td>\n",
       "      <td>Оптимизация бизнес-процессов\\tСтратегическое м...</td>\n",
       "      <td>Полный день</td>\n",
       "      <td>От 3 до 6 лет</td>\n",
       "      <td>Полная занятость</td>\n",
       "      <td>NaN</td>\n",
       "      <td>NaN</td>\n",
       "      <td>26</td>\n",
       "      <td>51333</td>\n",
       "    </tr>\n",
       "    <tr>\n",
       "      <th>49194</th>\n",
       "      <td>66172263</td>\n",
       "      <td>Начальник сервисной службы</td>\n",
       "      <td>Организаторские навыки\\tУправление персоналом\\...</td>\n",
       "      <td>Полный день</td>\n",
       "      <td>От 1 года до 3 лет</td>\n",
       "      <td>Полная занятость</td>\n",
       "      <td>60000.0</td>\n",
       "      <td>NaN</td>\n",
       "      <td>1930</td>\n",
       "      <td>4094700</td>\n",
       "    </tr>\n",
       "    <tr>\n",
       "      <th>49195</th>\n",
       "      <td>66180086</td>\n",
       "      <td>Senior IOS разработчик</td>\n",
       "      <td>Swift\\tRealm\\tiOS\\tАнглийский язык\\tMVP\\tMVVM\\...</td>\n",
       "      <td>Полный день</td>\n",
       "      <td>От 1 года до 3 лет</td>\n",
       "      <td>Полная занятость</td>\n",
       "      <td>146456.0</td>\n",
       "      <td>244094.0</td>\n",
       "      <td>160</td>\n",
       "      <td>4469939</td>\n",
       "    </tr>\n",
       "    <tr>\n",
       "      <th>49196</th>\n",
       "      <td>55547842</td>\n",
       "      <td>DataOps Engineer</td>\n",
       "      <td>None</td>\n",
       "      <td>Удаленная работа</td>\n",
       "      <td>От 3 до 6 лет</td>\n",
       "      <td>Полная занятость</td>\n",
       "      <td>NaN</td>\n",
       "      <td>NaN</td>\n",
       "      <td>160</td>\n",
       "      <td>4978627</td>\n",
       "    </tr>\n",
       "  </tbody>\n",
       "</table>\n",
       "<p>49197 rows × 10 columns</p>\n",
       "</div>"
      ],
      "text/plain": [
       "             id                                               name  \\\n",
       "0      55312386                                Компьютерный Мастер   \n",
       "1      55843014                            Системный администратор   \n",
       "2      54525964                      Lead Java Developer to Poland   \n",
       "3      54525965                      Lead Java Developer to Poland   \n",
       "4      55354053  Специалист службы поддержки с техническими зна...   \n",
       "...         ...                                                ...   \n",
       "49192  55589514           Специалист по информационным технологиям   \n",
       "49193  55029668                     Руководитель процессного офиса   \n",
       "49194  66172263                         Начальник сервисной службы   \n",
       "49195  66180086                             Senior IOS разработчик   \n",
       "49196  55547842                                   DataOps Engineer   \n",
       "\n",
       "                                              key_skills          schedule  \\\n",
       "0      Пользователь ПК\\tРабота в команде\\tРемонт ноут...       Полный день   \n",
       "1      Средства криптографической защиты информации\\t...       Полный день   \n",
       "2        Spring Framework\\tSQL\\tHibernate ORM\\tJava\\tGit  Удаленная работа   \n",
       "3        Spring Framework\\tSQL\\tHibernate ORM\\tJava\\tGit  Удаленная работа   \n",
       "4                                                   None  Удаленная работа   \n",
       "...                                                  ...               ...   \n",
       "49192  Электронный документооборот\\t1С: Предприятие 8...       Полный день   \n",
       "49193  Оптимизация бизнес-процессов\\tСтратегическое м...       Полный день   \n",
       "49194  Организаторские навыки\\tУправление персоналом\\...       Полный день   \n",
       "49195  Swift\\tRealm\\tiOS\\tАнглийский язык\\tMVP\\tMVVM\\...       Полный день   \n",
       "49196                                               None  Удаленная работа   \n",
       "\n",
       "               experience           employment  salary_from  salary_to  \\\n",
       "0               Нет опыта     Полная занятость      64000.0        NaN   \n",
       "1           От 3 до 6 лет     Полная занятость          NaN        NaN   \n",
       "2           От 3 до 6 лет     Полная занятость          NaN        NaN   \n",
       "3           От 3 до 6 лет     Полная занятость          NaN        NaN   \n",
       "4               Нет опыта  Частичная занятость      15000.0        NaN   \n",
       "...                   ...                  ...          ...        ...   \n",
       "49192       От 3 до 6 лет     Полная занятость          NaN        NaN   \n",
       "49193       От 3 до 6 лет     Полная занятость          NaN        NaN   \n",
       "49194  От 1 года до 3 лет     Полная занятость      60000.0        NaN   \n",
       "49195  От 1 года до 3 лет     Полная занятость     146456.0   244094.0   \n",
       "49196       От 3 до 6 лет     Полная занятость          NaN        NaN   \n",
       "\n",
       "       area_id  employer_id  \n",
       "0         1516      5724811  \n",
       "1          130      4903713  \n",
       "2          160        69961  \n",
       "3          159        69961  \n",
       "4         1955         1740  \n",
       "...        ...          ...  \n",
       "49192       66      5109332  \n",
       "49193       26        51333  \n",
       "49194     1930      4094700  \n",
       "49195      160      4469939  \n",
       "49196      160      4978627  \n",
       "\n",
       "[49197 rows x 10 columns]"
      ]
     },
     "metadata": {},
     "output_type": "display_data"
    },
    {
     "data": {
      "text/plain": [
       "49197"
      ]
     },
     "metadata": {},
     "output_type": "display_data"
    }
   ],
   "source": [
    "# Задание 3.1 — загрузка таблицы vacancies полностью.\n",
    "# Внимание: выборка всех строк может быть большой — в учебных целях допустимо.\n",
    "\n",
    "n = 10  # не используется в этом запросе, оставлено из шаблона\n",
    "query3_1 = f'''SELECT *\n",
    "           FROM public.vacancies\n",
    "        '''\n",
    "\n",
    "df['vacancies'] = pd.read_sql_query(query3_1, connection)  # загружаем таблицу в df['vacancies']\n",
    "display(df['vacancies'])  # показываем таблицу\n",
    "display(df['vacancies'].shape[0])  # показываем количество строк (вакансий)"
   ]
  },
  {
   "cell_type": "code",
   "execution_count": 114,
   "id": "834918ee",
   "metadata": {},
   "outputs": [
    {
     "name": "stdout",
     "output_type": "stream",
     "text": [
      "Vacancies: 49197\n"
     ]
    }
   ],
   "source": [
    "# Альтернативный способ — напрямую посчитать количество записей через COUNT(*) в SQL.\n",
    "\n",
    "vacancies = pd.read_sql_query(\"SELECT COUNT(*) FROM public.vacancies\", connection)\n",
    "vacancies_count2 = vacancies.iloc[0, 0]  # извлекаем значение из результата\n",
    "print('Vacancies:', vacancies_count2)  # выводим количество вакансий"
   ]
  },
  {
   "cell_type": "code",
   "execution_count": 115,
   "id": "8df1f964",
   "metadata": {},
   "outputs": [
    {
     "data": {
      "text/html": [
       "<div>\n",
       "<style scoped>\n",
       "    .dataframe tbody tr th:only-of-type {\n",
       "        vertical-align: middle;\n",
       "    }\n",
       "\n",
       "    .dataframe tbody tr th {\n",
       "        vertical-align: top;\n",
       "    }\n",
       "\n",
       "    .dataframe thead th {\n",
       "        text-align: right;\n",
       "    }\n",
       "</style>\n",
       "<table border=\"1\" class=\"dataframe\">\n",
       "  <thead>\n",
       "    <tr style=\"text-align: right;\">\n",
       "      <th></th>\n",
       "      <th>id</th>\n",
       "      <th>name</th>\n",
       "      <th>area</th>\n",
       "    </tr>\n",
       "  </thead>\n",
       "  <tbody>\n",
       "    <tr>\n",
       "      <th>0</th>\n",
       "      <td>2393</td>\n",
       "      <td>Программный Продукт, ИТ-компания</td>\n",
       "      <td>1</td>\n",
       "    </tr>\n",
       "    <tr>\n",
       "      <th>1</th>\n",
       "      <td>72977</td>\n",
       "      <td>БАРС Груп</td>\n",
       "      <td>88</td>\n",
       "    </tr>\n",
       "    <tr>\n",
       "      <th>2</th>\n",
       "      <td>3155</td>\n",
       "      <td>Бест, Торгово-производственная компания, Екате...</td>\n",
       "      <td>3</td>\n",
       "    </tr>\n",
       "    <tr>\n",
       "      <th>3</th>\n",
       "      <td>675</td>\n",
       "      <td>КОРУС Консалтинг</td>\n",
       "      <td>2</td>\n",
       "    </tr>\n",
       "    <tr>\n",
       "      <th>4</th>\n",
       "      <td>1840010</td>\n",
       "      <td>филиал ФКУ Налог-Сервис ФНС России в Республик...</td>\n",
       "      <td>88</td>\n",
       "    </tr>\n",
       "    <tr>\n",
       "      <th>...</th>\n",
       "      <td>...</td>\n",
       "      <td>...</td>\n",
       "      <td>...</td>\n",
       "    </tr>\n",
       "    <tr>\n",
       "      <th>23496</th>\n",
       "      <td>1441774</td>\n",
       "      <td>МарКо</td>\n",
       "      <td>88</td>\n",
       "    </tr>\n",
       "    <tr>\n",
       "      <th>23497</th>\n",
       "      <td>4718575</td>\n",
       "      <td>MKomov Studio</td>\n",
       "      <td>73</td>\n",
       "    </tr>\n",
       "    <tr>\n",
       "      <th>23498</th>\n",
       "      <td>3702770</td>\n",
       "      <td>АКИБ Ипотека-банк</td>\n",
       "      <td>2759</td>\n",
       "    </tr>\n",
       "    <tr>\n",
       "      <th>23499</th>\n",
       "      <td>5636092</td>\n",
       "      <td>ГИМ-КЛИНИКА</td>\n",
       "      <td>99</td>\n",
       "    </tr>\n",
       "    <tr>\n",
       "      <th>23500</th>\n",
       "      <td>2064382</td>\n",
       "      <td>Рыббла</td>\n",
       "      <td>104</td>\n",
       "    </tr>\n",
       "  </tbody>\n",
       "</table>\n",
       "<p>23501 rows × 3 columns</p>\n",
       "</div>"
      ],
      "text/plain": [
       "            id                                               name  area\n",
       "0         2393                   Программный Продукт, ИТ-компания     1\n",
       "1        72977                                          БАРС Груп    88\n",
       "2         3155  Бест, Торгово-производственная компания, Екате...     3\n",
       "3          675                                   КОРУС Консалтинг     2\n",
       "4      1840010  филиал ФКУ Налог-Сервис ФНС России в Республик...    88\n",
       "...        ...                                                ...   ...\n",
       "23496  1441774                                              МарКо    88\n",
       "23497  4718575                                      MKomov Studio    73\n",
       "23498  3702770                                  АКИБ Ипотека-банк  2759\n",
       "23499  5636092                                        ГИМ-КЛИНИКА    99\n",
       "23500  2064382                                             Рыббла   104\n",
       "\n",
       "[23501 rows x 3 columns]"
      ]
     },
     "metadata": {},
     "output_type": "display_data"
    },
    {
     "name": "stdout",
     "output_type": "stream",
     "text": [
      "Number of employers:  23501\n"
     ]
    }
   ],
   "source": [
    "# Задание 3.2 — загрузка таблицы employers и подсчёт числа работодателей.\n",
    "\n",
    "query3_2 = f'''SELECT *\n",
    "           FROM public.employers\n",
    "        '''\n",
    "df['employers'] = pd.read_sql_query(query3_2, connection)  # сохраняем в df['employers']\n",
    "display(df['employers'])\n",
    "print('Number of employers: ', df['employers'].shape[0])  # выводим количество работодателей"
   ]
  },
  {
   "cell_type": "code",
   "execution_count": 116,
   "id": "735af044",
   "metadata": {},
   "outputs": [
    {
     "data": {
      "text/html": [
       "<div>\n",
       "<style scoped>\n",
       "    .dataframe tbody tr th:only-of-type {\n",
       "        vertical-align: middle;\n",
       "    }\n",
       "\n",
       "    .dataframe tbody tr th {\n",
       "        vertical-align: top;\n",
       "    }\n",
       "\n",
       "    .dataframe thead th {\n",
       "        text-align: right;\n",
       "    }\n",
       "</style>\n",
       "<table border=\"1\" class=\"dataframe\">\n",
       "  <thead>\n",
       "    <tr style=\"text-align: right;\">\n",
       "      <th></th>\n",
       "      <th>id</th>\n",
       "      <th>name</th>\n",
       "    </tr>\n",
       "  </thead>\n",
       "  <tbody>\n",
       "    <tr>\n",
       "      <th>0</th>\n",
       "      <td>2758</td>\n",
       "      <td>Тбилиси</td>\n",
       "    </tr>\n",
       "    <tr>\n",
       "      <th>1</th>\n",
       "      <td>8</td>\n",
       "      <td>Майкоп</td>\n",
       "    </tr>\n",
       "    <tr>\n",
       "      <th>2</th>\n",
       "      <td>1180</td>\n",
       "      <td>Нерюнгри</td>\n",
       "    </tr>\n",
       "    <tr>\n",
       "      <th>3</th>\n",
       "      <td>1240</td>\n",
       "      <td>Новокузнецк</td>\n",
       "    </tr>\n",
       "    <tr>\n",
       "      <th>4</th>\n",
       "      <td>2</td>\n",
       "      <td>Санкт-Петербург</td>\n",
       "    </tr>\n",
       "    <tr>\n",
       "      <th>...</th>\n",
       "      <td>...</td>\n",
       "      <td>...</td>\n",
       "    </tr>\n",
       "    <tr>\n",
       "      <th>1357</th>\n",
       "      <td>5043</td>\n",
       "      <td>Звёздный Городок</td>\n",
       "    </tr>\n",
       "    <tr>\n",
       "      <th>1358</th>\n",
       "      <td>3934</td>\n",
       "      <td>Воротынск\\n</td>\n",
       "    </tr>\n",
       "    <tr>\n",
       "      <th>1359</th>\n",
       "      <td>4825</td>\n",
       "      <td>Чемал</td>\n",
       "    </tr>\n",
       "    <tr>\n",
       "      <th>1360</th>\n",
       "      <td>3708</td>\n",
       "      <td>Усть-Нера</td>\n",
       "    </tr>\n",
       "    <tr>\n",
       "      <th>1361</th>\n",
       "      <td>2432</td>\n",
       "      <td>Каневская</td>\n",
       "    </tr>\n",
       "  </tbody>\n",
       "</table>\n",
       "<p>1362 rows × 2 columns</p>\n",
       "</div>"
      ],
      "text/plain": [
       "        id              name\n",
       "0     2758           Тбилиси\n",
       "1        8            Майкоп\n",
       "2     1180          Нерюнгри\n",
       "3     1240       Новокузнецк\n",
       "4        2   Санкт-Петербург\n",
       "...    ...               ...\n",
       "1357  5043  Звёздный Городок\n",
       "1358  3934       Воротынск\\n\n",
       "1359  4825             Чемал\n",
       "1360  3708         Усть-Нера\n",
       "1361  2432         Каневская\n",
       "\n",
       "[1362 rows x 2 columns]"
      ]
     },
     "metadata": {},
     "output_type": "display_data"
    },
    {
     "name": "stdout",
     "output_type": "stream",
     "text": [
      "Number of areas:  1362\n"
     ]
    }
   ],
   "source": [
    "# Задание 3.3 — загрузка таблицы areas и подсчёт числа регионов.\n",
    "\n",
    "query3_3 = f'''select *\n",
    "           from public.areas\n",
    "        '''\n",
    "df['areas'] = pd.read_sql_query(query3_3, connection)  # сохраняем в df['areas']\n",
    "display(df['areas'])\n",
    "print('Number of areas: ', df['areas'].shape[0])  # выводим количество регионов"
   ]
  },
  {
   "cell_type": "code",
   "execution_count": 117,
   "id": "ec5e9b99",
   "metadata": {},
   "outputs": [
    {
     "data": {
      "text/html": [
       "<div>\n",
       "<style scoped>\n",
       "    .dataframe tbody tr th:only-of-type {\n",
       "        vertical-align: middle;\n",
       "    }\n",
       "\n",
       "    .dataframe tbody tr th {\n",
       "        vertical-align: top;\n",
       "    }\n",
       "\n",
       "    .dataframe thead th {\n",
       "        text-align: right;\n",
       "    }\n",
       "</style>\n",
       "<table border=\"1\" class=\"dataframe\">\n",
       "  <thead>\n",
       "    <tr style=\"text-align: right;\">\n",
       "      <th></th>\n",
       "      <th>id</th>\n",
       "      <th>name</th>\n",
       "    </tr>\n",
       "  </thead>\n",
       "  <tbody>\n",
       "    <tr>\n",
       "      <th>0</th>\n",
       "      <td>7.540</td>\n",
       "      <td>Разработка программного обеспечения</td>\n",
       "    </tr>\n",
       "    <tr>\n",
       "      <th>1</th>\n",
       "      <td>7.539</td>\n",
       "      <td>Системная интеграция,  автоматизации технологи...</td>\n",
       "    </tr>\n",
       "    <tr>\n",
       "      <th>2</th>\n",
       "      <td>27.550</td>\n",
       "      <td>Безалкогольные напитки (производство)</td>\n",
       "    </tr>\n",
       "    <tr>\n",
       "      <th>3</th>\n",
       "      <td>27.551</td>\n",
       "      <td>Безалкогольные напитки (продвижение, оптовая т...</td>\n",
       "    </tr>\n",
       "    <tr>\n",
       "      <th>4</th>\n",
       "      <td>13.664</td>\n",
       "      <td>Управление и эксплуатация недвижимости</td>\n",
       "    </tr>\n",
       "    <tr>\n",
       "      <th>...</th>\n",
       "      <td>...</td>\n",
       "      <td>...</td>\n",
       "    </tr>\n",
       "    <tr>\n",
       "      <th>289</th>\n",
       "      <td>37.626</td>\n",
       "      <td>Ассоциация в сфере культуры, искусства</td>\n",
       "    </tr>\n",
       "    <tr>\n",
       "      <th>290</th>\n",
       "      <td>42.603</td>\n",
       "      <td>Табак  (производство)</td>\n",
       "    </tr>\n",
       "    <tr>\n",
       "      <th>291</th>\n",
       "      <td>29.532</td>\n",
       "      <td>Рыболовство, рыбоводство</td>\n",
       "    </tr>\n",
       "    <tr>\n",
       "      <th>292</th>\n",
       "      <td>37.627</td>\n",
       "      <td>Благотворительная организация</td>\n",
       "    </tr>\n",
       "    <tr>\n",
       "      <th>293</th>\n",
       "      <td>388.505</td>\n",
       "      <td>Оборудование для деревообработки, заготовки ле...</td>\n",
       "    </tr>\n",
       "  </tbody>\n",
       "</table>\n",
       "<p>294 rows × 2 columns</p>\n",
       "</div>"
      ],
      "text/plain": [
       "          id                                               name\n",
       "0      7.540                Разработка программного обеспечения\n",
       "1      7.539  Системная интеграция,  автоматизации технологи...\n",
       "2     27.550              Безалкогольные напитки (производство)\n",
       "3     27.551  Безалкогольные напитки (продвижение, оптовая т...\n",
       "4     13.664             Управление и эксплуатация недвижимости\n",
       "..       ...                                                ...\n",
       "289   37.626             Ассоциация в сфере культуры, искусства\n",
       "290   42.603                              Табак  (производство)\n",
       "291   29.532                           Рыболовство, рыбоводство\n",
       "292   37.627                      Благотворительная организация\n",
       "293  388.505  Оборудование для деревообработки, заготовки ле...\n",
       "\n",
       "[294 rows x 2 columns]"
      ]
     },
     "metadata": {},
     "output_type": "display_data"
    },
    {
     "name": "stdout",
     "output_type": "stream",
     "text": [
      "Number of industries:  294\n"
     ]
    }
   ],
   "source": [
    "# Задание 3.4 — загрузка таблицы industries и подсчёт числа сфер деятельности.\n",
    "\n",
    "query3_4 = f'''SELECT *\n",
    "           FROM public.industries\n",
    "        '''\n",
    "df['industries'] = pd.read_sql_query(query3_4, connection)\n",
    "display(df['industries'])\n",
    "print('Number of industries: ', df['industries'].shape[0])  # выводим количество сфер"
   ]
  },
  {
   "cell_type": "code",
   "execution_count": 66,
   "id": "acee1fd8",
   "metadata": {},
   "outputs": [
    {
     "data": {
      "text/html": [
       "<div>\n",
       "<style scoped>\n",
       "    .dataframe tbody tr th:only-of-type {\n",
       "        vertical-align: middle;\n",
       "    }\n",
       "\n",
       "    .dataframe tbody tr th {\n",
       "        vertical-align: top;\n",
       "    }\n",
       "\n",
       "    .dataframe thead th {\n",
       "        text-align: right;\n",
       "    }\n",
       "</style>\n",
       "<table border=\"1\" class=\"dataframe\">\n",
       "  <thead>\n",
       "    <tr style=\"text-align: right;\">\n",
       "      <th></th>\n",
       "      <th>area</th>\n",
       "      <th>cnt</th>\n",
       "    </tr>\n",
       "  </thead>\n",
       "  <tbody>\n",
       "    <tr>\n",
       "      <th>0</th>\n",
       "      <td>Москва</td>\n",
       "      <td>5333</td>\n",
       "    </tr>\n",
       "    <tr>\n",
       "      <th>1</th>\n",
       "      <td>Санкт-Петербург</td>\n",
       "      <td>2851</td>\n",
       "    </tr>\n",
       "    <tr>\n",
       "      <th>2</th>\n",
       "      <td>Минск</td>\n",
       "      <td>2112</td>\n",
       "    </tr>\n",
       "    <tr>\n",
       "      <th>3</th>\n",
       "      <td>Новосибирск</td>\n",
       "      <td>2006</td>\n",
       "    </tr>\n",
       "    <tr>\n",
       "      <th>4</th>\n",
       "      <td>Алматы</td>\n",
       "      <td>1892</td>\n",
       "    </tr>\n",
       "  </tbody>\n",
       "</table>\n",
       "</div>"
      ],
      "text/plain": [
       "              area   cnt\n",
       "0           Москва  5333\n",
       "1  Санкт-Петербург  2851\n",
       "2            Минск  2112\n",
       "3      Новосибирск  2006\n",
       "4           Алматы  1892"
      ]
     },
     "metadata": {},
     "output_type": "display_data"
    }
   ],
   "source": [
    "# Задание 4.1 — топ-5 регионов по числу вакансий.\n",
    "\n",
    "query4_1 = f'''select\n",
    "              a.name area,\n",
    "              count(v.id) cnt\n",
    "           from public.areas a\n",
    "           join public.vacancies v on a.id = v.area_id\n",
    "           group by a.id\n",
    "           order by cnt desc\n",
    "           limit 5\n",
    "        '''\n",
    "df['vacancies_num_in_area'] = pd.read_sql_query(query4_1, connection)\n",
    "display(df['vacancies_num_in_area'])  # показываем результат"
   ]
  },
  {
   "cell_type": "code",
   "execution_count": 67,
   "id": "d97ddae2",
   "metadata": {},
   "outputs": [
    {
     "data": {
      "text/html": [
       "<div>\n",
       "<style scoped>\n",
       "    .dataframe tbody tr th:only-of-type {\n",
       "        vertical-align: middle;\n",
       "    }\n",
       "\n",
       "    .dataframe tbody tr th {\n",
       "        vertical-align: top;\n",
       "    }\n",
       "\n",
       "    .dataframe thead th {\n",
       "        text-align: right;\n",
       "    }\n",
       "</style>\n",
       "<table border=\"1\" class=\"dataframe\">\n",
       "  <thead>\n",
       "    <tr style=\"text-align: right;\">\n",
       "      <th></th>\n",
       "      <th>cnt</th>\n",
       "    </tr>\n",
       "  </thead>\n",
       "  <tbody>\n",
       "    <tr>\n",
       "      <th>0</th>\n",
       "      <td>24073</td>\n",
       "    </tr>\n",
       "  </tbody>\n",
       "</table>\n",
       "</div>"
      ],
      "text/plain": [
       "     cnt\n",
       "0  24073"
      ]
     },
     "metadata": {},
     "output_type": "display_data"
    }
   ],
   "source": [
    "# Задание 4.2 — считаем вакансии, где указана хотя бы одна граница зарплаты.\n",
    "\n",
    "query4_2 = f'''\n",
    "    SELECT COUNT(*) AS cnt\n",
    "    FROM public.vacancies\n",
    "    WHERE salary_from IS NOT NULL OR salary_to IS NOT NULL\n",
    "'''\n",
    "df['vacancies_with_salary'] = pd.read_sql_query(query4_2, connection)\n",
    "display(df['vacancies_with_salary'])  # показываем количество вакансий с указанной зарплатой"
   ]
  },
  {
   "cell_type": "code",
   "execution_count": 68,
   "id": "26ef82e0",
   "metadata": {},
   "outputs": [
    {
     "data": {
      "text/html": [
       "<div>\n",
       "<style scoped>\n",
       "    .dataframe tbody tr th:only-of-type {\n",
       "        vertical-align: middle;\n",
       "    }\n",
       "\n",
       "    .dataframe tbody tr th {\n",
       "        vertical-align: top;\n",
       "    }\n",
       "\n",
       "    .dataframe thead th {\n",
       "        text-align: right;\n",
       "    }\n",
       "</style>\n",
       "<table border=\"1\" class=\"dataframe\">\n",
       "  <thead>\n",
       "    <tr style=\"text-align: right;\">\n",
       "      <th></th>\n",
       "      <th>avg_salary_from</th>\n",
       "      <th>avg_salary_to</th>\n",
       "    </tr>\n",
       "  </thead>\n",
       "  <tbody>\n",
       "    <tr>\n",
       "      <th>0</th>\n",
       "      <td>71065.0</td>\n",
       "      <td>110537.0</td>\n",
       "    </tr>\n",
       "  </tbody>\n",
       "</table>\n",
       "</div>"
      ],
      "text/plain": [
       "   avg_salary_from  avg_salary_to\n",
       "0          71065.0       110537.0"
      ]
     },
     "metadata": {},
     "output_type": "display_data"
    }
   ],
   "source": [
    "# Задание 4.3 — вычисляем среднее по нижней и верхней границе зарплаты (округлено).\n",
    "\n",
    "query4_3 = f'''\n",
    "    SELECT\n",
    "        ROUND(AVG(salary_from)) AS avg_salary_from,\n",
    "        ROUND(AVG(salary_to)) AS avg_salary_to\n",
    "    FROM public.vacancies\n",
    "    WHERE salary_from IS NOT NULL OR salary_to IS NOT NULL\n",
    "'''\n",
    "df['avg_salary_range'] = pd.read_sql_query(query4_3, connection)\n",
    "display(df['avg_salary_range'])  # показываем средние значения зарплат"
   ]
  },
  {
   "cell_type": "code",
   "execution_count": 69,
   "id": "9cbbd9e3",
   "metadata": {},
   "outputs": [
    {
     "data": {
      "text/html": [
       "<div>\n",
       "<style scoped>\n",
       "    .dataframe tbody tr th:only-of-type {\n",
       "        vertical-align: middle;\n",
       "    }\n",
       "\n",
       "    .dataframe tbody tr th {\n",
       "        vertical-align: top;\n",
       "    }\n",
       "\n",
       "    .dataframe thead th {\n",
       "        text-align: right;\n",
       "    }\n",
       "</style>\n",
       "<table border=\"1\" class=\"dataframe\">\n",
       "  <thead>\n",
       "    <tr style=\"text-align: right;\">\n",
       "      <th></th>\n",
       "      <th>schedule</th>\n",
       "      <th>employment</th>\n",
       "      <th>cnt</th>\n",
       "    </tr>\n",
       "  </thead>\n",
       "  <tbody>\n",
       "    <tr>\n",
       "      <th>0</th>\n",
       "      <td>Удаленная работа</td>\n",
       "      <td>Полная занятость</td>\n",
       "      <td>7802</td>\n",
       "    </tr>\n",
       "  </tbody>\n",
       "</table>\n",
       "</div>"
      ],
      "text/plain": [
       "           schedule        employment   cnt\n",
       "0  Удаленная работа  Полная занятость  7802"
      ]
     },
     "metadata": {},
     "output_type": "display_data"
    }
   ],
   "source": [
    "# Задание 4.4 — находим вторую по популярности пару (schedule, employment).\n",
    "\n",
    "query4_4 = f'''\n",
    "    SELECT\n",
    "        schedule,\n",
    "        employment,\n",
    "        COUNT(*) AS cnt\n",
    "    FROM public.vacancies\n",
    "    GROUP BY schedule, employment\n",
    "    ORDER BY cnt DESC\n",
    "    OFFSET 1\n",
    "    LIMIT 1\n",
    "'''\n",
    "df['vacancies_by_schedule_employment'] = pd.read_sql_query(query4_4, connection)\n",
    "display(df['vacancies_by_schedule_employment'])  # выводим пару на 2-м месте"
   ]
  },
  {
   "cell_type": "code",
   "execution_count": 70,
   "id": "b61da97e",
   "metadata": {},
   "outputs": [
    {
     "data": {
      "text/html": [
       "<div>\n",
       "<style scoped>\n",
       "    .dataframe tbody tr th:only-of-type {\n",
       "        vertical-align: middle;\n",
       "    }\n",
       "\n",
       "    .dataframe tbody tr th {\n",
       "        vertical-align: top;\n",
       "    }\n",
       "\n",
       "    .dataframe thead th {\n",
       "        text-align: right;\n",
       "    }\n",
       "</style>\n",
       "<table border=\"1\" class=\"dataframe\">\n",
       "  <thead>\n",
       "    <tr style=\"text-align: right;\">\n",
       "      <th></th>\n",
       "      <th>experience</th>\n",
       "      <th>experience_cnt</th>\n",
       "    </tr>\n",
       "  </thead>\n",
       "  <tbody>\n",
       "    <tr>\n",
       "      <th>0</th>\n",
       "      <td>Более 6 лет</td>\n",
       "      <td>1337</td>\n",
       "    </tr>\n",
       "    <tr>\n",
       "      <th>1</th>\n",
       "      <td>Нет опыта</td>\n",
       "      <td>7197</td>\n",
       "    </tr>\n",
       "    <tr>\n",
       "      <th>2</th>\n",
       "      <td>От 3 до 6 лет</td>\n",
       "      <td>14511</td>\n",
       "    </tr>\n",
       "    <tr>\n",
       "      <th>3</th>\n",
       "      <td>От 1 года до 3 лет</td>\n",
       "      <td>26152</td>\n",
       "    </tr>\n",
       "  </tbody>\n",
       "</table>\n",
       "</div>"
      ],
      "text/plain": [
       "           experience  experience_cnt\n",
       "0         Более 6 лет            1337\n",
       "1           Нет опыта            7197\n",
       "2       От 3 до 6 лет           14511\n",
       "3  От 1 года до 3 лет           26152"
      ]
     },
     "metadata": {},
     "output_type": "display_data"
    }
   ],
   "source": [
    "# Задание 4.5 — сортируем варианты опыта по возрастанию количества вакансий, где указан этот опыт.\n",
    "\n",
    "query4_5 = f'''select\n",
    "              v.experience,\n",
    "              count(v.id) experience_cnt\n",
    "           from public.vacancies v\n",
    "           group by v.experience\n",
    "           order by experience_cnt asc\n",
    "        '''\n",
    "df['experience_cnt'] = pd.read_sql_query(query4_5, connection)\n",
    "display(df['experience_cnt'])  # показываем результат"
   ]
  },
  {
   "cell_type": "code",
   "execution_count": 71,
   "id": "cc93fc2d",
   "metadata": {},
   "outputs": [
    {
     "data": {
      "text/html": [
       "<div>\n",
       "<style scoped>\n",
       "    .dataframe tbody tr th:only-of-type {\n",
       "        vertical-align: middle;\n",
       "    }\n",
       "\n",
       "    .dataframe tbody tr th {\n",
       "        vertical-align: top;\n",
       "    }\n",
       "\n",
       "    .dataframe thead th {\n",
       "        text-align: right;\n",
       "    }\n",
       "</style>\n",
       "<table border=\"1\" class=\"dataframe\">\n",
       "  <thead>\n",
       "    <tr style=\"text-align: right;\">\n",
       "      <th></th>\n",
       "      <th>name</th>\n",
       "      <th>cnt</th>\n",
       "    </tr>\n",
       "  </thead>\n",
       "  <tbody>\n",
       "    <tr>\n",
       "      <th>0</th>\n",
       "      <td>Яндекс</td>\n",
       "      <td>1933</td>\n",
       "    </tr>\n",
       "    <tr>\n",
       "      <th>1</th>\n",
       "      <td>Газпром нефть</td>\n",
       "      <td>331</td>\n",
       "    </tr>\n",
       "  </tbody>\n",
       "</table>\n",
       "</div>"
      ],
      "text/plain": [
       "            name   cnt\n",
       "0         Яндекс  1933\n",
       "1  Газпром нефть   331"
      ]
     },
     "metadata": {},
     "output_type": "display_data"
    }
   ],
   "source": [
    "# Задание 5.1 — находим работодателей на 1-м и 5-м местах по числу вакансий.\n",
    "\n",
    "query5_1 = f'''WITH emp_count AS (SELECT e.name, COUNT(v.id) cnt\n",
    "           FROM public.employers e\n",
    "           JOIN public.vacancies v ON e.id = v.employer_id\n",
    "           GROUP BY e.id\n",
    "           ORDER BY cnt DESC\n",
    "        )\n",
    "        SELECT *\n",
    "        FROM emp_count\n",
    "        WHERE cnt = (SELECT MAX(cnt) FROM emp_count)\n",
    "        OR cnt = (SELECT cnt FROM emp_count ORDER BY cnt DESC OFFSET 4 LIMIT 1)\n",
    "        '''\n",
    "df['top_1_and_5_employers'] = pd.read_sql_query(query5_1, connection)\n",
    "display(df['top_1_and_5_employers'])  # показываем топ-1 и топ-5 работодателей"
   ]
  },
  {
   "cell_type": "code",
   "execution_count": 72,
   "id": "69f7c447",
   "metadata": {},
   "outputs": [
    {
     "data": {
      "text/html": [
       "<div>\n",
       "<style scoped>\n",
       "    .dataframe tbody tr th:only-of-type {\n",
       "        vertical-align: middle;\n",
       "    }\n",
       "\n",
       "    .dataframe tbody tr th {\n",
       "        vertical-align: top;\n",
       "    }\n",
       "\n",
       "    .dataframe thead th {\n",
       "        text-align: right;\n",
       "    }\n",
       "</style>\n",
       "<table border=\"1\" class=\"dataframe\">\n",
       "  <thead>\n",
       "    <tr style=\"text-align: right;\">\n",
       "      <th></th>\n",
       "      <th>area_name</th>\n",
       "      <th>employer_count</th>\n",
       "      <th>vacancy_count</th>\n",
       "    </tr>\n",
       "  </thead>\n",
       "  <tbody>\n",
       "    <tr>\n",
       "      <th>0</th>\n",
       "      <td>Россия</td>\n",
       "      <td>410</td>\n",
       "      <td>0</td>\n",
       "    </tr>\n",
       "  </tbody>\n",
       "</table>\n",
       "</div>"
      ],
      "text/plain": [
       "  area_name  employer_count  vacancy_count\n",
       "0    Россия             410              0"
      ]
     },
     "metadata": {},
     "output_type": "display_data"
    }
   ],
   "source": [
    "# Задание 5.2 — ищем регион без вакансий с максимальным числом работодателей.\n",
    "\n",
    "query5_2 = f'''\n",
    "    SELECT a.name AS area_name,\n",
    "           COUNT(e.id) AS employer_count,\n",
    "           COUNT(v.id) AS vacancy_count\n",
    "    FROM public.areas a\n",
    "    LEFT JOIN public.employers e ON a.id = e.area\n",
    "    LEFT JOIN public.vacancies v ON a.id = v.area_id\n",
    "    GROUP BY a.name\n",
    "    HAVING COUNT(v.id) = 0\n",
    "    ORDER BY employer_count DESC\n",
    "    LIMIT 1\n",
    "'''\n",
    "df['region_with_most_employers_no_vacancies'] = pd.read_sql_query(query5_2, connection)\n",
    "display(df['region_with_most_employers_no_vacancies'])  # показываем найденный регион"
   ]
  },
  {
   "cell_type": "code",
   "execution_count": 73,
   "id": "df6c0389",
   "metadata": {},
   "outputs": [
    {
     "data": {
      "text/html": [
       "<div>\n",
       "<style scoped>\n",
       "    .dataframe tbody tr th:only-of-type {\n",
       "        vertical-align: middle;\n",
       "    }\n",
       "\n",
       "    .dataframe tbody tr th {\n",
       "        vertical-align: top;\n",
       "    }\n",
       "\n",
       "    .dataframe thead th {\n",
       "        text-align: right;\n",
       "    }\n",
       "</style>\n",
       "<table border=\"1\" class=\"dataframe\">\n",
       "  <thead>\n",
       "    <tr style=\"text-align: right;\">\n",
       "      <th></th>\n",
       "      <th>employer_id</th>\n",
       "      <th>employer_name</th>\n",
       "      <th>region_count</th>\n",
       "    </tr>\n",
       "  </thead>\n",
       "  <tbody>\n",
       "    <tr>\n",
       "      <th>0</th>\n",
       "      <td>1740</td>\n",
       "      <td>Яндекс</td>\n",
       "      <td>181</td>\n",
       "    </tr>\n",
       "    <tr>\n",
       "      <th>1</th>\n",
       "      <td>2748</td>\n",
       "      <td>Ростелеком</td>\n",
       "      <td>152</td>\n",
       "    </tr>\n",
       "    <tr>\n",
       "      <th>2</th>\n",
       "      <td>5724811</td>\n",
       "      <td>Спецремонт</td>\n",
       "      <td>116</td>\n",
       "    </tr>\n",
       "    <tr>\n",
       "      <th>3</th>\n",
       "      <td>5130287</td>\n",
       "      <td>Поляков Денис Иванович</td>\n",
       "      <td>88</td>\n",
       "    </tr>\n",
       "    <tr>\n",
       "      <th>4</th>\n",
       "      <td>3682876</td>\n",
       "      <td>ООО ЕФИН</td>\n",
       "      <td>71</td>\n",
       "    </tr>\n",
       "    <tr>\n",
       "      <th>...</th>\n",
       "      <td>...</td>\n",
       "      <td>...</td>\n",
       "      <td>...</td>\n",
       "    </tr>\n",
       "    <tr>\n",
       "      <th>23496</th>\n",
       "      <td>5287515</td>\n",
       "      <td>Но Смокинг</td>\n",
       "      <td>0</td>\n",
       "    </tr>\n",
       "    <tr>\n",
       "      <th>23497</th>\n",
       "      <td>2839354</td>\n",
       "      <td>МАСТЕРСКАЯ CREED</td>\n",
       "      <td>0</td>\n",
       "    </tr>\n",
       "    <tr>\n",
       "      <th>23498</th>\n",
       "      <td>5774578</td>\n",
       "      <td>Dzing Finance</td>\n",
       "      <td>0</td>\n",
       "    </tr>\n",
       "    <tr>\n",
       "      <th>23499</th>\n",
       "      <td>5775069</td>\n",
       "      <td>КОРС</td>\n",
       "      <td>0</td>\n",
       "    </tr>\n",
       "    <tr>\n",
       "      <th>23500</th>\n",
       "      <td>15</td>\n",
       "      <td>Наука-Связь</td>\n",
       "      <td>0</td>\n",
       "    </tr>\n",
       "  </tbody>\n",
       "</table>\n",
       "<p>23501 rows × 3 columns</p>\n",
       "</div>"
      ],
      "text/plain": [
       "       employer_id           employer_name  region_count\n",
       "0             1740                  Яндекс           181\n",
       "1             2748              Ростелеком           152\n",
       "2          5724811              Спецремонт           116\n",
       "3          5130287  Поляков Денис Иванович            88\n",
       "4          3682876               ООО ЕФИН             71\n",
       "...            ...                     ...           ...\n",
       "23496      5287515              Но Смокинг             0\n",
       "23497      2839354        МАСТЕРСКАЯ CREED             0\n",
       "23498      5774578           Dzing Finance             0\n",
       "23499      5775069                    КОРС             0\n",
       "23500           15             Наука-Связь             0\n",
       "\n",
       "[23501 rows x 3 columns]"
      ]
     },
     "metadata": {},
     "output_type": "display_data"
    }
   ],
   "source": [
    "# Задание 5.3 — считаем для каждого работодателя число уникальных регионов публикации вакансий.\n",
    "\n",
    "query5_3 = f'''\n",
    "    SELECT e.id AS employer_id,\n",
    "           e.name AS employer_name,\n",
    "           COUNT(DISTINCT v.area_id) AS region_count\n",
    "    FROM public.employers e\n",
    "    LEFT JOIN public.vacancies v ON e.id = v.employer_id\n",
    "    GROUP BY e.id, e.name\n",
    "    ORDER BY region_count DESC\n",
    "'''\n",
    "df['employer_region_counts'] = pd.read_sql_query(query5_3, connection)\n",
    "display(df['employer_region_counts'])  # показываем работодателей и число регионов"
   ]
  },
  {
   "cell_type": "code",
   "execution_count": 74,
   "id": "b77dcbbe",
   "metadata": {},
   "outputs": [
    {
     "data": {
      "text/html": [
       "<div>\n",
       "<style scoped>\n",
       "    .dataframe tbody tr th:only-of-type {\n",
       "        vertical-align: middle;\n",
       "    }\n",
       "\n",
       "    .dataframe tbody tr th {\n",
       "        vertical-align: top;\n",
       "    }\n",
       "\n",
       "    .dataframe thead th {\n",
       "        text-align: right;\n",
       "    }\n",
       "</style>\n",
       "<table border=\"1\" class=\"dataframe\">\n",
       "  <thead>\n",
       "    <tr style=\"text-align: right;\">\n",
       "      <th></th>\n",
       "      <th>employer_count</th>\n",
       "    </tr>\n",
       "  </thead>\n",
       "  <tbody>\n",
       "    <tr>\n",
       "      <th>0</th>\n",
       "      <td>8419</td>\n",
       "    </tr>\n",
       "  </tbody>\n",
       "</table>\n",
       "</div>"
      ],
      "text/plain": [
       "   employer_count\n",
       "0            8419"
      ]
     },
     "metadata": {},
     "output_type": "display_data"
    }
   ],
   "source": [
    "# Задание 5.4 — считаем работодателей без указания сферы деятельности.\n",
    "\n",
    "query5_4 = f'''\n",
    "    SELECT COUNT(*) AS employer_count\n",
    "    FROM public.employers e\n",
    "    left join public.employers_industries ei on e.id = ei.employer_id\n",
    "    WHERE ei.industry_id is null\n",
    "'''\n",
    "df['employers_no_industry'] = pd.read_sql_query(query5_4, connection)\n",
    "display(df['employers_no_industry'])  # показываем число таких работодателей"
   ]
  },
  {
   "cell_type": "code",
   "execution_count": 75,
   "id": "317c1cf6",
   "metadata": {},
   "outputs": [
    {
     "data": {
      "text/html": [
       "<div>\n",
       "<style scoped>\n",
       "    .dataframe tbody tr th:only-of-type {\n",
       "        vertical-align: middle;\n",
       "    }\n",
       "\n",
       "    .dataframe tbody tr th {\n",
       "        vertical-align: top;\n",
       "    }\n",
       "\n",
       "    .dataframe thead th {\n",
       "        text-align: right;\n",
       "    }\n",
       "</style>\n",
       "<table border=\"1\" class=\"dataframe\">\n",
       "  <thead>\n",
       "    <tr style=\"text-align: right;\">\n",
       "      <th></th>\n",
       "      <th>employer_name</th>\n",
       "    </tr>\n",
       "  </thead>\n",
       "  <tbody>\n",
       "    <tr>\n",
       "      <th>0</th>\n",
       "      <td>2ГИС</td>\n",
       "    </tr>\n",
       "  </tbody>\n",
       "</table>\n",
       "</div>"
      ],
      "text/plain": [
       "  employer_name\n",
       "0          2ГИС"
      ]
     },
     "metadata": {},
     "output_type": "display_data"
    }
   ],
   "source": [
    "# Задание 5.5 — находим третью компанию в алфавите среди компаний с ровно 4 сферами деятельности.\n",
    "\n",
    "query5_5 = f'''\n",
    "    SELECT e.name AS employer_name\n",
    "    FROM public.employers e\n",
    "    JOIN public.employers_industries ei ON e.id = ei.employer_id\n",
    "    GROUP BY e.id, e.name\n",
    "    HAVING COUNT(ei.industry_id) = 4\n",
    "    ORDER BY e.name\n",
    "    LIMIT 1 OFFSET 2\n",
    "'''\n",
    "df['third_employer_with_four_industries'] = pd.read_sql_query(query5_5, connection)\n",
    "display(df['third_employer_with_four_industries'])  # выводим название компании"
   ]
  },
  {
   "cell_type": "code",
   "execution_count": 76,
   "id": "2b4f655e",
   "metadata": {},
   "outputs": [
    {
     "data": {
      "text/html": [
       "<div>\n",
       "<style scoped>\n",
       "    .dataframe tbody tr th:only-of-type {\n",
       "        vertical-align: middle;\n",
       "    }\n",
       "\n",
       "    .dataframe tbody tr th {\n",
       "        vertical-align: top;\n",
       "    }\n",
       "\n",
       "    .dataframe thead th {\n",
       "        text-align: right;\n",
       "    }\n",
       "</style>\n",
       "<table border=\"1\" class=\"dataframe\">\n",
       "  <thead>\n",
       "    <tr style=\"text-align: right;\">\n",
       "      <th></th>\n",
       "      <th>employer_count</th>\n",
       "    </tr>\n",
       "  </thead>\n",
       "  <tbody>\n",
       "    <tr>\n",
       "      <th>0</th>\n",
       "      <td>3553</td>\n",
       "    </tr>\n",
       "  </tbody>\n",
       "</table>\n",
       "</div>"
      ],
      "text/plain": [
       "   employer_count\n",
       "0            3553"
      ]
     },
     "metadata": {},
     "output_type": "display_data"
    }
   ],
   "source": [
    "# Задание 5.6 — считаем работодателей, у которых в списке сфер есть 'Разработка программного обеспечения'.\n",
    "\n",
    "query5_6 = f'''\n",
    "    SELECT COUNT(DISTINCT e.id) AS employer_count\n",
    "    FROM public.employers e\n",
    "    JOIN public.employers_industries ei ON e.id = ei.employer_id\n",
    "    WHERE ei.industry_id = (SELECT id FROM public.industries WHERE name = 'Разработка программного обеспечения')\n",
    "'''\n",
    "df['employers_with_software_development'] = pd.read_sql_query(query5_6, connection)\n",
    "display(df['employers_with_software_development'])  # показываем результат"
   ]
  },
  {
   "cell_type": "code",
   "execution_count": null,
   "id": "22771ceb",
   "metadata": {},
   "outputs": [
    {
     "data": {
      "text/html": [
       "<div>\n",
       "<style scoped>\n",
       "    .dataframe tbody tr th:only-of-type {\n",
       "        vertical-align: middle;\n",
       "    }\n",
       "\n",
       "    .dataframe tbody tr th {\n",
       "        vertical-align: top;\n",
       "    }\n",
       "\n",
       "    .dataframe thead th {\n",
       "        text-align: right;\n",
       "    }\n",
       "</style>\n",
       "<table border=\"1\" class=\"dataframe\">\n",
       "  <thead>\n",
       "    <tr style=\"text-align: right;\">\n",
       "      <th></th>\n",
       "      <th>area_name</th>\n",
       "      <th>vacancy_count</th>\n",
       "    </tr>\n",
       "  </thead>\n",
       "  <tbody>\n",
       "    <tr>\n",
       "      <th>0</th>\n",
       "      <td>Москва</td>\n",
       "      <td>54</td>\n",
       "    </tr>\n",
       "    <tr>\n",
       "      <th>1</th>\n",
       "      <td>Санкт-Петербург</td>\n",
       "      <td>42</td>\n",
       "    </tr>\n",
       "    <tr>\n",
       "      <th>2</th>\n",
       "      <td>Екатеринбург</td>\n",
       "      <td>39</td>\n",
       "    </tr>\n",
       "    <tr>\n",
       "      <th>3</th>\n",
       "      <td>Новосибирск</td>\n",
       "      <td>35</td>\n",
       "    </tr>\n",
       "    <tr>\n",
       "      <th>4</th>\n",
       "      <td>Волгоград</td>\n",
       "      <td>24</td>\n",
       "    </tr>\n",
       "    <tr>\n",
       "      <th>5</th>\n",
       "      <td>Воронеж</td>\n",
       "      <td>32</td>\n",
       "    </tr>\n",
       "    <tr>\n",
       "      <th>6</th>\n",
       "      <td>Краснодар</td>\n",
       "      <td>30</td>\n",
       "    </tr>\n",
       "    <tr>\n",
       "      <th>7</th>\n",
       "      <td>Красноярск</td>\n",
       "      <td>23</td>\n",
       "    </tr>\n",
       "    <tr>\n",
       "      <th>8</th>\n",
       "      <td>Нижний Новгород</td>\n",
       "      <td>36</td>\n",
       "    </tr>\n",
       "    <tr>\n",
       "      <th>9</th>\n",
       "      <td>Омск</td>\n",
       "      <td>21</td>\n",
       "    </tr>\n",
       "    <tr>\n",
       "      <th>10</th>\n",
       "      <td>Пермь</td>\n",
       "      <td>25</td>\n",
       "    </tr>\n",
       "    <tr>\n",
       "      <th>11</th>\n",
       "      <td>Ростов-на-Дону</td>\n",
       "      <td>25</td>\n",
       "    </tr>\n",
       "    <tr>\n",
       "      <th>12</th>\n",
       "      <td>Самара</td>\n",
       "      <td>26</td>\n",
       "    </tr>\n",
       "    <tr>\n",
       "      <th>13</th>\n",
       "      <td>Казань</td>\n",
       "      <td>25</td>\n",
       "    </tr>\n",
       "    <tr>\n",
       "      <th>14</th>\n",
       "      <td>Уфа</td>\n",
       "      <td>26</td>\n",
       "    </tr>\n",
       "    <tr>\n",
       "      <th>15</th>\n",
       "      <td>Челябинск</td>\n",
       "      <td>22</td>\n",
       "    </tr>\n",
       "    <tr>\n",
       "      <th>16</th>\n",
       "      <td>Total</td>\n",
       "      <td>1933</td>\n",
       "    </tr>\n",
       "  </tbody>\n",
       "</table>\n",
       "</div>"
      ],
      "text/plain": [
       "          area_name  vacancy_count\n",
       "0            Москва             54\n",
       "1   Санкт-Петербург             42\n",
       "2      Екатеринбург             39\n",
       "3       Новосибирск             35\n",
       "4         Волгоград             24\n",
       "5           Воронеж             32\n",
       "6         Краснодар             30\n",
       "7        Красноярск             23\n",
       "8   Нижний Новгород             36\n",
       "9              Омск             21\n",
       "10            Пермь             25\n",
       "11   Ростов-на-Дону             25\n",
       "12           Самара             26\n",
       "13           Казань             25\n",
       "14              Уфа             26\n",
       "15        Челябинск             22\n",
       "16            Total           1933"
      ]
     },
     "metadata": {},
     "output_type": "display_data"
    }
   ],
   "source": [
    "# Задание 5.7 — для 'Яндекс' собираем вакансии по крупным городам (миллионникам) и добавляем строку Total.\n",
    "\n",
    "# Сначала получаем список городов-миллионников из Википедии.\n",
    "import requests\n",
    "from bs4 import BeautifulSoup\n",
    "\n",
    "url = 'https://ru.wikipedia.org/wiki/Города-миллионеры_России'\n",
    "headers = {'User-Agent': 'Mozilla/5.0'}\n",
    "\n",
    "# Запрашиваем страницу и парсим HTML\n",
    "response = requests.get(url, headers=headers)\n",
    "soup = BeautifulSoup(response.text, 'html.parser')\n",
    "\n",
    "# Находим первый элемент <table> на странице\n",
    "table_html = soup.find('table')\n",
    "\n",
    "# Парсим только эту таблицу в DataFrame\n",
    "cities_df = pd.read_html(str(table_html))[0]\n",
    "\n",
    "cities = tuple(cities_df['Город'].str.replace('\\xa0', ' ').str.strip())\n",
    "\n",
    "\n",
    "query5_7 = f'''\n",
    "    SELECT a.name AS area_name,\n",
    "           COUNT(v.id) AS vacancy_count\n",
    "    FROM public.vacancies v\n",
    "    JOIN public.areas a ON v.area_id = a.id\n",
    "    WHERE v.employer_id = (SELECT id FROM public.employers WHERE name = 'Яндекс')\n",
    "      AND a.name IN {cities}\n",
    "    GROUP BY a.id, a.name\n",
    "    UNION ALL\n",
    "    SELECT 'Total' AS area_name,\n",
    "           COUNT(v.id) AS vacancy_count\n",
    "    FROM public.vacancies v\n",
    "    WHERE v.employer_id = (SELECT id FROM public.employers WHERE name = 'Яндекс')\n",
    "'''\n",
    "df['yandex_millionaire_areas'] = pd.read_sql_query(query5_7, connection)\n",
    "display(df['yandex_millionaire_areas'])  # выводим таблицу по Яндексу"
   ]
  },
  {
   "cell_type": "code",
   "execution_count": null,
   "id": "8324fea2",
   "metadata": {},
   "outputs": [
    {
     "data": {
      "text/html": [
       "<div>\n",
       "<style scoped>\n",
       "    .dataframe tbody tr th:only-of-type {\n",
       "        vertical-align: middle;\n",
       "    }\n",
       "\n",
       "    .dataframe tbody tr th {\n",
       "        vertical-align: top;\n",
       "    }\n",
       "\n",
       "    .dataframe thead th {\n",
       "        text-align: right;\n",
       "    }\n",
       "</style>\n",
       "<table border=\"1\" class=\"dataframe\">\n",
       "  <thead>\n",
       "    <tr style=\"text-align: right;\">\n",
       "      <th></th>\n",
       "      <th>vacancy_count</th>\n",
       "    </tr>\n",
       "  </thead>\n",
       "  <tbody>\n",
       "    <tr>\n",
       "      <th>0</th>\n",
       "      <td>1771</td>\n",
       "    </tr>\n",
       "  </tbody>\n",
       "</table>\n",
       "</div>"
      ],
      "text/plain": [
       "   vacancy_count\n",
       "0           1771"
      ]
     },
     "metadata": {},
     "output_type": "display_data"
    }
   ],
   "source": [
    "# Задание 6.1 — считаем вакансии, в названии которых встречаются 'data' или 'данн' (регистронезависимо).\n",
    "\n",
    "query6_1 = f'''\n",
    "    SELECT COUNT(*) AS vacancy_count\n",
    "    FROM public.vacancies\n",
    "    WHERE LOWER(name) LIKE '%data%' OR LOWER(name) LIKE '%данн%'\n",
    "'''\n",
    "df['vacancies_related_to_data'] = pd.read_sql_query(query6_1, connection)\n",
    "display(df['vacancies_related_to_data'])  # показываем количество вакансий, связанных с данными"
   ]
  },
  {
   "cell_type": "code",
   "execution_count": null,
   "id": "3866be51",
   "metadata": {},
   "outputs": [
    {
     "data": {
      "text/html": [
       "<div>\n",
       "<style scoped>\n",
       "    .dataframe tbody tr th:only-of-type {\n",
       "        vertical-align: middle;\n",
       "    }\n",
       "\n",
       "    .dataframe tbody tr th {\n",
       "        vertical-align: top;\n",
       "    }\n",
       "\n",
       "    .dataframe thead th {\n",
       "        text-align: right;\n",
       "    }\n",
       "</style>\n",
       "<table border=\"1\" class=\"dataframe\">\n",
       "  <thead>\n",
       "    <tr style=\"text-align: right;\">\n",
       "      <th></th>\n",
       "      <th>data_science_vacancy</th>\n",
       "      <th>number_of_vacancies</th>\n",
       "    </tr>\n",
       "  </thead>\n",
       "  <tbody>\n",
       "    <tr>\n",
       "      <th>0</th>\n",
       "      <td>Data Scientist</td>\n",
       "      <td>1</td>\n",
       "    </tr>\n",
       "    <tr>\n",
       "      <th>1</th>\n",
       "      <td>Data Scientist (Computer Vision) - Junior</td>\n",
       "      <td>1</td>\n",
       "    </tr>\n",
       "    <tr>\n",
       "      <th>2</th>\n",
       "      <td>Data Scientist (Computer Vision) / Junior</td>\n",
       "      <td>1</td>\n",
       "    </tr>\n",
       "    <tr>\n",
       "      <th>3</th>\n",
       "      <td>Data Scientist (Junior)</td>\n",
       "      <td>1</td>\n",
       "    </tr>\n",
       "    <tr>\n",
       "      <th>4</th>\n",
       "      <td>Data Scientist (Junior+)</td>\n",
       "      <td>1</td>\n",
       "    </tr>\n",
       "    <tr>\n",
       "      <th>5</th>\n",
       "      <td>Data Scientist, Junior</td>\n",
       "      <td>2</td>\n",
       "    </tr>\n",
       "    <tr>\n",
       "      <th>6</th>\n",
       "      <td>Data Scientist (junior+/middle)</td>\n",
       "      <td>1</td>\n",
       "    </tr>\n",
       "    <tr>\n",
       "      <th>7</th>\n",
       "      <td>Data scientist (Junior/Middle) в консалтинг</td>\n",
       "      <td>1</td>\n",
       "    </tr>\n",
       "    <tr>\n",
       "      <th>8</th>\n",
       "      <td>Data Scientist/Machine Learning Engineer (Deve...</td>\n",
       "      <td>3</td>\n",
       "    </tr>\n",
       "    <tr>\n",
       "      <th>9</th>\n",
       "      <td>Data Scientist/ML engineer (Python/C++)</td>\n",
       "      <td>1</td>\n",
       "    </tr>\n",
       "    <tr>\n",
       "      <th>10</th>\n",
       "      <td>Data Scientist в Сбер</td>\n",
       "      <td>1</td>\n",
       "    </tr>\n",
       "    <tr>\n",
       "      <th>11</th>\n",
       "      <td>Intern/Junior Data Scientist</td>\n",
       "      <td>1</td>\n",
       "    </tr>\n",
       "    <tr>\n",
       "      <th>12</th>\n",
       "      <td>Junior+ CV/ML developer</td>\n",
       "      <td>1</td>\n",
       "    </tr>\n",
       "    <tr>\n",
       "      <th>13</th>\n",
       "      <td>Junior Data Scientist</td>\n",
       "      <td>3</td>\n",
       "    </tr>\n",
       "    <tr>\n",
       "      <th>14</th>\n",
       "      <td>Junior Data Scientist for NLP (Python)</td>\n",
       "      <td>1</td>\n",
       "    </tr>\n",
       "    <tr>\n",
       "      <th>15</th>\n",
       "      <td>Junior Data Scientist (Promo Forecast)</td>\n",
       "      <td>1</td>\n",
       "    </tr>\n",
       "    <tr>\n",
       "      <th>16</th>\n",
       "      <td>Junior Data Scientist (VK)</td>\n",
       "      <td>1</td>\n",
       "    </tr>\n",
       "    <tr>\n",
       "      <th>17</th>\n",
       "      <td>Junior Data Scientist (Валидация скоринговых м...</td>\n",
       "      <td>9</td>\n",
       "    </tr>\n",
       "    <tr>\n",
       "      <th>18</th>\n",
       "      <td>Junior Data Scientist (математик-аналитик) уда...</td>\n",
       "      <td>1</td>\n",
       "    </tr>\n",
       "    <tr>\n",
       "      <th>19</th>\n",
       "      <td>Junior Data scientist/ Младший риск-аналитик</td>\n",
       "      <td>1</td>\n",
       "    </tr>\n",
       "    <tr>\n",
       "      <th>20</th>\n",
       "      <td>Junior Data Scientist (Стажер)</td>\n",
       "      <td>1</td>\n",
       "    </tr>\n",
       "    <tr>\n",
       "      <th>21</th>\n",
       "      <td>Junior Data Scientist Управления модельных рис...</td>\n",
       "      <td>1</td>\n",
       "    </tr>\n",
       "    <tr>\n",
       "      <th>22</th>\n",
       "      <td>Junior/Middle Data Scientist</td>\n",
       "      <td>1</td>\n",
       "    </tr>\n",
       "    <tr>\n",
       "      <th>23</th>\n",
       "      <td>Junior Research Engineer / Data Scientist</td>\n",
       "      <td>1</td>\n",
       "    </tr>\n",
       "    <tr>\n",
       "      <th>24</th>\n",
       "      <td>Python developer / Junior ML engineer</td>\n",
       "      <td>1</td>\n",
       "    </tr>\n",
       "    <tr>\n",
       "      <th>25</th>\n",
       "      <td>Research Engineer / Data Scientist</td>\n",
       "      <td>1</td>\n",
       "    </tr>\n",
       "    <tr>\n",
       "      <th>26</th>\n",
       "      <td>Senior Data Scientist (AI)</td>\n",
       "      <td>1</td>\n",
       "    </tr>\n",
       "    <tr>\n",
       "      <th>27</th>\n",
       "      <td>Senior Research Engineer / Data Scientist</td>\n",
       "      <td>1</td>\n",
       "    </tr>\n",
       "    <tr>\n",
       "      <th>28</th>\n",
       "      <td>Ведущий AI/ML инженер</td>\n",
       "      <td>2</td>\n",
       "    </tr>\n",
       "    <tr>\n",
       "      <th>29</th>\n",
       "      <td>Исследователь в области машинного обучения и м...</td>\n",
       "      <td>1</td>\n",
       "    </tr>\n",
       "    <tr>\n",
       "      <th>30</th>\n",
       "      <td>Математик, Junior/Middle/Senior Data Scientist</td>\n",
       "      <td>1</td>\n",
       "    </tr>\n",
       "    <tr>\n",
       "      <th>31</th>\n",
       "      <td>Математик-аналитик (data scientist / data anal...</td>\n",
       "      <td>1</td>\n",
       "    </tr>\n",
       "    <tr>\n",
       "      <th>32</th>\n",
       "      <td>Программист Python/ Data Scientist (junior / m...</td>\n",
       "      <td>1</td>\n",
       "    </tr>\n",
       "    <tr>\n",
       "      <th>33</th>\n",
       "      <td>Риск - Аналитик (Junior Data scientist)</td>\n",
       "      <td>1</td>\n",
       "    </tr>\n",
       "    <tr>\n",
       "      <th>34</th>\n",
       "      <td>Риск-аналитик (ML Engineer / Data Scientist)</td>\n",
       "      <td>1</td>\n",
       "    </tr>\n",
       "    <tr>\n",
       "      <th>35</th>\n",
       "      <td>Стажер направления Машинное обучение и анализ ...</td>\n",
       "      <td>1</td>\n",
       "    </tr>\n",
       "    <tr>\n",
       "      <th>36</th>\n",
       "      <td>Стажёр Data Scientist / Группа сервисов Антифр...</td>\n",
       "      <td>1</td>\n",
       "    </tr>\n",
       "    <tr>\n",
       "      <th>37</th>\n",
       "      <td>total</td>\n",
       "      <td>51</td>\n",
       "    </tr>\n",
       "  </tbody>\n",
       "</table>\n",
       "</div>"
      ],
      "text/plain": [
       "                                 data_science_vacancy  number_of_vacancies\n",
       "0                                      Data Scientist                    1\n",
       "1           Data Scientist (Computer Vision) - Junior                    1\n",
       "2           Data Scientist (Computer Vision) / Junior                    1\n",
       "3                             Data Scientist (Junior)                    1\n",
       "4                            Data Scientist (Junior+)                    1\n",
       "5                              Data Scientist, Junior                    2\n",
       "6                     Data Scientist (junior+/middle)                    1\n",
       "7         Data scientist (Junior/Middle) в консалтинг                    1\n",
       "8   Data Scientist/Machine Learning Engineer (Deve...                    3\n",
       "9             Data Scientist/ML engineer (Python/C++)                    1\n",
       "10                              Data Scientist в Сбер                    1\n",
       "11                       Intern/Junior Data Scientist                    1\n",
       "12                            Junior+ CV/ML developer                    1\n",
       "13                              Junior Data Scientist                    3\n",
       "14             Junior Data Scientist for NLP (Python)                    1\n",
       "15             Junior Data Scientist (Promo Forecast)                    1\n",
       "16                         Junior Data Scientist (VK)                    1\n",
       "17  Junior Data Scientist (Валидация скоринговых м...                    9\n",
       "18  Junior Data Scientist (математик-аналитик) уда...                    1\n",
       "19       Junior Data scientist/ Младший риск-аналитик                    1\n",
       "20                     Junior Data Scientist (Стажер)                    1\n",
       "21  Junior Data Scientist Управления модельных рис...                    1\n",
       "22                       Junior/Middle Data Scientist                    1\n",
       "23          Junior Research Engineer / Data Scientist                    1\n",
       "24              Python developer / Junior ML engineer                    1\n",
       "25                 Research Engineer / Data Scientist                    1\n",
       "26                         Senior Data Scientist (AI)                    1\n",
       "27          Senior Research Engineer / Data Scientist                    1\n",
       "28                              Ведущий AI/ML инженер                    2\n",
       "29  Исследователь в области машинного обучения и м...                    1\n",
       "30     Математик, Junior/Middle/Senior Data Scientist                    1\n",
       "31  Математик-аналитик (data scientist / data anal...                    1\n",
       "32  Программист Python/ Data Scientist (junior / m...                    1\n",
       "33            Риск - Аналитик (Junior Data scientist)                    1\n",
       "34       Риск-аналитик (ML Engineer / Data Scientist)                    1\n",
       "35  Стажер направления Машинное обучение и анализ ...                    1\n",
       "36  Стажёр Data Scientist / Группа сервисов Антифр...                    1\n",
       "37                                              total                   51"
      ]
     },
     "metadata": {},
     "output_type": "display_data"
    }
   ],
   "source": [
    "# Задание 6.2 — ищем вакансии для начинающих DS по набору ключевых слов в названии и по признакам 'junior'.\n",
    "# Запрос состоит из двух частей: детализированный список по названиям и итоговый 'total'.\n",
    "\n",
    "query6_2 = f'''\n",
    "SELECT\n",
    "    v.name AS data_science_vacancy,\n",
    "    COUNT(v.id) AS number_of_vacancies\n",
    "FROM public.vacancies v\n",
    "WHERE (\n",
    "    LOWER(v.name) LIKE '%data scientist%' OR\n",
    "    LOWER(v.name) LIKE '%data science%' OR\n",
    "    LOWER(v.name) LIKE '%исследователь данных%' OR\n",
    "    (LOWER(v.name) LIKE '%ml%' AND LOWER(v.name) NOT LIKE '%html%') OR\n",
    "    LOWER(v.name) LIKE '%machine learning%' OR\n",
    "    (LOWER(v.name) LIKE '%машинн%' AND LOWER(v.name) LIKE '%обучен%')\n",
    ")\n",
    "AND (\n",
    "    LOWER(v.name) LIKE '%junior%' OR\n",
    "    LOWER(v.experience) LIKE '%нет опыта%' OR\n",
    "    LOWER(v.employment) LIKE '%стажировка%'\n",
    ")\n",
    "GROUP BY v.name\n",
    "\n",
    "UNION ALL\n",
    "\n",
    "SELECT\n",
    "    'total' AS data_science_vacancy,\n",
    "    COUNT(v.id) AS number_of_vacancies\n",
    "FROM public.vacancies v\n",
    "WHERE (\n",
    "    LOWER(v.name) LIKE '%data scientist%' OR\n",
    "    LOWER(v.name) LIKE '%data science%' OR\n",
    "    LOWER(v.name) LIKE '%исследователь данных%' OR\n",
    "    (LOWER(v.name) LIKE '%ml%' AND LOWER(v.name) NOT LIKE '%html%') OR\n",
    "    LOWER(v.name) LIKE '%machine learning%' OR\n",
    "    (LOWER(v.name) LIKE '%машинн%' AND LOWER(v.name) LIKE '%обучен%')\n",
    ")\n",
    "AND (\n",
    "    LOWER(v.name) LIKE '%junior%' OR\n",
    "    LOWER(v.experience) LIKE '%нет опыта%' OR\n",
    "    LOWER(v.employment) LIKE '%стажировка%'\n",
    ")\n",
    "\n",
    "'''\n",
    "df['junior_vacancies_related_to_data_science'] = pd.read_sql_query(query6_2, connection)\n",
    "display(df['junior_vacancies_related_to_data_science'])  # показываем найденные вакансии"
   ]
  },
  {
   "cell_type": "code",
   "execution_count": null,
   "id": "813f6e06",
   "metadata": {},
   "outputs": [
    {
     "data": {
      "text/html": [
       "<div>\n",
       "<style scoped>\n",
       "    .dataframe tbody tr th:only-of-type {\n",
       "        vertical-align: middle;\n",
       "    }\n",
       "\n",
       "    .dataframe tbody tr th {\n",
       "        vertical-align: top;\n",
       "    }\n",
       "\n",
       "    .dataframe thead th {\n",
       "        text-align: right;\n",
       "    }\n",
       "</style>\n",
       "<table border=\"1\" class=\"dataframe\">\n",
       "  <thead>\n",
       "    <tr style=\"text-align: right;\">\n",
       "      <th></th>\n",
       "      <th>data_science_vacancy</th>\n",
       "      <th>junior_number_of_vacancies</th>\n",
       "    </tr>\n",
       "  </thead>\n",
       "  <tbody>\n",
       "    <tr>\n",
       "      <th>0</th>\n",
       "      <td>Junior Research Engineer / Data Scientist</td>\n",
       "      <td>1</td>\n",
       "    </tr>\n",
       "    <tr>\n",
       "      <th>1</th>\n",
       "      <td>Data scientist (Junior/Middle) в консалтинг</td>\n",
       "      <td>1</td>\n",
       "    </tr>\n",
       "    <tr>\n",
       "      <th>2</th>\n",
       "      <td>Intern/Junior Data Scientist</td>\n",
       "      <td>1</td>\n",
       "    </tr>\n",
       "    <tr>\n",
       "      <th>3</th>\n",
       "      <td>Senior Data Scientist (AI)</td>\n",
       "      <td>1</td>\n",
       "    </tr>\n",
       "    <tr>\n",
       "      <th>4</th>\n",
       "      <td>Риск - Аналитик (Junior Data scientist)</td>\n",
       "      <td>1</td>\n",
       "    </tr>\n",
       "    <tr>\n",
       "      <th>5</th>\n",
       "      <td>Junior Data Scientist</td>\n",
       "      <td>3</td>\n",
       "    </tr>\n",
       "    <tr>\n",
       "      <th>6</th>\n",
       "      <td>Data Scientist, Junior</td>\n",
       "      <td>2</td>\n",
       "    </tr>\n",
       "    <tr>\n",
       "      <th>7</th>\n",
       "      <td>Junior Data Scientist (Promo Forecast)</td>\n",
       "      <td>1</td>\n",
       "    </tr>\n",
       "    <tr>\n",
       "      <th>8</th>\n",
       "      <td>Junior+ CV/ML developer</td>\n",
       "      <td>1</td>\n",
       "    </tr>\n",
       "    <tr>\n",
       "      <th>9</th>\n",
       "      <td>Python developer / Junior ML engineer</td>\n",
       "      <td>1</td>\n",
       "    </tr>\n",
       "    <tr>\n",
       "      <th>10</th>\n",
       "      <td>Стажёр Data Scientist / Группа сервисов Антифр...</td>\n",
       "      <td>1</td>\n",
       "    </tr>\n",
       "    <tr>\n",
       "      <th>11</th>\n",
       "      <td>Junior Data Scientist for NLP (Python)</td>\n",
       "      <td>1</td>\n",
       "    </tr>\n",
       "    <tr>\n",
       "      <th>12</th>\n",
       "      <td>Junior Data Scientist Управления модельных рис...</td>\n",
       "      <td>1</td>\n",
       "    </tr>\n",
       "    <tr>\n",
       "      <th>13</th>\n",
       "      <td>Junior Data scientist/ Младший риск-аналитик</td>\n",
       "      <td>1</td>\n",
       "    </tr>\n",
       "    <tr>\n",
       "      <th>14</th>\n",
       "      <td>Senior Research Engineer / Data Scientist</td>\n",
       "      <td>1</td>\n",
       "    </tr>\n",
       "    <tr>\n",
       "      <th>15</th>\n",
       "      <td>Риск-аналитик (ML Engineer / Data Scientist)</td>\n",
       "      <td>1</td>\n",
       "    </tr>\n",
       "    <tr>\n",
       "      <th>16</th>\n",
       "      <td>Junior Data Scientist (Валидация скоринговых м...</td>\n",
       "      <td>9</td>\n",
       "    </tr>\n",
       "    <tr>\n",
       "      <th>17</th>\n",
       "      <td>Математик-аналитик (data scientist / data anal...</td>\n",
       "      <td>1</td>\n",
       "    </tr>\n",
       "    <tr>\n",
       "      <th>18</th>\n",
       "      <td>Junior/Middle Data Scientist</td>\n",
       "      <td>1</td>\n",
       "    </tr>\n",
       "    <tr>\n",
       "      <th>19</th>\n",
       "      <td>Junior Data Scientist (Стажер)</td>\n",
       "      <td>1</td>\n",
       "    </tr>\n",
       "    <tr>\n",
       "      <th>20</th>\n",
       "      <td>Ведущий AI/ML инженер</td>\n",
       "      <td>2</td>\n",
       "    </tr>\n",
       "    <tr>\n",
       "      <th>21</th>\n",
       "      <td>Исследователь в области машинного обучения и м...</td>\n",
       "      <td>1</td>\n",
       "    </tr>\n",
       "    <tr>\n",
       "      <th>22</th>\n",
       "      <td>Стажер направления Машинное обучение и анализ ...</td>\n",
       "      <td>1</td>\n",
       "    </tr>\n",
       "    <tr>\n",
       "      <th>23</th>\n",
       "      <td>Data Scientist (Computer Vision) - Junior</td>\n",
       "      <td>1</td>\n",
       "    </tr>\n",
       "    <tr>\n",
       "      <th>24</th>\n",
       "      <td>Research Engineer / Data Scientist</td>\n",
       "      <td>1</td>\n",
       "    </tr>\n",
       "    <tr>\n",
       "      <th>25</th>\n",
       "      <td>Junior Data Scientist (VK)</td>\n",
       "      <td>1</td>\n",
       "    </tr>\n",
       "    <tr>\n",
       "      <th>26</th>\n",
       "      <td>Data Scientist (Junior+)</td>\n",
       "      <td>1</td>\n",
       "    </tr>\n",
       "    <tr>\n",
       "      <th>27</th>\n",
       "      <td>Data Scientist</td>\n",
       "      <td>1</td>\n",
       "    </tr>\n",
       "    <tr>\n",
       "      <th>28</th>\n",
       "      <td>Математик, Junior/Middle/Senior Data Scientist</td>\n",
       "      <td>1</td>\n",
       "    </tr>\n",
       "    <tr>\n",
       "      <th>29</th>\n",
       "      <td>Data Scientist (Computer Vision) / Junior</td>\n",
       "      <td>1</td>\n",
       "    </tr>\n",
       "    <tr>\n",
       "      <th>30</th>\n",
       "      <td>Data Scientist (junior+/middle)</td>\n",
       "      <td>1</td>\n",
       "    </tr>\n",
       "    <tr>\n",
       "      <th>31</th>\n",
       "      <td>Data Scientist/Machine Learning Engineer (Deve...</td>\n",
       "      <td>3</td>\n",
       "    </tr>\n",
       "    <tr>\n",
       "      <th>32</th>\n",
       "      <td>Junior Data Scientist (математик-аналитик) уда...</td>\n",
       "      <td>1</td>\n",
       "    </tr>\n",
       "    <tr>\n",
       "      <th>33</th>\n",
       "      <td>Программист Python/ Data Scientist (junior / m...</td>\n",
       "      <td>1</td>\n",
       "    </tr>\n",
       "    <tr>\n",
       "      <th>34</th>\n",
       "      <td>Data Scientist (Junior)</td>\n",
       "      <td>1</td>\n",
       "    </tr>\n",
       "    <tr>\n",
       "      <th>35</th>\n",
       "      <td>Data Scientist/ML engineer (Python/C++)</td>\n",
       "      <td>1</td>\n",
       "    </tr>\n",
       "    <tr>\n",
       "      <th>36</th>\n",
       "      <td>Data Scientist в Сбер</td>\n",
       "      <td>1</td>\n",
       "    </tr>\n",
       "    <tr>\n",
       "      <th>37</th>\n",
       "      <td>total</td>\n",
       "      <td>51</td>\n",
       "    </tr>\n",
       "  </tbody>\n",
       "</table>\n",
       "</div>"
      ],
      "text/plain": [
       "                                 data_science_vacancy  \\\n",
       "0           Junior Research Engineer / Data Scientist   \n",
       "1         Data scientist (Junior/Middle) в консалтинг   \n",
       "2                        Intern/Junior Data Scientist   \n",
       "3                          Senior Data Scientist (AI)   \n",
       "4             Риск - Аналитик (Junior Data scientist)   \n",
       "5                               Junior Data Scientist   \n",
       "6                              Data Scientist, Junior   \n",
       "7              Junior Data Scientist (Promo Forecast)   \n",
       "8                             Junior+ CV/ML developer   \n",
       "9               Python developer / Junior ML engineer   \n",
       "10  Стажёр Data Scientist / Группа сервисов Антифр...   \n",
       "11             Junior Data Scientist for NLP (Python)   \n",
       "12  Junior Data Scientist Управления модельных рис...   \n",
       "13       Junior Data scientist/ Младший риск-аналитик   \n",
       "14          Senior Research Engineer / Data Scientist   \n",
       "15       Риск-аналитик (ML Engineer / Data Scientist)   \n",
       "16  Junior Data Scientist (Валидация скоринговых м...   \n",
       "17  Математик-аналитик (data scientist / data anal...   \n",
       "18                       Junior/Middle Data Scientist   \n",
       "19                     Junior Data Scientist (Стажер)   \n",
       "20                              Ведущий AI/ML инженер   \n",
       "21  Исследователь в области машинного обучения и м...   \n",
       "22  Стажер направления Машинное обучение и анализ ...   \n",
       "23          Data Scientist (Computer Vision) - Junior   \n",
       "24                 Research Engineer / Data Scientist   \n",
       "25                         Junior Data Scientist (VK)   \n",
       "26                           Data Scientist (Junior+)   \n",
       "27                                     Data Scientist   \n",
       "28     Математик, Junior/Middle/Senior Data Scientist   \n",
       "29          Data Scientist (Computer Vision) / Junior   \n",
       "30                    Data Scientist (junior+/middle)   \n",
       "31  Data Scientist/Machine Learning Engineer (Deve...   \n",
       "32  Junior Data Scientist (математик-аналитик) уда...   \n",
       "33  Программист Python/ Data Scientist (junior / m...   \n",
       "34                            Data Scientist (Junior)   \n",
       "35            Data Scientist/ML engineer (Python/C++)   \n",
       "36                              Data Scientist в Сбер   \n",
       "37                                              total   \n",
       "\n",
       "    junior_number_of_vacancies  \n",
       "0                            1  \n",
       "1                            1  \n",
       "2                            1  \n",
       "3                            1  \n",
       "4                            1  \n",
       "5                            3  \n",
       "6                            2  \n",
       "7                            1  \n",
       "8                            1  \n",
       "9                            1  \n",
       "10                           1  \n",
       "11                           1  \n",
       "12                           1  \n",
       "13                           1  \n",
       "14                           1  \n",
       "15                           1  \n",
       "16                           9  \n",
       "17                           1  \n",
       "18                           1  \n",
       "19                           1  \n",
       "20                           2  \n",
       "21                           1  \n",
       "22                           1  \n",
       "23                           1  \n",
       "24                           1  \n",
       "25                           1  \n",
       "26                           1  \n",
       "27                           1  \n",
       "28                           1  \n",
       "29                           1  \n",
       "30                           1  \n",
       "31                           3  \n",
       "32                           1  \n",
       "33                           1  \n",
       "34                           1  \n",
       "35                           1  \n",
       "36                           1  \n",
       "37                          51  "
      ]
     },
     "metadata": {},
     "output_type": "display_data"
    }
   ],
   "source": [
    "# Задание 6.2 — вариант с CTE (WITH) для повышения читаемости: сначала фильтруем вакансии, затем считаем.\n",
    "\n",
    "query6_2_2 = f'''WITH filtered_vacancies AS (\n",
    "    SELECT v.name, v.id\n",
    "    FROM public.vacancies v\n",
    "    WHERE (\n",
    "        lower(v.name) LIKE '%data scientist%' OR\n",
    "        lower(v.name) LIKE '%data science%' OR\n",
    "        lower(v.name) LIKE '%исследователь данных%' OR\n",
    "        (lower(v.name) LIKE '%ml%' AND lower(v.name) NOT LIKE '%html%') OR\n",
    "        lower(v.name) LIKE '%machine learning%' OR\n",
    "        lower(v.name) LIKE '%машинн%обучен%'\n",
    "    )\n",
    "    AND (\n",
    "        lower(v.name) LIKE '%junior%' OR\n",
    "        lower(v.experience) LIKE '%нет опыта%' OR\n",
    "        lower(v.employment) LIKE '%стажировка%'\n",
    "    )\n",
    ")\n",
    "\n",
    "SELECT\n",
    "    name AS data_science_vacancy,\n",
    "    COUNT(id) AS junior_number_of_vacancies\n",
    "FROM filtered_vacancies\n",
    "GROUP BY name\n",
    "\n",
    "UNION ALL\n",
    "\n",
    "SELECT\n",
    "    'total' AS data_science_vacancy,\n",
    "    COUNT(id) AS junior_number_of_vacancies\n",
    "FROM filtered_vacancies;\n",
    "'''\n",
    "df['junior_vacancies_related_to_data_science_2'] = pd.read_sql_query(query6_2_2, connection)\n",
    "display(df['junior_vacancies_related_to_data_science_2'])  # показываем результат альтернативного запроса"
   ]
  },
  {
   "cell_type": "code",
   "execution_count": null,
   "id": "4dddbf85",
   "metadata": {},
   "outputs": [
    {
     "data": {
      "text/html": [
       "<div>\n",
       "<style scoped>\n",
       "    .dataframe tbody tr th:only-of-type {\n",
       "        vertical-align: middle;\n",
       "    }\n",
       "\n",
       "    .dataframe tbody tr th {\n",
       "        vertical-align: top;\n",
       "    }\n",
       "\n",
       "    .dataframe thead th {\n",
       "        text-align: right;\n",
       "    }\n",
       "</style>\n",
       "<table border=\"1\" class=\"dataframe\">\n",
       "  <thead>\n",
       "    <tr style=\"text-align: right;\">\n",
       "      <th></th>\n",
       "      <th>data_science_vacancy</th>\n",
       "      <th>number_of_vacancies_with_sql_or_postgres</th>\n",
       "    </tr>\n",
       "  </thead>\n",
       "  <tbody>\n",
       "    <tr>\n",
       "      <th>0</th>\n",
       "      <td>Data Science эксперт</td>\n",
       "      <td>1</td>\n",
       "    </tr>\n",
       "    <tr>\n",
       "      <th>1</th>\n",
       "      <td>Аналитик (data science)</td>\n",
       "      <td>1</td>\n",
       "    </tr>\n",
       "    <tr>\n",
       "      <th>2</th>\n",
       "      <td>Data scientist (директор) в управление процесс...</td>\n",
       "      <td>1</td>\n",
       "    </tr>\n",
       "    <tr>\n",
       "      <th>3</th>\n",
       "      <td>Data Scientist (Middle/Senior)</td>\n",
       "      <td>1</td>\n",
       "    </tr>\n",
       "    <tr>\n",
       "      <th>4</th>\n",
       "      <td>Разработчик Golang/Python в команду аналитики ...</td>\n",
       "      <td>1</td>\n",
       "    </tr>\n",
       "    <tr>\n",
       "      <th>...</th>\n",
       "      <td>...</td>\n",
       "      <td>...</td>\n",
       "    </tr>\n",
       "    <tr>\n",
       "      <th>151</th>\n",
       "      <td>C++ разработчик (QML)</td>\n",
       "      <td>1</td>\n",
       "    </tr>\n",
       "    <tr>\n",
       "      <th>152</th>\n",
       "      <td>Data scientist (Прогнозирование спроса)</td>\n",
       "      <td>1</td>\n",
       "    </tr>\n",
       "    <tr>\n",
       "      <th>153</th>\n",
       "      <td>TeamLead Analyst BI (AI Driving Data)</td>\n",
       "      <td>1</td>\n",
       "    </tr>\n",
       "    <tr>\n",
       "      <th>154</th>\n",
       "      <td>TeamLead группы системного администрирования</td>\n",
       "      <td>1</td>\n",
       "    </tr>\n",
       "    <tr>\n",
       "      <th>155</th>\n",
       "      <td>total</td>\n",
       "      <td>229</td>\n",
       "    </tr>\n",
       "  </tbody>\n",
       "</table>\n",
       "<p>156 rows × 2 columns</p>\n",
       "</div>"
      ],
      "text/plain": [
       "                                  data_science_vacancy  \\\n",
       "0                                 Data Science эксперт   \n",
       "1                              Аналитик (data science)   \n",
       "2    Data scientist (директор) в управление процесс...   \n",
       "3                       Data Scientist (Middle/Senior)   \n",
       "4    Разработчик Golang/Python в команду аналитики ...   \n",
       "..                                                 ...   \n",
       "151                              C++ разработчик (QML)   \n",
       "152            Data scientist (Прогнозирование спроса)   \n",
       "153              TeamLead Analyst BI (AI Driving Data)   \n",
       "154       TeamLead группы системного администрирования   \n",
       "155                                              total   \n",
       "\n",
       "     number_of_vacancies_with_sql_or_postgres  \n",
       "0                                           1  \n",
       "1                                           1  \n",
       "2                                           1  \n",
       "3                                           1  \n",
       "4                                           1  \n",
       "..                                        ...  \n",
       "151                                         1  \n",
       "152                                         1  \n",
       "153                                         1  \n",
       "154                                         1  \n",
       "155                                       229  \n",
       "\n",
       "[156 rows x 2 columns]"
      ]
     },
     "metadata": {},
     "output_type": "display_data"
    }
   ],
   "source": [
    "# Задание 6.3 — среди вакансий для DS смотрим, где в ключевых навыках указаны SQL или Postgres.\n",
    "\n",
    "query6_3 = f'''WITH filtered_vacancies AS (\n",
    "    SELECT v.name, v.id, v.key_skills\n",
    "    FROM public.vacancies v\n",
    "    WHERE (\n",
    "        LOWER(v.name) LIKE '%data scientist%' OR\n",
    "        LOWER(v.name) LIKE '%data science%' OR\n",
    "        LOWER(v.name) LIKE '%исследователь данных%' OR\n",
    "        (LOWER(v.name) LIKE '%ml%' AND LOWER(v.name) NOT LIKE '%html%') OR\n",
    "        LOWER(v.name) LIKE '%machine learning%' OR\n",
    "        (LOWER(v.name) LIKE '%машинн%' AND LOWER(v.name) LIKE '%обучен%')\n",
    "    )\n",
    ")\n",
    "\n",
    "SELECT\n",
    "    name AS data_science_vacancy,\n",
    "    COUNT(id) AS number_of_vacancies_with_sql_or_postgres\n",
    "FROM filtered_vacancies\n",
    "WHERE LOWER(key_skills) LIKE '%sql%' OR LOWER(key_skills) LIKE '%postgres%'\n",
    "GROUP BY name\n",
    "\n",
    "UNION ALL\n",
    "\n",
    "SELECT\n",
    "    'total' AS data_science_vacancy,\n",
    "    COUNT(id) AS number_of_vacancies_with_sql_or_postgres\n",
    "FROM filtered_vacancies\n",
    "WHERE LOWER(key_skills) LIKE '%sql%' OR LOWER(key_skills) LIKE '%postgres%';\n",
    "'''\n",
    "df['vacancies_with_sql_or_postgres'] = pd.read_sql_query(query6_3, connection)\n",
    "display(df['vacancies_with_sql_or_postgres'])  # показываем вакансии, где указаны SQL/Postgres"
   ]
  },
  {
   "cell_type": "code",
   "execution_count": null,
   "id": "7c897489",
   "metadata": {},
   "outputs": [
    {
     "data": {
      "text/html": [
       "<div>\n",
       "<style scoped>\n",
       "    .dataframe tbody tr th:only-of-type {\n",
       "        vertical-align: middle;\n",
       "    }\n",
       "\n",
       "    .dataframe tbody tr th {\n",
       "        vertical-align: top;\n",
       "    }\n",
       "\n",
       "    .dataframe thead th {\n",
       "        text-align: right;\n",
       "    }\n",
       "</style>\n",
       "<table border=\"1\" class=\"dataframe\">\n",
       "  <thead>\n",
       "    <tr style=\"text-align: right;\">\n",
       "      <th></th>\n",
       "      <th>data_science_vacancy</th>\n",
       "      <th>number_of_vacancies_with_python</th>\n",
       "    </tr>\n",
       "  </thead>\n",
       "  <tbody>\n",
       "    <tr>\n",
       "      <th>0</th>\n",
       "      <td>AI/ML Senior Engineer</td>\n",
       "      <td>2</td>\n",
       "    </tr>\n",
       "    <tr>\n",
       "      <th>1</th>\n",
       "      <td>Analyst/Data Scientist</td>\n",
       "      <td>1</td>\n",
       "    </tr>\n",
       "    <tr>\n",
       "      <th>2</th>\n",
       "      <td>B2B Data Scientist (Эксперт по моделированию и...</td>\n",
       "      <td>1</td>\n",
       "    </tr>\n",
       "    <tr>\n",
       "      <th>3</th>\n",
       "      <td>Chief Data Science (Цифровой кредитный монитор...</td>\n",
       "      <td>1</td>\n",
       "    </tr>\n",
       "    <tr>\n",
       "      <th>4</th>\n",
       "      <td>Commercial Data Scientist / Эксперт по наукоем...</td>\n",
       "      <td>1</td>\n",
       "    </tr>\n",
       "    <tr>\n",
       "      <th>...</th>\n",
       "      <td>...</td>\n",
       "      <td>...</td>\n",
       "    </tr>\n",
       "    <tr>\n",
       "      <th>221</th>\n",
       "      <td>Специалист по углубленной аналитике данных (Da...</td>\n",
       "      <td>1</td>\n",
       "    </tr>\n",
       "    <tr>\n",
       "      <th>222</th>\n",
       "      <td>Стажёр Data Scientist / Группа сервисов Антифр...</td>\n",
       "      <td>1</td>\n",
       "    </tr>\n",
       "    <tr>\n",
       "      <th>223</th>\n",
       "      <td>Старший разработчик (ML engineer)</td>\n",
       "      <td>1</td>\n",
       "    </tr>\n",
       "    <tr>\n",
       "      <th>224</th>\n",
       "      <td>Эксперт по машинному обучению и искусственному...</td>\n",
       "      <td>2</td>\n",
       "    </tr>\n",
       "    <tr>\n",
       "      <th>225</th>\n",
       "      <td>total</td>\n",
       "      <td>357</td>\n",
       "    </tr>\n",
       "  </tbody>\n",
       "</table>\n",
       "<p>226 rows × 2 columns</p>\n",
       "</div>"
      ],
      "text/plain": [
       "                                  data_science_vacancy  \\\n",
       "0                                AI/ML Senior Engineer   \n",
       "1                               Analyst/Data Scientist   \n",
       "2    B2B Data Scientist (Эксперт по моделированию и...   \n",
       "3    Chief Data Science (Цифровой кредитный монитор...   \n",
       "4    Commercial Data Scientist / Эксперт по наукоем...   \n",
       "..                                                 ...   \n",
       "221  Специалист по углубленной аналитике данных (Da...   \n",
       "222  Стажёр Data Scientist / Группа сервисов Антифр...   \n",
       "223                  Старший разработчик (ML engineer)   \n",
       "224  Эксперт по машинному обучению и искусственному...   \n",
       "225                                              total   \n",
       "\n",
       "     number_of_vacancies_with_python  \n",
       "0                                  2  \n",
       "1                                  1  \n",
       "2                                  1  \n",
       "3                                  1  \n",
       "4                                  1  \n",
       "..                               ...  \n",
       "221                                1  \n",
       "222                                1  \n",
       "223                                1  \n",
       "224                                2  \n",
       "225                              357  \n",
       "\n",
       "[226 rows x 2 columns]"
      ]
     },
     "metadata": {},
     "output_type": "display_data"
    }
   ],
   "source": [
    "# Задание 6.4 — аналогично проверяем популярность Python в ключевых навыках для DS.\n",
    "\n",
    "query6_4 = f'''WITH filtered_vacancies AS (\n",
    "    SELECT v.name, v.id, v.key_skills\n",
    "    FROM public.vacancies v\n",
    "    WHERE (\n",
    "        lower(v.name) LIKE '%data scientist%' OR\n",
    "        lower(v.name) LIKE '%data science%' OR\n",
    "        lower(v.name) LIKE '%исследователь данных%' OR\n",
    "        (lower(v.name) LIKE '%ml%' AND lower(v.name) NOT LIKE '%html%') OR\n",
    "        lower(v.name) LIKE '%machine learning%' OR\n",
    "        (lower(v.name) LIKE '%машинн%' AND lower(v.name) LIKE '%обучен%')\n",
    "    )\n",
    ")\n",
    "\n",
    "SELECT\n",
    "    name AS data_science_vacancy,\n",
    "    COUNT(id) AS number_of_vacancies_with_python\n",
    "FROM filtered_vacancies\n",
    "WHERE lower(key_skills) LIKE '%python%'\n",
    "GROUP BY name\n",
    "\n",
    "UNION ALL\n",
    "\n",
    "SELECT\n",
    "    'total' AS data_science_vacancy,\n",
    "    COUNT(id) AS number_of_vacancies_with_python\n",
    "FROM filtered_vacancies\n",
    "WHERE lower(key_skills) LIKE '%python%';\n",
    "'''\n",
    "df['vacancies_with_python'] = pd.read_sql_query(query6_4, connection)\n",
    "display(df['vacancies_with_python'])  # показываем вакансии с Python в ключевых навыках"
   ]
  },
  {
   "cell_type": "code",
   "execution_count": null,
   "id": "55323c25",
   "metadata": {},
   "outputs": [
    {
     "data": {
      "text/html": [
       "<div>\n",
       "<style scoped>\n",
       "    .dataframe tbody tr th:only-of-type {\n",
       "        vertical-align: middle;\n",
       "    }\n",
       "\n",
       "    .dataframe tbody tr th {\n",
       "        vertical-align: top;\n",
       "    }\n",
       "\n",
       "    .dataframe thead th {\n",
       "        text-align: right;\n",
       "    }\n",
       "</style>\n",
       "<table border=\"1\" class=\"dataframe\">\n",
       "  <thead>\n",
       "    <tr style=\"text-align: right;\">\n",
       "      <th></th>\n",
       "      <th>data_science_vacancy</th>\n",
       "      <th>key_skills</th>\n",
       "      <th>key_skills_count</th>\n",
       "    </tr>\n",
       "  </thead>\n",
       "  <tbody>\n",
       "    <tr>\n",
       "      <th>0</th>\n",
       "      <td>Junior+ CV/ML developer</td>\n",
       "      <td>Python\\tSQL\\tРабота в команде\\tOpenCV\\tML</td>\n",
       "      <td>5.00</td>\n",
       "    </tr>\n",
       "    <tr>\n",
       "      <th>1</th>\n",
       "      <td>Data Scientist</td>\n",
       "      <td>Oracle Pl/SQL\\tБазы данных\\tMachine Learning\\t...</td>\n",
       "      <td>9.00</td>\n",
       "    </tr>\n",
       "    <tr>\n",
       "      <th>2</th>\n",
       "      <td>Data Scientist (Junior+)</td>\n",
       "      <td>Python\\tOpenCV\\tTensorflow\\tComputer Vision\\tН...</td>\n",
       "      <td>8.00</td>\n",
       "    </tr>\n",
       "    <tr>\n",
       "      <th>3</th>\n",
       "      <td>AI/ML Senior Engineer</td>\n",
       "      <td>Python\\tFlask\\tLinux\\tAWS\\tGit</td>\n",
       "      <td>5.00</td>\n",
       "    </tr>\n",
       "    <tr>\n",
       "      <th>4</th>\n",
       "      <td>QA Automation TeamLead</td>\n",
       "      <td>Atlassian Jira\\tФункциональное тестирование\\tS...</td>\n",
       "      <td>11.00</td>\n",
       "    </tr>\n",
       "    <tr>\n",
       "      <th>...</th>\n",
       "      <td>...</td>\n",
       "      <td>...</td>\n",
       "      <td>...</td>\n",
       "    </tr>\n",
       "    <tr>\n",
       "      <th>477</th>\n",
       "      <td>Middle+/Senior Data Scientist</td>\n",
       "      <td>SCALA\\tSQL\\tМатематический анализ\\tСтатистичес...</td>\n",
       "      <td>7.00</td>\n",
       "    </tr>\n",
       "    <tr>\n",
       "      <th>478</th>\n",
       "      <td>ML Engineer Team Lead (to Cyprus)</td>\n",
       "      <td>Python\\tLinux\\tKubernetes\\tAWS\\tGit\\tPeople Ma...</td>\n",
       "      <td>6.00</td>\n",
       "    </tr>\n",
       "    <tr>\n",
       "      <th>479</th>\n",
       "      <td>Системный аналитик /Middle+/Senior/TeamLead</td>\n",
       "      <td>UML\\tSQL\\tBPMN\\tSOAP\\tREST\\tПостановка задач р...</td>\n",
       "      <td>7.00</td>\n",
       "    </tr>\n",
       "    <tr>\n",
       "      <th>480</th>\n",
       "      <td>Frontend разработчик, VueJS (Senior), TeamLead</td>\n",
       "      <td>Git\\tJavaScript\\tHTML\\tCSS\\tVue.js\\tVue\\tREST ...</td>\n",
       "      <td>9.00</td>\n",
       "    </tr>\n",
       "    <tr>\n",
       "      <th>481</th>\n",
       "      <td>average_number_of_key_skills</td>\n",
       "      <td>None</td>\n",
       "      <td>6.55</td>\n",
       "    </tr>\n",
       "  </tbody>\n",
       "</table>\n",
       "<p>482 rows × 3 columns</p>\n",
       "</div>"
      ],
      "text/plain": [
       "                               data_science_vacancy  \\\n",
       "0                           Junior+ CV/ML developer   \n",
       "1                                    Data Scientist   \n",
       "2                          Data Scientist (Junior+)   \n",
       "3                             AI/ML Senior Engineer   \n",
       "4                            QA Automation TeamLead   \n",
       "..                                              ...   \n",
       "477                   Middle+/Senior Data Scientist   \n",
       "478               ML Engineer Team Lead (to Cyprus)   \n",
       "479     Системный аналитик /Middle+/Senior/TeamLead   \n",
       "480  Frontend разработчик, VueJS (Senior), TeamLead   \n",
       "481                    average_number_of_key_skills   \n",
       "\n",
       "                                            key_skills  key_skills_count  \n",
       "0            Python\\tSQL\\tРабота в команде\\tOpenCV\\tML              5.00  \n",
       "1    Oracle Pl/SQL\\tБазы данных\\tMachine Learning\\t...              9.00  \n",
       "2    Python\\tOpenCV\\tTensorflow\\tComputer Vision\\tН...              8.00  \n",
       "3                       Python\\tFlask\\tLinux\\tAWS\\tGit              5.00  \n",
       "4    Atlassian Jira\\tФункциональное тестирование\\tS...             11.00  \n",
       "..                                                 ...               ...  \n",
       "477  SCALA\\tSQL\\tМатематический анализ\\tСтатистичес...              7.00  \n",
       "478  Python\\tLinux\\tKubernetes\\tAWS\\tGit\\tPeople Ma...              6.00  \n",
       "479  UML\\tSQL\\tBPMN\\tSOAP\\tREST\\tПостановка задач р...              7.00  \n",
       "480  Git\\tJavaScript\\tHTML\\tCSS\\tVue.js\\tVue\\tREST ...              9.00  \n",
       "481                                               None              6.55  \n",
       "\n",
       "[482 rows x 3 columns]"
      ]
     },
     "metadata": {},
     "output_type": "display_data"
    }
   ],
   "source": [
    "# Задание 6.5 — считаем количество ключевых навыков (разделитель таб) в каждой вакансии и среднее значение.\n",
    "# Формула: длина строки minus длина без табов + 1 даёт число элементов, разделённых табом (при наличии хотя бы одного навыка).\n",
    "\n",
    "query6_5 = f'''WITH filtered_vacancies AS (\n",
    "    SELECT \n",
    "        v.name, \n",
    "        v.id, \n",
    "        v.key_skills,\n",
    "        (\n",
    "            length(lower(v.key_skills)) - length(replace(lower(v.key_skills), CHR(9), '')) + 1\n",
    "        ) AS key_skills_count\n",
    "    FROM public.vacancies v\n",
    "    WHERE (\n",
    "        LOWER(v.name) LIKE '%data scientist%' OR\n",
    "        LOWER(v.name) LIKE '%data science%' OR\n",
    "        LOWER(v.name) LIKE '%исследователь данных%' OR\n",
    "        (LOWER(v.name) LIKE '%ml%' AND LOWER(v.name) NOT LIKE '%html%') OR\n",
    "        LOWER(v.name) LIKE '%machine learning%' OR\n",
    "        (LOWER(v.name) LIKE '%машинн%' AND LOWER(v.name) LIKE '%обучен%')\n",
    "    )\n",
    "    AND v.key_skills IS NOT NULL\n",
    "\n",
    ")\n",
    "\n",
    "SELECT \n",
    "    name AS data_science_vacancy,\n",
    "    key_skills,\n",
    "    key_skills_count\n",
    "FROM filtered_vacancies\n",
    "\n",
    "\n",
    "UNION ALL\n",
    "\n",
    "SELECT \n",
    "    'average_number_of_key_skills' AS data_science_vacancy,\n",
    "    NULL AS key_skills,\n",
    "    ROUND(AVG(fv.key_skills_count), 2) AS key_skills_count\n",
    "FROM filtered_vacancies fv;\n",
    "'''\n",
    "df['avg_key_skills_per_vacancy'] = pd.read_sql_query(query6_5, connection)\n",
    "display(df['avg_key_skills_per_vacancy'])  # показываем список и среднее количество навыков"
   ]
  },
  {
   "cell_type": "code",
   "execution_count": null,
   "id": "9f3bbe71",
   "metadata": {},
   "outputs": [
    {
     "data": {
      "text/html": [
       "<div>\n",
       "<style scoped>\n",
       "    .dataframe tbody tr th:only-of-type {\n",
       "        vertical-align: middle;\n",
       "    }\n",
       "\n",
       "    .dataframe tbody tr th {\n",
       "        vertical-align: top;\n",
       "    }\n",
       "\n",
       "    .dataframe thead th {\n",
       "        text-align: right;\n",
       "    }\n",
       "</style>\n",
       "<table border=\"1\" class=\"dataframe\">\n",
       "  <thead>\n",
       "    <tr style=\"text-align: right;\">\n",
       "      <th></th>\n",
       "      <th>experience</th>\n",
       "      <th>avg_salary_requested</th>\n",
       "    </tr>\n",
       "  </thead>\n",
       "  <tbody>\n",
       "    <tr>\n",
       "      <th>0</th>\n",
       "      <td>От 3 до 6 лет</td>\n",
       "      <td>256454.0</td>\n",
       "    </tr>\n",
       "    <tr>\n",
       "      <th>1</th>\n",
       "      <td>От 1 года до 3 лет</td>\n",
       "      <td>144233.0</td>\n",
       "    </tr>\n",
       "    <tr>\n",
       "      <th>2</th>\n",
       "      <td>Более 6 лет</td>\n",
       "      <td>157933.0</td>\n",
       "    </tr>\n",
       "    <tr>\n",
       "      <th>3</th>\n",
       "      <td>Нет опыта</td>\n",
       "      <td>74643.0</td>\n",
       "    </tr>\n",
       "  </tbody>\n",
       "</table>\n",
       "</div>"
      ],
      "text/plain": [
       "           experience  avg_salary_requested\n",
       "0       От 3 до 6 лет              256454.0\n",
       "1  От 1 года до 3 лет              144233.0\n",
       "2         Более 6 лет              157933.0\n",
       "3           Нет опыта               74643.0"
      ]
     },
     "metadata": {},
     "output_type": "display_data"
    }
   ],
   "source": [
    "# Задание 6.6 — для вакансий DS считаем среднюю запрашиваемую зарплату по типу опыта.\n",
    "# Если указаны обе границы salary_from и salary_to, берём их среднее, иначе используем существующую границу.\n",
    "\n",
    "query6_6 = f'''\n",
    "WITH filtered_vacancies AS (\n",
    "    SELECT \n",
    "        v.experience,\n",
    "        CASE\n",
    "            WHEN v.salary_from IS NOT NULL AND v.salary_to IS NOT NULL THEN (v.salary_from + v.salary_to) / 2\n",
    "            WHEN v.salary_from IS NOT NULL THEN v.salary_from\n",
    "            WHEN v.salary_to IS NOT NULL THEN v.salary_to\n",
    "        END AS salary\n",
    "    FROM public.vacancies v\n",
    "    WHERE (\n",
    "        lower(v.name) LIKE '%data scientist%' OR\n",
    "        lower(v.name) LIKE '%data science%' OR\n",
    "        lower(v.name) LIKE '%исследователь данных%' OR\n",
    "        (lower(v.name) LIKE '%ml%' AND lower(v.name) NOT LIKE '%html%') OR\n",
    "        lower(v.name) LIKE '%machine learning%' OR\n",
    "        (lower(v.name) LIKE '%машинн%' AND lower(v.name) LIKE '%обучен%')\n",
    "    )\n",
    "    AND (v.salary_from IS NOT NULL OR v.salary_to IS NOT NULL)\n",
    ")\n",
    "\n",
    "SELECT\n",
    "    fv.experience,\n",
    "    ROUND(AVG(fv.salary)) AS avg_salary_requested\n",
    "FROM filtered_vacancies fv\n",
    "GROUP BY fv.experience;\n",
    "'''\n",
    "\n",
    "df['average_salary_by_experience'] = pd.read_sql_query(query6_6, connection)\n",
    "display(df['average_salary_by_experience'])  # показываем среднюю зарплату по опыту"
   ]
  },
  {
   "cell_type": "markdown",
   "id": "38154947",
   "metadata": {},
   "source": [
    "Ниже идут ячейки с кодом и графиками дополнительного исследования и анализа БД"
   ]
  },
  {
   "cell_type": "markdown",
   "id": "263b9f58",
   "metadata": {},
   "source": [
    "Optional Enhancements\n",
    "---------------------\n",
    "Normalize by total vacancies to show percentages\n",
    "Export to PNG for GitHub README"
   ]
  },
  {
   "cell_type": "code",
   "execution_count": 80,
   "id": "bb18c7c3",
   "metadata": {},
   "outputs": [],
   "source": [
    "# Optional Enhancements 1\n",
    "# Создаем соединение с БД через SQLAlchemy т.к. использование psycopg2.connect()\n",
    "# провоцирует предупреждение (UserWarning: pandas only supports SQLAlchemy connectable ...)\n",
    "# Функция для создания соединения с PostgreSQL через SQLAlchemy создается для оперативного подлючения\n",
    "# из любого места в коде т.к. соединение может быть закрыто после определенного времени простоя. \n",
    "\n",
    "from sqlalchemy import create_engine\n",
    "\n",
    "def create_sqlalchemy_connection(\n",
    "     # Загружаем переменные окружения из .env файла\n",
    "    dbname = os.getenv(\"DBNAME\"),\n",
    "    user = os.getenv(\"USER\"),\n",
    "    host = os.getenv(\"HOST\"),\n",
    "    password = os.getenv(\"PASSWORD\"),\n",
    "    port = os.getenv(\"PORT\"),\n",
    "    \n",
    "):\n",
    "    \"\"\"\n",
    "    Creates a SQLAlchemy engine for PostgreSQL connection.\n",
    "\n",
    "    Returns:\n",
    "        sqlalchemy.engine.base.Engine: SQLAlchemy engine object.\n",
    "    \"\"\"\n",
    "    connection_string = f\"postgresql+psycopg2://{user}:{password}@{host}:{port}/{dbname}\"\n",
    "    engine = create_engine(connection_string)\n",
    "    return engine.connect()\n"
   ]
  },
  {
   "cell_type": "code",
   "execution_count": 81,
   "id": "3176ffab",
   "metadata": {},
   "outputs": [
    {
     "data": {
      "text/html": [
       "<div>\n",
       "<style scoped>\n",
       "    .dataframe tbody tr th:only-of-type {\n",
       "        vertical-align: middle;\n",
       "    }\n",
       "\n",
       "    .dataframe tbody tr th {\n",
       "        vertical-align: top;\n",
       "    }\n",
       "\n",
       "    .dataframe thead th {\n",
       "        text-align: right;\n",
       "    }\n",
       "</style>\n",
       "<table border=\"1\" class=\"dataframe\">\n",
       "  <thead>\n",
       "    <tr style=\"text-align: right;\">\n",
       "      <th></th>\n",
       "      <th>industry</th>\n",
       "      <th>vacancy_count</th>\n",
       "    </tr>\n",
       "  </thead>\n",
       "  <tbody>\n",
       "    <tr>\n",
       "      <th>0</th>\n",
       "      <td>Разработка программного обеспечения</td>\n",
       "      <td>12499</td>\n",
       "    </tr>\n",
       "    <tr>\n",
       "      <th>1</th>\n",
       "      <td>Системная интеграция,  автоматизации технологи...</td>\n",
       "      <td>11034</td>\n",
       "    </tr>\n",
       "    <tr>\n",
       "      <th>2</th>\n",
       "      <td>Интернет-компания (поисковики, платежные систе...</td>\n",
       "      <td>6413</td>\n",
       "    </tr>\n",
       "    <tr>\n",
       "      <th>3</th>\n",
       "      <td>Банк</td>\n",
       "      <td>2742</td>\n",
       "    </tr>\n",
       "    <tr>\n",
       "      <th>4</th>\n",
       "      <td>Мобильная связь</td>\n",
       "      <td>1585</td>\n",
       "    </tr>\n",
       "  </tbody>\n",
       "</table>\n",
       "</div>"
      ],
      "text/plain": [
       "                                            industry  vacancy_count\n",
       "0                Разработка программного обеспечения          12499\n",
       "1  Системная интеграция,  автоматизации технологи...          11034\n",
       "2  Интернет-компания (поисковики, платежные систе...           6413\n",
       "3                                               Банк           2742\n",
       "4                                    Мобильная связь           1585"
      ]
     },
     "execution_count": 81,
     "metadata": {},
     "output_type": "execute_result"
    }
   ],
   "source": [
    "# Optional Enhancements 2 \n",
    "# Подсчет вакансий по сферам деятельности\n",
    "# Переключаемся на базу 'project_sql' — переопределяем параметры подключения\n",
    "\n",
    "connection = create_sqlalchemy_connection()\n",
    "\n",
    "def get_industry_vacancy_distribution(connection):\n",
    "    \"\"\"\n",
    "    Возвращает DataFrame с названиями отраслей и числом вакансий в каждой из них (отсортировано по убыванию).\n",
    "    Параметры:\n",
    "        connection (psycopg2 connection): активное подключение к базе данных.\n",
    "    Возвращает:\n",
    "        pd.DataFrame: колонки ['industry', 'vacancy_count'] с топ-15 отраслей.\n",
    "    \"\"\"\n",
    "    # SQL-запрос: считаем число вакансий по каждой отрасли, затем берём топ-15\n",
    "    query = \"\"\"\n",
    "        SELECT i.name AS industry, COUNT(v.id) AS vacancy_count\n",
    "        FROM vacancies v\n",
    "        JOIN employers_industries ei ON v.employer_id = ei.employer_id\n",
    "        JOIN industries i ON ei.industry_id = i.id\n",
    "        GROUP BY i.name\n",
    "        ORDER BY vacancy_count DESC\n",
    "        LIMIT 15\n",
    "    \"\"\"\n",
    "    # Выполняем запрос и возвращаем результат в виде DataFrame\n",
    "    return pd.read_sql_query(query, connection)\n",
    "\n",
    "\n",
    "# Загружаем результаты в словарь df под ключом 'vacancies_per_industry' и показываем первые строки\n",
    "df['vacancies_per_industry'] = get_industry_vacancy_distribution(connection)\n",
    "df['vacancies_per_industry'].head()\n",
    "\n"
   ]
  },
  {
   "cell_type": "code",
   "execution_count": 82,
   "id": "d55daf67",
   "metadata": {},
   "outputs": [
    {
     "data": {
      "image/png": "[encoded data removed]",
      "text/plain": [
       "<Figure size 1200x1000 with 1 Axes>"
      ]
     },
     "metadata": {},
     "output_type": "display_data"
    }
   ],
   "source": [
    "# Optional Enhancements 3\n",
    "# Горизонтальная столбчатая диаграмма (Seaborn)\n",
    "\n",
    "import matplotlib.pyplot as plt\n",
    "import numpy as np\n",
    "from textwrap import wrap\n",
    "\n",
    "\n",
    "# Подготовка данных\n",
    "data = df['vacancies_per_industry']\n",
    "wrapped_labels = ['\\n'.join(wrap(label, 35)) for label in data['industry']]\n",
    "vacancy_counts = data['vacancy_count']\n",
    "\n",
    "# Генерация цветового градиента\n",
    "colors = plt.cm.viridis(np.linspace(0, 1, len(data)))\n",
    "\n",
    "# Создание фигуры и построение диаграммы\n",
    "fig, ax = plt.subplots(figsize=(12, 10), constrained_layout=True)\n",
    "ax.barh(wrapped_labels, vacancy_counts, color=colors)\n",
    "\n",
    "# Настройка размера шрифта меток по оси Y (названия отраслей)\n",
    "ax.tick_params(axis='y', labelsize=8)  # Попробуйте 10–12 для компактной читаемости\n",
    "\n",
    "# Добавление подписей и заголовка\n",
    "ax.set_title(\"Vacancies per Industry\", fontsize=14)\n",
    "ax.set_xlabel(\"Number of Vacancies\")\n",
    "ax.set_ylabel(\"Industry\")\n",
    "\n",
    "# Сохранение диаграммы в формате png для последуещего использования в README.md\n",
    "plt.savefig(\"plots/vacancies_per_industry.png\", dpi=300, bbox_inches='tight')\n",
    "\n",
    "plt.show()\n"
   ]
  },
  {
   "cell_type": "markdown",
   "id": "2f46470c",
   "metadata": {},
   "source": [
    "### Распределение вакансий по сферам деятельности\n",
    "\n",
    "Количество вакансий по отраслям\n",
    "\n",
    "На графике представлено распределение числа вакансий по различным отраслям. Горизонтальные полосы отражают объём спроса на специалистов в каждой сфере. Чем длиннее полоса — тем больше вакансий.\n",
    "\n",
    "Топ-5 отраслей по числу вакансий\n",
    "\n",
    "Разработка программного обеспечения — лидер по спросу, что подтверждает устойчивую потребность в IT-специалистах.\n",
    "\n",
    "Интеграция систем, автоматизация, информационные технологии и безопасность — высокая активность в сфере цифровизации и защиты данных.\n",
    "\n",
    "Банковская сфера — стабильный спрос на специалистов в финансовом секторе.\n",
    "\n",
    "Мобильная связь — отражает развитие телекоммуникационных технологий.\n",
    "\n",
    "Кадровые агентства — активный найм персонала для других отраслей.\n",
    "\n",
    "Примечания\n",
    "\n",
    "Отрасли, связанные с интернет-коммерцией и медиа/PR, также демонстрируют высокий уровень вакансий.\n",
    "\n",
    "Сферы, такие как оптоволоконная связь и электронная промышленность, показывают умеренный спрос, но могут расти с развитием инфраструктуры.\n",
    "\n",
    "График помогает визуально оценить, какие отрасли наиболее активно ищут специалистов, и может служить ориентиром для анализа рыночного спроса."
   ]
  },
  {
   "cell_type": "code",
   "execution_count": 83,
   "id": "70ae9846",
   "metadata": {},
   "outputs": [
    {
     "data": {
      "text/html": [
       "<div>\n",
       "<style scoped>\n",
       "    .dataframe tbody tr th:only-of-type {\n",
       "        vertical-align: middle;\n",
       "    }\n",
       "\n",
       "    .dataframe tbody tr th {\n",
       "        vertical-align: top;\n",
       "    }\n",
       "\n",
       "    .dataframe thead th {\n",
       "        text-align: right;\n",
       "    }\n",
       "</style>\n",
       "<table border=\"1\" class=\"dataframe\">\n",
       "  <thead>\n",
       "    <tr style=\"text-align: right;\">\n",
       "      <th></th>\n",
       "      <th>skill_a</th>\n",
       "      <th>skill_b</th>\n",
       "      <th>cooccurrence_count</th>\n",
       "    </tr>\n",
       "  </thead>\n",
       "  <tbody>\n",
       "    <tr>\n",
       "      <th>0</th>\n",
       "      <td>Python</td>\n",
       "      <td>SQL</td>\n",
       "      <td>1733</td>\n",
       "    </tr>\n",
       "    <tr>\n",
       "      <th>1</th>\n",
       "      <td>Git</td>\n",
       "      <td>JavaScript</td>\n",
       "      <td>1581</td>\n",
       "    </tr>\n",
       "    <tr>\n",
       "      <th>2</th>\n",
       "      <td>1С: Предприятие 8</td>\n",
       "      <td>1С программирование</td>\n",
       "      <td>1392</td>\n",
       "    </tr>\n",
       "    <tr>\n",
       "      <th>3</th>\n",
       "      <td>CSS</td>\n",
       "      <td>HTML</td>\n",
       "      <td>1317</td>\n",
       "    </tr>\n",
       "    <tr>\n",
       "      <th>4</th>\n",
       "      <td>CSS</td>\n",
       "      <td>JavaScript</td>\n",
       "      <td>1249</td>\n",
       "    </tr>\n",
       "  </tbody>\n",
       "</table>\n",
       "</div>"
      ],
      "text/plain": [
       "             skill_a              skill_b  cooccurrence_count\n",
       "0             Python                  SQL                1733\n",
       "1                Git           JavaScript                1581\n",
       "2  1С: Предприятие 8  1С программирование                1392\n",
       "3                CSS                 HTML                1317\n",
       "4                CSS           JavaScript                1249"
      ]
     },
     "execution_count": 83,
     "metadata": {},
     "output_type": "execute_result"
    }
   ],
   "source": [
    "# Optional Enhancements 4\n",
    "# Анализ со-встречаемости навыков в вакансиях\n",
    "# Навыки в базе указаны в поле key_skills через табуляцию (CHR(9))\n",
    "# Считаем, сколько раз встречаются пары навыков в вакансиях (ко-упоминания)\n",
    "\n",
    "connection = create_sqlalchemy_connection()\n",
    "\n",
    "def get_skills_cooccurrence_pairs(connection):\n",
    "        query = \"\"\"\n",
    "            WITH skill_list AS (\n",
    "            SELECT id AS vacancy_id, TRIM(skill) AS skill\n",
    "            FROM (\n",
    "                SELECT id, UNNEST(string_to_array(key_skills, CHR(9))) AS skill\n",
    "                FROM vacancies\n",
    "            ) AS raw\n",
    "            )\n",
    "            SELECT a.skill AS skill_a, b.skill AS skill_b, COUNT(*) AS cooccurrence_count\n",
    "            FROM skill_list a\n",
    "            JOIN skill_list b ON a.vacancy_id = b.vacancy_id AND a.skill < b.skill\n",
    "            GROUP BY a.skill, b.skill\n",
    "            ORDER BY cooccurrence_count DESC\n",
    "            LIMIT 10000;\n",
    "            \"\"\"\n",
    "\n",
    "    # Выполняем запрос и возвращаем результат в виде DataFrame\n",
    "        return pd.read_sql_query(query, connection)\n",
    "\n",
    "\n",
    "\n",
    "\n",
    "# Загружаем результаты в словарь df под ключом 'skills_cooccurrence' и показываем первые строки\n",
    "df['skills_cooccurrence_pairs'] = get_skills_cooccurrence_pairs(connection)\n",
    "df['skills_cooccurrence_pairs'].head()"
   ]
  },
  {
   "cell_type": "code",
   "execution_count": 84,
   "id": "d8c48f21",
   "metadata": {},
   "outputs": [
    {
     "name": "stdout",
     "output_type": "stream",
     "text": [
      "Detected 10 clusters\n"
     ]
    }
   ],
   "source": [
    "# Optional Enhancements 5 — Построение графа навыков\n",
    "# и кластеризация с помощью алгоритма Лувена (Louvain)\n",
    "\n",
    "# Optional Enhancements 5 — Построение графа навыков\n",
    "# и кластеризация с помощью алгоритма Лувена (Louvain)\n",
    "\n",
    "import networkx as nx\n",
    "import community as community_louvain  # установите: pip install python-louvain\n",
    "from collections import Counter\n",
    "\n",
    "# Шаг 1: Построение полного графа со-встречаемости\n",
    "G = nx.Graph()\n",
    "for _, row in df['skills_cooccurrence_pairs'].iterrows():\n",
    "    G.add_edge(row['skill_a'], row['skill_b'], weight=row['cooccurrence_count'])\n",
    "\n",
    "# Шаг 2: Фильтрация слабых рёбер (опционально)\n",
    "G_filtered = nx.Graph()\n",
    "G_filtered.add_nodes_from(G.nodes(data=True))  # сохраняем атрибуты узлов\n",
    "\n",
    "for u, v, data in G.edges(data=True):\n",
    "    # Строим граф из рёбер с весом выше порога\n",
    "    if data['weight'] >= 2:  # порог можно настроить\n",
    "        G_filtered.add_edge(u, v, weight=data['weight'])\n",
    "\n",
    "# Шаг 3: Применение кластеризации Лувена (Louvain)\n",
    "node_cluster_map = community_louvain.best_partition(G_filtered)\n",
    "\n",
    "# Шаг 4: Подсчёт и сортировка кластеров (опционально)\n",
    "cluster_sizes = Counter(node_cluster_map.values())\n",
    "components_sorted = sorted(cluster_sizes.items(), key=lambda x: x[1], reverse=True)\n",
    "\n",
    "print(f\"Detected {len(cluster_sizes)} clusters\")\n",
    "\n",
    "\n",
    "\n",
    "# Определяем видимые кластеры для подграфа и назначаем цвета# Назначаем цвет каждому узлу подграфа \n",
    "# на основе кластера# Автонастройка параметров раскладки (основана на числе узлов)# Генерируем\n",
    "# позиции узлов для визуализации# Формируем читабельные метки для кластеров: выбираем узел с наибольшей\n",
    "# степенью как представителя        cluster_labels[cid] = f\"Cluster {cid}\"\n",
    "# # запасная метка# Рисуем граф: узлы и рёбра# Подписываем только узлы с большой степенью, чтобы\n",
    "# не загромождать визуализацию# Добавляем легенду с понятными метками кластеров# Финальные настройки и сохранение изображения"
   ]
  },
  {
   "cell_type": "code",
   "execution_count": 85,
   "id": "a5ed22b0",
   "metadata": {},
   "outputs": [
    {
     "data": {
      "image/png": "[encoded data removed]",
      "text/plain": [
       "<Figure size 1400x1000 with 1 Axes>"
      ]
     },
     "metadata": {},
     "output_type": "display_data"
    }
   ],
   "source": [
    "# Optional Enhancements 6 — Визуализация графа навыков с кластерами\n",
    "\n",
    "import networkx as nx\n",
    "import matplotlib.pyplot as plt\n",
    "from adjustText import adjust_text\n",
    "import matplotlib.patches as mpatches\n",
    "import seaborn as sns\n",
    "from collections import defaultdict\n",
    "\n",
    "# Генерируем различные цвета для кластеров с помощью seaborn\n",
    "def get_color_palette(n):\n",
    "    palette = sns.color_palette(\"hsv\", n)\n",
    "    return [palette[i % n] for i in range(n)]\n",
    "\n",
    "# Строим полный граф из отфильтрованных рёбер\n",
    "G = nx.Graph()\n",
    "for u, v, data in G_filtered.edges(data=True):\n",
    "    G.add_edge(u, v, weight=data['weight'])\n",
    "\n",
    "# Фильтруем узлы по степени\n",
    "G_sub = G.subgraph([n for n in G.nodes() if G.degree(n) > 2]).copy()\n",
    "\n",
    "# Оставляем топ-N рёбер для улучшения читаемости раскладки\n",
    "top_n = 500\n",
    "top_edges = sorted(G_sub.edges(data=True), key=lambda x: x[2]['weight'], reverse=True)[:top_n]\n",
    "G_sub = nx.Graph()\n",
    "G_sub.add_edges_from([(u, v, {'weight': d['weight']}) for u, v, d in top_edges])\n",
    "\n",
    "# Назначаем цвета только для видимых кластеров\n",
    "visible_cluster_ids = set(node_cluster_map[n] for n in G_sub.nodes())\n",
    "cluster_colors = get_color_palette(len(visible_cluster_ids))\n",
    "cluster_id_to_color = {cid: cluster_colors[i] for i, cid in enumerate(sorted(visible_cluster_ids))}\n",
    "\n",
    "# Назначаем цвета узлам\n",
    "node_colors_sub = [cluster_id_to_color[node_cluster_map.get(n, 0)] for n in G_sub.nodes()]\n",
    "\n",
    "# Автонастройка параметров раскладки\n",
    "n_nodes = len(G_sub.nodes())\n",
    "k = 1.5 / (n_nodes ** 0.5)\n",
    "iterations = max(50, n_nodes // 5)\n",
    "scale = 2 if n_nodes > 100 else 1\n",
    "\n",
    "# Генерируем расположение (раскладку) узлов\n",
    "pos = nx.kamada_kawai_layout(G_sub)\n",
    "\n",
    "# Назначаем осмысленные метки кластерам, выбирая узел с наибольшей степенью\n",
    "cluster_labels = {}\n",
    "for cid in visible_cluster_ids:\n",
    "    nodes = [n for n in G_sub.nodes() if node_cluster_map[n] == cid]\n",
    "    if nodes:\n",
    "        top_node = max(nodes, key=lambda n: G_sub.degree(n))\n",
    "        cluster_labels[cid] = top_node\n",
    "    else:\n",
    "        cluster_labels[cid] = f\"Cluster {cid}\"  # запасной вариант\n",
    "\n",
    "# Рисуем граф\n",
    "plt.figure(figsize=(14, 10))\n",
    "node_sizes = [G_sub.degree(n) * 10 for n in G_sub.nodes()]\n",
    "nx.draw_networkx_nodes(G_sub, pos, node_color=node_colors_sub, node_size=node_sizes)\n",
    "nx.draw_networkx_edges(G_sub, pos, edge_color='gray', alpha=0.5)\n",
    "\n",
    "# Подписываем только узлы с большой степенью\n",
    "high_degree_nodes = [n for n in G_sub.nodes() if G_sub.degree(n) > 5]\n",
    "texts = [plt.text(*pos[n], n, fontsize=8) for n in high_degree_nodes]\n",
    "adjust_text(texts, arrowprops=dict(arrowstyle='-', color='gray'))\n",
    "\n",
    "# Добавляем легенду с понятными метками\n",
    "legend_handles = [\n",
    "    mpatches.Patch(color=cluster_id_to_color[cid], label=cluster_labels.get(cid, f\"Cluster {cid}\"))\n",
    "    for cid in sorted(visible_cluster_ids)\n",
    "]\n",
    "plt.legend(handles=legend_handles, loc='lower left', fontsize=6)\n",
    "\n",
    "# Финальные настройки\n",
    "plt.title(\"Граф навыков (с кластерами)\", fontsize=14)\n",
    "plt.axis('off')\n",
    "plt.tight_layout()\n",
    "plt.savefig(\"plots/skills_clusters_graph.png\", dpi=300, bbox_inches='tight')\n",
    "plt.show()\n",
    "\n"
   ]
  },
  {
   "cell_type": "markdown",
   "id": "aae9d335",
   "metadata": {},
   "source": [
    "### Граф кластеризации навыков по алгориту Лувена (Louvain)\n",
    "\n",
    "Граф навыков с кластеризацией\n",
    "\n",
    "На графике представлены ключевые профессиональные навыки, объединённые в тематические кластеры. Узлы (навыки) связаны между собой линиями, отражающими их совместную встречаемость в вакансиях. Цвет узла соответствует кластеру, выявленному методом Лувена:\n",
    "\n",
    "🟩 1C — включает навыки, связанные с бухгалтерией, документооборотом и ERP-системами.\n",
    "\n",
    "🟨 SQL — охватывает навыки работы с базами данных, запросами и аналитикой.\n",
    "\n",
    "🟦 Windows — включает навыки администрирования, Active Directory и поддержки пользователей.\n",
    "\n",
    "🟪 Linux — отражает компетенции в системном администрировании и серверной инфраструктуре.\n",
    "\n",
    "🟦 Сети — объединяет навыки настройки, мониторинга и поддержки сетевых решений.\n",
    "\n",
    "⚪ Прочее — содержит менее связанные или уникальные навыки, не вошедшие в основные группы.\n",
    "\n",
    "Размер узла отражает частоту упоминания навыка в вакансиях. Чем больше узел — тем выше спрос на соответствующий навык.\n",
    "\n",
    "Метод Лувена (Louvain method)\n",
    "Метод Лувена — это алгоритм обнаружения сообществ (кластеров) в графах, основанный на оптимизации метрики модулярности. Он работает итеративно:\n",
    "\n",
    "Изначально каждый узел — отдельное сообщество.\n",
    "\n",
    "Алгоритм перебирает соседей и объединяет узлы, если это увеличивает модулярность.\n",
    "\n",
    "После локальной оптимизации создаётся новый граф, где кластеры становятся узлами.\n",
    "\n",
    "Процесс повторяется до стабилизации.\n",
    "\n",
    "Метод эффективен для больших графов и широко применяется в анализе социальных сетей, биоинформатике и визуализации навыков, как в данном случае."
   ]
  },
  {
   "cell_type": "code",
   "execution_count": 86,
   "id": "5c331a26",
   "metadata": {},
   "outputs": [
    {
     "data": {
      "text/html": [
       "<div>\n",
       "<style scoped>\n",
       "    .dataframe tbody tr th:only-of-type {\n",
       "        vertical-align: middle;\n",
       "    }\n",
       "\n",
       "    .dataframe tbody tr th {\n",
       "        vertical-align: top;\n",
       "    }\n",
       "\n",
       "    .dataframe thead th {\n",
       "        text-align: right;\n",
       "    }\n",
       "</style>\n",
       "<table border=\"1\" class=\"dataframe\">\n",
       "  <thead>\n",
       "    <tr style=\"text-align: right;\">\n",
       "      <th></th>\n",
       "      <th>industry</th>\n",
       "      <th>vacancy_count</th>\n",
       "      <th>employer_count</th>\n",
       "      <th>vacancies_per_employer</th>\n",
       "      <th>avg_salary</th>\n",
       "    </tr>\n",
       "  </thead>\n",
       "  <tbody>\n",
       "    <tr>\n",
       "      <th>0</th>\n",
       "      <td>Коллекторская деятельность</td>\n",
       "      <td>483</td>\n",
       "      <td>16</td>\n",
       "      <td>30.19</td>\n",
       "      <td>47894.0</td>\n",
       "    </tr>\n",
       "    <tr>\n",
       "      <th>1</th>\n",
       "      <td>Мобильная связь</td>\n",
       "      <td>1585</td>\n",
       "      <td>105</td>\n",
       "      <td>15.10</td>\n",
       "      <td>52300.0</td>\n",
       "    </tr>\n",
       "    <tr>\n",
       "      <th>2</th>\n",
       "      <td>Драгоценные, благородные и редкие металлы (про...</td>\n",
       "      <td>172</td>\n",
       "      <td>12</td>\n",
       "      <td>14.33</td>\n",
       "      <td>73960.0</td>\n",
       "    </tr>\n",
       "    <tr>\n",
       "      <th>3</th>\n",
       "      <td>Банк</td>\n",
       "      <td>2742</td>\n",
       "      <td>200</td>\n",
       "      <td>13.71</td>\n",
       "      <td>84009.0</td>\n",
       "    </tr>\n",
       "    <tr>\n",
       "      <th>4</th>\n",
       "      <td>Фиксированная связь</td>\n",
       "      <td>1028</td>\n",
       "      <td>76</td>\n",
       "      <td>13.53</td>\n",
       "      <td>49626.0</td>\n",
       "    </tr>\n",
       "  </tbody>\n",
       "</table>\n",
       "</div>"
      ],
      "text/plain": [
       "                                            industry  vacancy_count  \\\n",
       "0                         Коллекторская деятельность            483   \n",
       "1                                    Мобильная связь           1585   \n",
       "2  Драгоценные, благородные и редкие металлы (про...            172   \n",
       "3                                               Банк           2742   \n",
       "4                                Фиксированная связь           1028   \n",
       "\n",
       "   employer_count  vacancies_per_employer  avg_salary  \n",
       "0              16                   30.19     47894.0  \n",
       "1             105                   15.10     52300.0  \n",
       "2              12                   14.33     73960.0  \n",
       "3             200                   13.71     84009.0  \n",
       "4              76                   13.53     49626.0  "
      ]
     },
     "execution_count": 86,
     "metadata": {},
     "output_type": "execute_result"
    }
   ],
   "source": [
    "# Optional Enhancements 6 — Анализа конкуренции на рынке труда по отраслям\n",
    "\n",
    "connection = create_sqlalchemy_connection()\n",
    "\n",
    "import pandas as pd\n",
    "\n",
    "def market_competition_analysis(connection):\n",
    "    # SQL-запрос для анализа конкуренции на рынке труда по отраслям\n",
    "    query = \"\"\"\n",
    "    SELECT \n",
    "      i.name AS industry,  -- Название отрасли\n",
    "      COUNT(v.id) AS vacancy_count,  -- Количество вакансий в отрасли\n",
    "      COUNT(DISTINCT v.employer_id) AS employer_count,  -- Количество уникальных работодателей\n",
    "      ROUND(COUNT(v.id)::NUMERIC / COUNT(DISTINCT v.employer_id), 2) AS vacancies_per_employer,  -- Среднее число вакансий на одного работодателя\n",
    "      ROUND(AVG(\n",
    "        CASE \n",
    "          -- Если указаны обе границы зарплаты, берём среднее\n",
    "          WHEN v.salary_from IS NOT NULL AND v.salary_to IS NOT NULL THEN (v.salary_from + v.salary_to) / 2.0\n",
    "          -- Если указана только нижняя граница, используем её\n",
    "          WHEN v.salary_from IS NOT NULL THEN v.salary_from\n",
    "          -- Если указана только верхняя граница, используем её\n",
    "          WHEN v.salary_to IS NOT NULL THEN v.salary_to\n",
    "          -- Если обе границы отсутствуют, возвращаем NULL\n",
    "          ELSE NULL\n",
    "        END\n",
    "      ), 0) AS avg_salary  -- Средняя зарплата по отрасли, округлённая до целого\n",
    "    FROM vacancies v\n",
    "    JOIN employers_industries ei ON v.employer_id = ei.employer_id  -- Связь вакансий с отраслями через работодателей\n",
    "    JOIN industries i ON ei.industry_id = i.id  -- Получение названия отрасли\n",
    "    GROUP BY i.name  -- Группировка по отраслям\n",
    "    ORDER BY vacancies_per_employer DESC  -- Сортировка по интенсивности конкуренции\n",
    "    LIMIT 25;  -- Ограничение результата топ-20 отраслей\n",
    "    \"\"\"\n",
    "    # Выполнение запроса и возврат результата в виде DataFrame\n",
    "    return pd.read_sql(query, connection)\n",
    "\n",
    "df['market_competition_analysis'] = market_competition_analysis(connection)\n",
    "df['market_competition_analysis'].head()"
   ]
  },
  {
   "cell_type": "code",
   "execution_count": 87,
   "id": "6328d4e4",
   "metadata": {},
   "outputs": [
    {
     "data": {
      "application/vnd.plotly.v1+json": {
       "config": {
        "plotlyServerURL": "https://plot.ly"
       },
       "data": [
        {
         "hovertemplate": "Вакансий на одного работодателя=%{x}<br>Отрасль=%{y}<br>Средняя зарплата=%{marker.color}<extra></extra>",
         "legendgroup": "",
         "marker": {
          "color": {
           "bdata": "AAAAAPDM9kAAAAAAANPwQAAAAADA+/JAAAAAAEBK7kAAAAAAgKLgQAAAAACA4e9AAAAAAGAA8UAAAAAAYPjxQAAAAADgjelAAAAAAHAI8UAAAAAA8Kr2QAAAAADg3OxAAAAAAED460AAAAAAcAPwQAAAAABAOPZAAAAAABCC9UAAAAAAEMnyQAAAAABg+uxAAAAAAABk+UAAAAAAYAL0QAAAAABAO+hAAAAAAJCC9EAAAAAAgA7yQAAAAACAielAAAAAAMBi50A=",
           "dtype": "f8"
          },
          "coloraxis": "coloraxis",
          "pattern": {
           "shape": ""
          }
         },
         "name": "",
         "orientation": "h",
         "showlegend": false,
         "textposition": "auto",
         "type": "bar",
         "x": {
          "bdata": "exSuR+F6GEBcj8L1KFwZQGZmZmZmZhpAj8L1KFyPHUDD9Shcj8IdQHE9CtejcB5ArkfhehSuH0AK16NwPQogQPYoXI/CdSBAmpmZmZmZIECkcD0K16MgQM3MzMzMzCFAexSuR+F6IkAfhetRuB4kQAAAAAAAACVAuB6F61E4JkAfhetRuJ4mQB+F61G4nihA16NwPQpXKUDXo3A9CtcpQI/C9ShcDytA7FG4HoVrK0ApXI/C9agsQDMzMzMzMy5AcT0K16MwPkA=",
          "dtype": "f8"
         },
         "xaxis": "x",
         "y": [
          "Складские услуги",
          "Розничная сеть (drogerie, товары повседневного спроса)",
          "Сахар (продвижение, оптовая торговля)",
          "Розничная сеть (мобильный ритейл)",
          "Переработка газа",
          "ГСМ, топливо (продвижение, оптовая торговля)",
          "Судостроение",
          "Продукция черной металлургии (продвижение, оптовая торговля)",
          "Оптоволоконная связь",
          "Нефтепереработка, нефтехимия (производство)",
          "Масложировая продукция (производство)",
          "Интернет-провайдер",
          "ГСМ, топливо (розничная торговля)",
          "Цветная металлургия (выплавка, металлопрокат)",
          "Добыча и обогащение руд черных, цветных, драгоценных, благородных, редких металлов",
          "Добыча и обогащение угля",
          "Курьерская, почтовая доставка",
          "Черная металлургия (производство чугуна, стали, проката)",
          "НПФ",
          "Драгоценные, благородные и редкие металлы (производство)",
          "Фиксированная связь",
          "Банк",
          "Драгоценные, благородные и редкие металлы (продвижение, оптовая торговля)",
          "Мобильная связь",
          "Коллекторская деятельность"
         ],
         "yaxis": "y"
        }
       ],
       "layout": {
        "barmode": "relative",
        "coloraxis": {
         "colorbar": {
          "title": {
           "text": "Средняя зарплата"
          }
         },
         "colorscale": [
          [
           0,
           "#440154"
          ],
          [
           0.1111111111111111,
           "#482878"
          ],
          [
           0.2222222222222222,
           "#3e4989"
          ],
          [
           0.3333333333333333,
           "#31688e"
          ],
          [
           0.4444444444444444,
           "#26828e"
          ],
          [
           0.5555555555555556,
           "#1f9e89"
          ],
          [
           0.6666666666666666,
           "#35b779"
          ],
          [
           0.7777777777777778,
           "#6ece58"
          ],
          [
           0.8888888888888888,
           "#b5de2b"
          ],
          [
           1,
           "#fde725"
          ]
         ]
        },
        "height": 700,
        "legend": {
         "tracegroupgap": 0
        },
        "margin": {
         "b": 50,
         "l": 350,
         "r": 50,
         "t": 80
        },
        "template": {
         "data": {
          "bar": [
           {
            "error_x": {
             "color": "#2a3f5f"
            },
            "error_y": {
             "color": "#2a3f5f"
            },
            "marker": {
             "line": {
              "color": "white",
              "width": 0.5
             },
             "pattern": {
              "fillmode": "overlay",
              "size": 10,
              "solidity": 0.2
             }
            },
            "type": "bar"
           }
          ],
          "barpolar": [
           {
            "marker": {
             "line": {
              "color": "white",
              "width": 0.5
             },
             "pattern": {
              "fillmode": "overlay",
              "size": 10,
              "solidity": 0.2
             }
            },
            "type": "barpolar"
           }
          ],
          "carpet": [
           {
            "aaxis": {
             "endlinecolor": "#2a3f5f",
             "gridcolor": "#C8D4E3",
             "linecolor": "#C8D4E3",
             "minorgridcolor": "#C8D4E3",
             "startlinecolor": "#2a3f5f"
            },
            "baxis": {
             "endlinecolor": "#2a3f5f",
             "gridcolor": "#C8D4E3",
             "linecolor": "#C8D4E3",
             "minorgridcolor": "#C8D4E3",
             "startlinecolor": "#2a3f5f"
            },
            "type": "carpet"
           }
          ],
          "choropleth": [
           {
            "colorbar": {
             "outlinewidth": 0,
             "ticks": ""
            },
            "type": "choropleth"
           }
          ],
          "contour": [
           {
            "colorbar": {
             "outlinewidth": 0,
             "ticks": ""
            },
            "colorscale": [
             [
              0,
              "#0d0887"
             ],
             [
              0.1111111111111111,
              "#46039f"
             ],
             [
              0.2222222222222222,
              "#7201a8"
             ],
             [
              0.3333333333333333,
              "#9c179e"
             ],
             [
              0.4444444444444444,
              "#bd3786"
             ],
             [
              0.5555555555555556,
              "#d8576b"
             ],
             [
              0.6666666666666666,
              "#ed7953"
             ],
             [
              0.7777777777777778,
              "#fb9f3a"
             ],
             [
              0.8888888888888888,
              "#fdca26"
             ],
             [
              1,
              "#f0f921"
             ]
            ],
            "type": "contour"
           }
          ],
          "contourcarpet": [
           {
            "colorbar": {
             "outlinewidth": 0,
             "ticks": ""
            },
            "type": "contourcarpet"
           }
          ],
          "heatmap": [
           {
            "colorbar": {
             "outlinewidth": 0,
             "ticks": ""
            },
            "colorscale": [
             [
              0,
              "#0d0887"
             ],
             [
              0.1111111111111111,
              "#46039f"
             ],
             [
              0.2222222222222222,
              "#7201a8"
             ],
             [
              0.3333333333333333,
              "#9c179e"
             ],
             [
              0.4444444444444444,
              "#bd3786"
             ],
             [
              0.5555555555555556,
              "#d8576b"
             ],
             [
              0.6666666666666666,
              "#ed7953"
             ],
             [
              0.7777777777777778,
              "#fb9f3a"
             ],
             [
              0.8888888888888888,
              "#fdca26"
             ],
             [
              1,
              "#f0f921"
             ]
            ],
            "type": "heatmap"
           }
          ],
          "histogram": [
           {
            "marker": {
             "pattern": {
              "fillmode": "overlay",
              "size": 10,
              "solidity": 0.2
             }
            },
            "type": "histogram"
           }
          ],
          "histogram2d": [
           {
            "colorbar": {
             "outlinewidth": 0,
             "ticks": ""
            },
            "colorscale": [
             [
              0,
              "#0d0887"
             ],
             [
              0.1111111111111111,
              "#46039f"
             ],
             [
              0.2222222222222222,
              "#7201a8"
             ],
             [
              0.3333333333333333,
              "#9c179e"
             ],
             [
              0.4444444444444444,
              "#bd3786"
             ],
             [
              0.5555555555555556,
              "#d8576b"
             ],
             [
              0.6666666666666666,
              "#ed7953"
             ],
             [
              0.7777777777777778,
              "#fb9f3a"
             ],
             [
              0.8888888888888888,
              "#fdca26"
             ],
             [
              1,
              "#f0f921"
             ]
            ],
            "type": "histogram2d"
           }
          ],
          "histogram2dcontour": [
           {
            "colorbar": {
             "outlinewidth": 0,
             "ticks": ""
            },
            "colorscale": [
             [
              0,
              "#0d0887"
             ],
             [
              0.1111111111111111,
              "#46039f"
             ],
             [
              0.2222222222222222,
              "#7201a8"
             ],
             [
              0.3333333333333333,
              "#9c179e"
             ],
             [
              0.4444444444444444,
              "#bd3786"
             ],
             [
              0.5555555555555556,
              "#d8576b"
             ],
             [
              0.6666666666666666,
              "#ed7953"
             ],
             [
              0.7777777777777778,
              "#fb9f3a"
             ],
             [
              0.8888888888888888,
              "#fdca26"
             ],
             [
              1,
              "#f0f921"
             ]
            ],
            "type": "histogram2dcontour"
           }
          ],
          "mesh3d": [
           {
            "colorbar": {
             "outlinewidth": 0,
             "ticks": ""
            },
            "type": "mesh3d"
           }
          ],
          "parcoords": [
           {
            "line": {
             "colorbar": {
              "outlinewidth": 0,
              "ticks": ""
             }
            },
            "type": "parcoords"
           }
          ],
          "pie": [
           {
            "automargin": true,
            "type": "pie"
           }
          ],
          "scatter": [
           {
            "fillpattern": {
             "fillmode": "overlay",
             "size": 10,
             "solidity": 0.2
            },
            "type": "scatter"
           }
          ],
          "scatter3d": [
           {
            "line": {
             "colorbar": {
              "outlinewidth": 0,
              "ticks": ""
             }
            },
            "marker": {
             "colorbar": {
              "outlinewidth": 0,
              "ticks": ""
             }
            },
            "type": "scatter3d"
           }
          ],
          "scattercarpet": [
           {
            "marker": {
             "colorbar": {
              "outlinewidth": 0,
              "ticks": ""
             }
            },
            "type": "scattercarpet"
           }
          ],
          "scattergeo": [
           {
            "marker": {
             "colorbar": {
              "outlinewidth": 0,
              "ticks": ""
             }
            },
            "type": "scattergeo"
           }
          ],
          "scattergl": [
           {
            "marker": {
             "colorbar": {
              "outlinewidth": 0,
              "ticks": ""
             }
            },
            "type": "scattergl"
           }
          ],
          "scattermap": [
           {
            "marker": {
             "colorbar": {
              "outlinewidth": 0,
              "ticks": ""
             }
            },
            "type": "scattermap"
           }
          ],
          "scattermapbox": [
           {
            "marker": {
             "colorbar": {
              "outlinewidth": 0,
              "ticks": ""
             }
            },
            "type": "scattermapbox"
           }
          ],
          "scatterpolar": [
           {
            "marker": {
             "colorbar": {
              "outlinewidth": 0,
              "ticks": ""
             }
            },
            "type": "scatterpolar"
           }
          ],
          "scatterpolargl": [
           {
            "marker": {
             "colorbar": {
              "outlinewidth": 0,
              "ticks": ""
             }
            },
            "type": "scatterpolargl"
           }
          ],
          "scatterternary": [
           {
            "marker": {
             "colorbar": {
              "outlinewidth": 0,
              "ticks": ""
             }
            },
            "type": "scatterternary"
           }
          ],
          "surface": [
           {
            "colorbar": {
             "outlinewidth": 0,
             "ticks": ""
            },
            "colorscale": [
             [
              0,
              "#0d0887"
             ],
             [
              0.1111111111111111,
              "#46039f"
             ],
             [
              0.2222222222222222,
              "#7201a8"
             ],
             [
              0.3333333333333333,
              "#9c179e"
             ],
             [
              0.4444444444444444,
              "#bd3786"
             ],
             [
              0.5555555555555556,
              "#d8576b"
             ],
             [
              0.6666666666666666,
              "#ed7953"
             ],
             [
              0.7777777777777778,
              "#fb9f3a"
             ],
             [
              0.8888888888888888,
              "#fdca26"
             ],
             [
              1,
              "#f0f921"
             ]
            ],
            "type": "surface"
           }
          ],
          "table": [
           {
            "cells": {
             "fill": {
              "color": "#EBF0F8"
             },
             "line": {
              "color": "white"
             }
            },
            "header": {
             "fill": {
              "color": "#C8D4E3"
             },
             "line": {
              "color": "white"
             }
            },
            "type": "table"
           }
          ]
         },
         "layout": {
          "annotationdefaults": {
           "arrowcolor": "#2a3f5f",
           "arrowhead": 0,
           "arrowwidth": 1
          },
          "autotypenumbers": "strict",
          "coloraxis": {
           "colorbar": {
            "outlinewidth": 0,
            "ticks": ""
           }
          },
          "colorscale": {
           "diverging": [
            [
             0,
             "#8e0152"
            ],
            [
             0.1,
             "#c51b7d"
            ],
            [
             0.2,
             "#de77ae"
            ],
            [
             0.3,
             "#f1b6da"
            ],
            [
             0.4,
             "#fde0ef"
            ],
            [
             0.5,
             "#f7f7f7"
            ],
            [
             0.6,
             "#e6f5d0"
            ],
            [
             0.7,
             "#b8e186"
            ],
            [
             0.8,
             "#7fbc41"
            ],
            [
             0.9,
             "#4d9221"
            ],
            [
             1,
             "#276419"
            ]
           ],
           "sequential": [
            [
             0,
             "#0d0887"
            ],
            [
             0.1111111111111111,
             "#46039f"
            ],
            [
             0.2222222222222222,
             "#7201a8"
            ],
            [
             0.3333333333333333,
             "#9c179e"
            ],
            [
             0.4444444444444444,
             "#bd3786"
            ],
            [
             0.5555555555555556,
             "#d8576b"
            ],
            [
             0.6666666666666666,
             "#ed7953"
            ],
            [
             0.7777777777777778,
             "#fb9f3a"
            ],
            [
             0.8888888888888888,
             "#fdca26"
            ],
            [
             1,
             "#f0f921"
            ]
           ],
           "sequentialminus": [
            [
             0,
             "#0d0887"
            ],
            [
             0.1111111111111111,
             "#46039f"
            ],
            [
             0.2222222222222222,
             "#7201a8"
            ],
            [
             0.3333333333333333,
             "#9c179e"
            ],
            [
             0.4444444444444444,
             "#bd3786"
            ],
            [
             0.5555555555555556,
             "#d8576b"
            ],
            [
             0.6666666666666666,
             "#ed7953"
            ],
            [
             0.7777777777777778,
             "#fb9f3a"
            ],
            [
             0.8888888888888888,
             "#fdca26"
            ],
            [
             1,
             "#f0f921"
            ]
           ]
          },
          "colorway": [
           "#636efa",
           "#EF553B",
           "#00cc96",
           "#ab63fa",
           "#FFA15A",
           "#19d3f3",
           "#FF6692",
           "#B6E880",
           "#FF97FF",
           "#FECB52"
          ],
          "font": {
           "color": "#2a3f5f"
          },
          "geo": {
           "bgcolor": "white",
           "lakecolor": "white",
           "landcolor": "white",
           "showlakes": true,
           "showland": true,
           "subunitcolor": "#C8D4E3"
          },
          "hoverlabel": {
           "align": "left"
          },
          "hovermode": "closest",
          "mapbox": {
           "style": "light"
          },
          "paper_bgcolor": "white",
          "plot_bgcolor": "white",
          "polar": {
           "angularaxis": {
            "gridcolor": "#EBF0F8",
            "linecolor": "#EBF0F8",
            "ticks": ""
           },
           "bgcolor": "white",
           "radialaxis": {
            "gridcolor": "#EBF0F8",
            "linecolor": "#EBF0F8",
            "ticks": ""
           }
          },
          "scene": {
           "xaxis": {
            "backgroundcolor": "white",
            "gridcolor": "#DFE8F3",
            "gridwidth": 2,
            "linecolor": "#EBF0F8",
            "showbackground": true,
            "ticks": "",
            "zerolinecolor": "#EBF0F8"
           },
           "yaxis": {
            "backgroundcolor": "white",
            "gridcolor": "#DFE8F3",
            "gridwidth": 2,
            "linecolor": "#EBF0F8",
            "showbackground": true,
            "ticks": "",
            "zerolinecolor": "#EBF0F8"
           },
           "zaxis": {
            "backgroundcolor": "white",
            "gridcolor": "#DFE8F3",
            "gridwidth": 2,
            "linecolor": "#EBF0F8",
            "showbackground": true,
            "ticks": "",
            "zerolinecolor": "#EBF0F8"
           }
          },
          "shapedefaults": {
           "line": {
            "color": "#2a3f5f"
           }
          },
          "ternary": {
           "aaxis": {
            "gridcolor": "#DFE8F3",
            "linecolor": "#A2B1C6",
            "ticks": ""
           },
           "baxis": {
            "gridcolor": "#DFE8F3",
            "linecolor": "#A2B1C6",
            "ticks": ""
           },
           "bgcolor": "white",
           "caxis": {
            "gridcolor": "#DFE8F3",
            "linecolor": "#A2B1C6",
            "ticks": ""
           }
          },
          "title": {
           "x": 0.05
          },
          "xaxis": {
           "automargin": true,
           "gridcolor": "#EBF0F8",
           "linecolor": "#EBF0F8",
           "ticks": "",
           "title": {
            "standoff": 15
           },
           "zerolinecolor": "#EBF0F8",
           "zerolinewidth": 2
          },
          "yaxis": {
           "automargin": true,
           "gridcolor": "#EBF0F8",
           "linecolor": "#EBF0F8",
           "ticks": "",
           "title": {
            "standoff": 15
           },
           "zerolinecolor": "#EBF0F8",
           "zerolinewidth": 2
          }
         }
        },
        "title": {
         "text": "Интенсивность конкуренции по отраслям",
         "x": 0.5
        },
        "width": 1200,
        "xaxis": {
         "anchor": "y",
         "domain": [
          0,
          1
         ],
         "title": {
          "text": "Вакансий на одного работодателя"
         }
        },
        "yaxis": {
         "anchor": "x",
         "automargin": true,
         "domain": [
          0,
          1
         ],
         "tickfont": {
          "size": 8
         },
         "tickmode": "array",
         "ticktext": [
          "Коллекторская деятельность",
          "Мобильная связь",
          "Драгоценные, благородные и<br>редкие металлы (продвижение,<br>оптовая торговля)",
          "Банк",
          "Фиксированная связь",
          "Драгоценные, благородные и<br>редкие металлы (производство)",
          "НПФ",
          "Черная металлургия<br>(производство чугуна, стали,<br>проката)",
          "Курьерская, почтовая доставка",
          "Добыча и обогащение угля",
          "Добыча и обогащение руд<br>черных, цветных, драгоценных,<br>благородных, редких металлов",
          "Цветная металлургия (выплавка,<br>металлопрокат)",
          "ГСМ, топливо (розничная<br>торговля)",
          "Интернет-провайдер",
          "Масложировая продукция<br>(производство)",
          "Нефтепереработка, нефтехимия<br>(производство)",
          "Оптоволоконная связь",
          "Продукция черной металлургии<br>(продвижение, оптовая<br>торговля)",
          "Судостроение",
          "ГСМ, топливо (продвижение,<br>оптовая торговля)",
          "Переработка газа",
          "Розничная сеть (мобильный<br>ритейл)",
          "Сахар (продвижение, оптовая<br>торговля)",
          "Розничная сеть (drogerie,<br>товары повседневного спроса)",
          "Складские услуги"
         ],
         "tickvals": [
          "Коллекторская деятельность",
          "Мобильная связь",
          "Драгоценные, благородные и редкие металлы (продвижение, оптовая торговля)",
          "Банк",
          "Фиксированная связь",
          "Драгоценные, благородные и редкие металлы (производство)",
          "НПФ",
          "Черная металлургия (производство чугуна, стали, проката)",
          "Курьерская, почтовая доставка",
          "Добыча и обогащение угля",
          "Добыча и обогащение руд черных, цветных, драгоценных, благородных, редких металлов",
          "Цветная металлургия (выплавка, металлопрокат)",
          "ГСМ, топливо (розничная торговля)",
          "Интернет-провайдер",
          "Масложировая продукция (производство)",
          "Нефтепереработка, нефтехимия (производство)",
          "Оптоволоконная связь",
          "Продукция черной металлургии (продвижение, оптовая торговля)",
          "Судостроение",
          "ГСМ, топливо (продвижение, оптовая торговля)",
          "Переработка газа",
          "Розничная сеть (мобильный ритейл)",
          "Сахар (продвижение, оптовая торговля)",
          "Розничная сеть (drogerie, товары повседневного спроса)",
          "Складские услуги"
         ],
         "title": {
          "text": "Отрасли"
         }
        }
       }
      }
     },
     "metadata": {},
     "output_type": "display_data"
    }
   ],
   "source": [
    "# Optional Enhancements 6 — Анализа конкуренции на рынке труда по отраслям\n",
    "# Визуализация с помощью Plotly Express\n",
    "\n",
    "import plotly.express as px\n",
    "import kaleido  # для сохранения изображений\n",
    "import textwrap\n",
    "\n",
    "\n",
    "# Копируем DataFrame из словаря\n",
    "df_viz = df['market_competition_analysis'].copy()\n",
    "\n",
    "# Строим горизонтальный барчарт\n",
    "fig = px.bar(\n",
    "    df_viz.sort_values('vacancies_per_employer', ascending=True),\n",
    "    x='vacancies_per_employer',\n",
    "    y='industry',\n",
    "    color='avg_salary',\n",
    "    color_continuous_scale='Viridis',\n",
    "    labels={\n",
    "        'vacancies_per_employer': 'Вакансий на одного работодателя',\n",
    "        'industry': 'Отрасль',\n",
    "        'avg_salary': 'Средняя зарплата'\n",
    "    },\n",
    "    title='Интенсивность конкуренции по отраслям'\n",
    ")\n",
    "\n",
    "# Настройка внешнего вида\n",
    "fig.update_layout(\n",
    "    xaxis_title='Вакансий на одного работодателя',\n",
    "    yaxis_title='Отрасли',\n",
    "    coloraxis_colorbar=dict(title='Средняя зарплата'),\n",
    "    template='plotly_white',\n",
    "    height=700,\n",
    "    width=1200,  # Увеличиваем ширину графика\n",
    "    title_x=0.5,  # Центрируем заголовок\n",
    "    margin=dict(l=350, r=50, t=80, b=50)  # Расширяем левый отступ для длинных названий\n",
    ")\n",
    "\n",
    "# Перенос длинных названий отраслей\n",
    "fig.update_yaxes(\n",
    "    tickfont=dict(size=8),\n",
    "    automargin=True,\n",
    "    tickmode='array',\n",
    "    tickvals=df_viz['industry'],\n",
    "    ticktext=[f\"<br>\".join(textwrap.wrap(ind, width=30)) for ind in df_viz['industry']]\n",
    ")\n",
    "\n",
    "# Сохраняем и отображаем график\n",
    "fig.write_image(\"plots/market_competition.png\", width=1000, height=800)\n",
    "fig.show()\n",
    "\n",
    "\n",
    "\n"
   ]
  },
  {
   "cell_type": "markdown",
   "id": "bf312841",
   "metadata": {},
   "source": [
    "### Анализ конкуренции на рынке труда по отраслям\n",
    "\n",
    "![Конкуренция по отраслям](plots/market_competition.png)\n",
    "\n",
    "\n",
    "График демонстрирует интенсивность конкуренции в различных отраслях, измеряемую как **количество вакансий на одного работодателя**. Цветовая шкала отражает **среднюю зарплату** в каждой отрасли.\n",
    "\n",
    "#### Основные наблюдения:\n",
    "\n",
    "- **Лидеры по конкуренции**:\n",
    "  - *Коллекторская деятельность* — 30.19 вакансий на одного работодателя. Явный лидер, возможно отражающий высокую текучесть кадров или активный рост сектора.\n",
    "  - *Мобильная связь* — 15.1. Стабильный спрос на специалистов, вероятно в связи с расширением сетей и услуг.\n",
    "  - *Драгоценные, благородные и редкие металлы (продвижение, оптовая торговля)* — 14.33. Высокая активность в нишевом сегменте.\n",
    "  - *Банк* — 13.71. Финансовый сектор остаётся одним из самых активных работодателей.\n",
    "  - *Фиксированная связь* — 13.53. Конкуренция в телекоммуникациях сохраняется на высоком уровне.\n",
    "\n",
    "- **Умеренная конкуренция**:\n",
    "  - *Черная металлургия (производство чугуна, стали, проката)* — 12.31. Промышленный сектор демонстрирует стабильный спрос.\n",
    "  - *Курьерская, почтовая доставка* — 11.31. Рост электронной коммерции поддерживает спрос на логистику.\n",
    "  - *Добыча и обогащение угля* — 11.11. Умеренная кадровая активность в сырьевом секторе.\n",
    "\n",
    "#### Зарплатные тренды:\n",
    "\n",
    "- *НПФ* — лидирует по средней зарплате (104,000), несмотря на относительно небольшое количество вакансий.\n",
    "- *Добыча и обогащение угля* и *банк* также демонстрируют высокие зарплаты, что может отражать требования к квалификации и ответственность.\n",
    "- *Коллекторская деятельность* и *мобильная связь* — несмотря на высокую конкуренцию, предлагают умеренные зарплаты, что может указывать на массовый характер вакансий.\n",
    "\n",
    "#### Выводы:\n",
    "\n",
    "- График позволяет выявить отрасли с **напряжённой кадровой ситуацией**, а также оценить **привлекательность отрасли** с точки зрения зарплаты и конкуренции.\n",
    "- Эти данные полезны для **карьерного планирования**, **анализа рынка труда** и **оптимизации стратегии найма**.\n"
   ]
  },
  {
   "cell_type": "code",
   "execution_count": 88,
   "id": "5f90c3f4",
   "metadata": {},
   "outputs": [
    {
     "data": {
      "text/html": [
       "<div>\n",
       "<style scoped>\n",
       "    .dataframe tbody tr th:only-of-type {\n",
       "        vertical-align: middle;\n",
       "    }\n",
       "\n",
       "    .dataframe tbody tr th {\n",
       "        vertical-align: top;\n",
       "    }\n",
       "\n",
       "    .dataframe thead th {\n",
       "        text-align: right;\n",
       "    }\n",
       "</style>\n",
       "<table border=\"1\" class=\"dataframe\">\n",
       "  <thead>\n",
       "    <tr style=\"text-align: right;\">\n",
       "      <th></th>\n",
       "      <th>area</th>\n",
       "      <th>vacancy_count</th>\n",
       "      <th>avg_salary</th>\n",
       "      <th>skill_one</th>\n",
       "      <th>skill_two</th>\n",
       "      <th>skill_three</th>\n",
       "    </tr>\n",
       "  </thead>\n",
       "  <tbody>\n",
       "    <tr>\n",
       "      <th>0</th>\n",
       "      <td>Москва</td>\n",
       "      <td>5333</td>\n",
       "      <td>134140.0</td>\n",
       "      <td>SQL</td>\n",
       "      <td>Python</td>\n",
       "      <td>Английский язык</td>\n",
       "    </tr>\n",
       "    <tr>\n",
       "      <th>1</th>\n",
       "      <td>Санкт-Петербург</td>\n",
       "      <td>2851</td>\n",
       "      <td>104410.0</td>\n",
       "      <td>SQL</td>\n",
       "      <td>Английский язык</td>\n",
       "      <td>Python</td>\n",
       "    </tr>\n",
       "    <tr>\n",
       "      <th>2</th>\n",
       "      <td>Минск</td>\n",
       "      <td>2112</td>\n",
       "      <td>90426.0</td>\n",
       "      <td>Английский язык</td>\n",
       "      <td>JavaScript</td>\n",
       "      <td>Git</td>\n",
       "    </tr>\n",
       "    <tr>\n",
       "      <th>3</th>\n",
       "      <td>Новосибирск</td>\n",
       "      <td>2006</td>\n",
       "      <td>107777.0</td>\n",
       "      <td>SQL</td>\n",
       "      <td>Git</td>\n",
       "      <td>Linux</td>\n",
       "    </tr>\n",
       "    <tr>\n",
       "      <th>4</th>\n",
       "      <td>Алматы</td>\n",
       "      <td>1892</td>\n",
       "      <td>73171.0</td>\n",
       "      <td>Английский язык</td>\n",
       "      <td>SQL</td>\n",
       "      <td>Git</td>\n",
       "    </tr>\n",
       "  </tbody>\n",
       "</table>\n",
       "</div>"
      ],
      "text/plain": [
       "              area  vacancy_count  avg_salary        skill_one  \\\n",
       "0           Москва           5333    134140.0              SQL   \n",
       "1  Санкт-Петербург           2851    104410.0              SQL   \n",
       "2            Минск           2112     90426.0  Английский язык   \n",
       "3      Новосибирск           2006    107777.0              SQL   \n",
       "4           Алматы           1892     73171.0  Английский язык   \n",
       "\n",
       "         skill_two      skill_three  \n",
       "0           Python  Английский язык  \n",
       "1  Английский язык           Python  \n",
       "2       JavaScript              Git  \n",
       "3              Git            Linux  \n",
       "4              SQL              Git  "
      ]
     },
     "execution_count": 88,
     "metadata": {},
     "output_type": "execute_result"
    }
   ],
   "source": [
    "# Optional Enhancements 7 — Анализ вакансий по регионам\n",
    "\n",
    "connection = create_sqlalchemy_connection()\n",
    "\n",
    "def skills_area_salary_demand(conn):\n",
    "    \"\"\"\n",
    "    Returns a DataFrame with top 20 areas by vacancy count,\n",
    "    including average salary and top 3 most frequent skills per area.\n",
    "    \"\"\"\n",
    "    query = \"\"\"\n",
    "    WITH area_stats AS (\n",
    "        SELECT \n",
    "            a.name AS area,\n",
    "            COUNT(v.id) AS vacancy_count,\n",
    "            ROUND(AVG(\n",
    "                CASE\n",
    "                    WHEN v.salary_from IS NOT NULL AND v.salary_to IS NOT NULL THEN (v.salary_from + v.salary_to) / 2.0\n",
    "                    WHEN v.salary_from IS NOT NULL THEN v.salary_from\n",
    "                    WHEN v.salary_to IS NOT NULL THEN v.salary_to\n",
    "                    ELSE NULL\n",
    "                END\n",
    "            ), 0) AS avg_salary\n",
    "        FROM vacancies v\n",
    "        JOIN areas a ON v.area_id = a.id\n",
    "        GROUP BY a.name\n",
    "        ORDER BY vacancy_count DESC\n",
    "        LIMIT 20\n",
    "    ),\n",
    "    skills_per_area AS (\n",
    "        SELECT \n",
    "            a.name AS area,\n",
    "            TRIM(skill) AS skill,\n",
    "            COUNT(*) AS skill_count,\n",
    "            ROW_NUMBER() OVER (PARTITION BY a.name ORDER BY COUNT(*) DESC) AS skill_rank\n",
    "        FROM vacancies v\n",
    "        JOIN areas a ON v.area_id = a.id\n",
    "        CROSS JOIN UNNEST(STRING_TO_ARRAY(v.key_skills, CHR(9))) AS skill\n",
    "        WHERE v.key_skills IS NOT NULL\n",
    "        GROUP BY a.name, skill\n",
    "    ),\n",
    "    top_skills AS (\n",
    "        SELECT \n",
    "            area,\n",
    "            MAX(CASE WHEN skill_rank = 1 THEN skill END) AS skill_one,\n",
    "            MAX(CASE WHEN skill_rank = 2 THEN skill END) AS skill_two,\n",
    "            MAX(CASE WHEN skill_rank = 3 THEN skill END) AS skill_three\n",
    "        FROM skills_per_area\n",
    "        WHERE skill_rank <= 3\n",
    "        GROUP BY area\n",
    "    )\n",
    "    SELECT \n",
    "        s.area,\n",
    "        s.vacancy_count,\n",
    "        s.avg_salary,\n",
    "        t.skill_one,\n",
    "        t.skill_two,\n",
    "        t.skill_three\n",
    "    FROM area_stats s\n",
    "    LEFT JOIN top_skills t ON s.area = t.area\n",
    "    ORDER BY vacancy_count DESC\n",
    "    \"\"\"\n",
    "    return pd.read_sql(query, conn)\n",
    "\n",
    "df['skills_area_salary_demand'] = skills_area_salary_demand(connection)\n",
    "df['skills_area_salary_demand'].head()  # показываем первые строки результата\n"
   ]
  },
  {
   "cell_type": "code",
   "execution_count": 89,
   "id": "d1c4d8c5",
   "metadata": {},
   "outputs": [
    {
     "data": {
      "application/vnd.plotly.v1+json": {
       "config": {
        "plotlyServerURL": "https://plot.ly"
       },
       "data": [
        {
         "customdata": [
          [
           "Москва",
           "SQL",
           "Python",
           "Английский язык"
          ],
          [
           "Санкт-Петербург",
           "SQL",
           "Английский язык",
           "Python"
          ],
          [
           "Минск",
           "Английский язык",
           "JavaScript",
           "Git"
          ],
          [
           "Новосибирск",
           "SQL",
           "Git",
           "Linux"
          ],
          [
           "Алматы",
           "Английский язык",
           "SQL",
           "Git"
          ],
          [
           "Екатеринбург",
           "SQL",
           "Git",
           "Linux"
          ],
          [
           "Нижний Новгород",
           "SQL",
           "Linux",
           "Git"
          ],
          [
           "Казань",
           "SQL",
           "Git",
           "Linux"
          ],
          [
           "Краснодар",
           "SQL",
           "Git",
           "1С программирование"
          ],
          [
           "Самара",
           "SQL",
           "Java",
           "Git"
          ],
          [
           "Ростов-на-Дону",
           "SQL",
           "Git",
           "Linux"
          ],
          [
           "Воронеж",
           "SQL",
           "1С программирование",
           "Работа в команде"
          ],
          [
           "Ташкент",
           "Английский язык",
           "Git",
           "SQL"
          ],
          [
           "Красноярск",
           "Работа в команде",
           "1С программирование",
           "1С: Предприятие 8"
          ],
          [
           "Нур-Султан",
           "Английский язык",
           "SQL",
           "Git"
          ],
          [
           "Челябинск",
           "SQL",
           "1С программирование",
           "Git"
          ],
          [
           "Пермь",
           "SQL",
           "Git",
           "1С программирование"
          ],
          [
           "Уфа",
           "SQL",
           "Git",
           "Работа в команде"
          ],
          [
           "Томск",
           "Git",
           "SQL",
           "Linux"
          ],
          [
           "Омск",
           "Git",
           "SQL",
           "Linux"
          ]
         ],
         "hovertemplate": "<b>%{hovertext}</b><br><br>Средняя зарплата=%{marker.color}<br>Число вакансий=%{y}<br>area=%{customdata[0]}<br>skill_one=%{customdata[1]}<br>skill_two=%{customdata[2]}<br>skill_three=%{customdata[3]}<extra></extra>",
         "hovertext": [
          "Москва",
          "Санкт-Петербург",
          "Минск",
          "Новосибирск",
          "Алматы",
          "Екатеринбург",
          "Нижний Новгород",
          "Казань",
          "Краснодар",
          "Самара",
          "Ростов-на-Дону",
          "Воронеж",
          "Ташкент",
          "Красноярск",
          "Нур-Султан",
          "Челябинск",
          "Пермь",
          "Уфа",
          "Томск",
          "Омск"
         ],
         "legendgroup": "",
         "marker": {
          "color": {
           "bdata": "AAAAAOBfAEEAAAAAoH35QAAAAACgE/ZAAAAAABBQ+kAAAAAAMN3xQAAAAACAb/ZAAAAAALBz90AAAAAA8IL2QAAAAACAivZAAAAAAPCV80AAAAAAEPf2QAAAAADgvfRAAAAAABAf8kAAAAAAQFnyQAAAAABwlvRAAAAAAHDp8kAAAAAAEG/3QAAAAADQPvJAAAAAAHA/+EAAAAAAkBf1QA==",
           "dtype": "f8"
          },
          "coloraxis": "coloraxis",
          "line": {
           "color": "darkgrey",
           "width": 1
          },
          "size": 14,
          "symbol": "circle"
         },
         "mode": "markers+text",
         "name": "",
         "orientation": "v",
         "showlegend": false,
         "text": [
          "Москва",
          "Санкт-Петербург",
          "Минск",
          "Новосибирск",
          "Алматы",
          "Екатеринбург",
          "Нижний Новгород",
          "Казань",
          "Краснодар",
          "Самара",
          "Ростов-на-Дону",
          "Воронеж",
          "Ташкент",
          "Красноярск",
          "Нур-Султан",
          "Челябинск",
          "Пермь",
          "Уфа",
          "Томск",
          "Омск"
         ],
         "textposition": "top center",
         "type": "scatter",
         "x": {
          "bdata": "AAAAAOBfAEEAAAAAoH35QAAAAACgE/ZAAAAAABBQ+kAAAAAAMN3xQAAAAACAb/ZAAAAAALBz90AAAAAA8IL2QAAAAACAivZAAAAAAPCV80AAAAAAEPf2QAAAAADgvfRAAAAAABAf8kAAAAAAQFnyQAAAAABwlvRAAAAAAHDp8kAAAAAAEG/3QAAAAADQPvJAAAAAAHA/+EAAAAAAkBf1QA==",
          "dtype": "f8"
         },
         "xaxis": "x",
         "y": {
          "bdata": "1RQjC0AI1gdkB6IGhgaHBRUFeARrBCcEUwNPA0gDEgMDA/8CtAJpAg==",
          "dtype": "i2"
         },
         "yaxis": "y"
        }
       ],
       "layout": {
        "coloraxis": {
         "colorbar": {
          "title": {
           "text": "Средняя зарплата"
          }
         },
         "colorscale": [
          [
           0,
           "#440154"
          ],
          [
           0.1111111111111111,
           "#482878"
          ],
          [
           0.2222222222222222,
           "#3e4989"
          ],
          [
           0.3333333333333333,
           "#31688e"
          ],
          [
           0.4444444444444444,
           "#26828e"
          ],
          [
           0.5555555555555556,
           "#1f9e89"
          ],
          [
           0.6666666666666666,
           "#35b779"
          ],
          [
           0.7777777777777778,
           "#6ece58"
          ],
          [
           0.8888888888888888,
           "#b5de2b"
          ],
          [
           1,
           "#fde725"
          ]
         ]
        },
        "font": {
         "family": "Arial",
         "size": 14
        },
        "height": 600,
        "hoverlabel": {
         "bgcolor": "white",
         "font": {
          "family": "Arial",
          "size": 13
         }
        },
        "legend": {
         "tracegroupgap": 0
        },
        "margin": {
         "b": 40,
         "l": 40,
         "r": 40,
         "t": 60
        },
        "plot_bgcolor": "white",
        "template": {
         "data": {
          "bar": [
           {
            "error_x": {
             "color": "#2a3f5f"
            },
            "error_y": {
             "color": "#2a3f5f"
            },
            "marker": {
             "line": {
              "color": "#E5ECF6",
              "width": 0.5
             },
             "pattern": {
              "fillmode": "overlay",
              "size": 10,
              "solidity": 0.2
             }
            },
            "type": "bar"
           }
          ],
          "barpolar": [
           {
            "marker": {
             "line": {
              "color": "#E5ECF6",
              "width": 0.5
             },
             "pattern": {
              "fillmode": "overlay",
              "size": 10,
              "solidity": 0.2
             }
            },
            "type": "barpolar"
           }
          ],
          "carpet": [
           {
            "aaxis": {
             "endlinecolor": "#2a3f5f",
             "gridcolor": "white",
             "linecolor": "white",
             "minorgridcolor": "white",
             "startlinecolor": "#2a3f5f"
            },
            "baxis": {
             "endlinecolor": "#2a3f5f",
             "gridcolor": "white",
             "linecolor": "white",
             "minorgridcolor": "white",
             "startlinecolor": "#2a3f5f"
            },
            "type": "carpet"
           }
          ],
          "choropleth": [
           {
            "colorbar": {
             "outlinewidth": 0,
             "ticks": ""
            },
            "type": "choropleth"
           }
          ],
          "contour": [
           {
            "colorbar": {
             "outlinewidth": 0,
             "ticks": ""
            },
            "colorscale": [
             [
              0,
              "#0d0887"
             ],
             [
              0.1111111111111111,
              "#46039f"
             ],
             [
              0.2222222222222222,
              "#7201a8"
             ],
             [
              0.3333333333333333,
              "#9c179e"
             ],
             [
              0.4444444444444444,
              "#bd3786"
             ],
             [
              0.5555555555555556,
              "#d8576b"
             ],
             [
              0.6666666666666666,
              "#ed7953"
             ],
             [
              0.7777777777777778,
              "#fb9f3a"
             ],
             [
              0.8888888888888888,
              "#fdca26"
             ],
             [
              1,
              "#f0f921"
             ]
            ],
            "type": "contour"
           }
          ],
          "contourcarpet": [
           {
            "colorbar": {
             "outlinewidth": 0,
             "ticks": ""
            },
            "type": "contourcarpet"
           }
          ],
          "heatmap": [
           {
            "colorbar": {
             "outlinewidth": 0,
             "ticks": ""
            },
            "colorscale": [
             [
              0,
              "#0d0887"
             ],
             [
              0.1111111111111111,
              "#46039f"
             ],
             [
              0.2222222222222222,
              "#7201a8"
             ],
             [
              0.3333333333333333,
              "#9c179e"
             ],
             [
              0.4444444444444444,
              "#bd3786"
             ],
             [
              0.5555555555555556,
              "#d8576b"
             ],
             [
              0.6666666666666666,
              "#ed7953"
             ],
             [
              0.7777777777777778,
              "#fb9f3a"
             ],
             [
              0.8888888888888888,
              "#fdca26"
             ],
             [
              1,
              "#f0f921"
             ]
            ],
            "type": "heatmap"
           }
          ],
          "histogram": [
           {
            "marker": {
             "pattern": {
              "fillmode": "overlay",
              "size": 10,
              "solidity": 0.2
             }
            },
            "type": "histogram"
           }
          ],
          "histogram2d": [
           {
            "colorbar": {
             "outlinewidth": 0,
             "ticks": ""
            },
            "colorscale": [
             [
              0,
              "#0d0887"
             ],
             [
              0.1111111111111111,
              "#46039f"
             ],
             [
              0.2222222222222222,
              "#7201a8"
             ],
             [
              0.3333333333333333,
              "#9c179e"
             ],
             [
              0.4444444444444444,
              "#bd3786"
             ],
             [
              0.5555555555555556,
              "#d8576b"
             ],
             [
              0.6666666666666666,
              "#ed7953"
             ],
             [
              0.7777777777777778,
              "#fb9f3a"
             ],
             [
              0.8888888888888888,
              "#fdca26"
             ],
             [
              1,
              "#f0f921"
             ]
            ],
            "type": "histogram2d"
           }
          ],
          "histogram2dcontour": [
           {
            "colorbar": {
             "outlinewidth": 0,
             "ticks": ""
            },
            "colorscale": [
             [
              0,
              "#0d0887"
             ],
             [
              0.1111111111111111,
              "#46039f"
             ],
             [
              0.2222222222222222,
              "#7201a8"
             ],
             [
              0.3333333333333333,
              "#9c179e"
             ],
             [
              0.4444444444444444,
              "#bd3786"
             ],
             [
              0.5555555555555556,
              "#d8576b"
             ],
             [
              0.6666666666666666,
              "#ed7953"
             ],
             [
              0.7777777777777778,
              "#fb9f3a"
             ],
             [
              0.8888888888888888,
              "#fdca26"
             ],
             [
              1,
              "#f0f921"
             ]
            ],
            "type": "histogram2dcontour"
           }
          ],
          "mesh3d": [
           {
            "colorbar": {
             "outlinewidth": 0,
             "ticks": ""
            },
            "type": "mesh3d"
           }
          ],
          "parcoords": [
           {
            "line": {
             "colorbar": {
              "outlinewidth": 0,
              "ticks": ""
             }
            },
            "type": "parcoords"
           }
          ],
          "pie": [
           {
            "automargin": true,
            "type": "pie"
           }
          ],
          "scatter": [
           {
            "fillpattern": {
             "fillmode": "overlay",
             "size": 10,
             "solidity": 0.2
            },
            "type": "scatter"
           }
          ],
          "scatter3d": [
           {
            "line": {
             "colorbar": {
              "outlinewidth": 0,
              "ticks": ""
             }
            },
            "marker": {
             "colorbar": {
              "outlinewidth": 0,
              "ticks": ""
             }
            },
            "type": "scatter3d"
           }
          ],
          "scattercarpet": [
           {
            "marker": {
             "colorbar": {
              "outlinewidth": 0,
              "ticks": ""
             }
            },
            "type": "scattercarpet"
           }
          ],
          "scattergeo": [
           {
            "marker": {
             "colorbar": {
              "outlinewidth": 0,
              "ticks": ""
             }
            },
            "type": "scattergeo"
           }
          ],
          "scattergl": [
           {
            "marker": {
             "colorbar": {
              "outlinewidth": 0,
              "ticks": ""
             }
            },
            "type": "scattergl"
           }
          ],
          "scattermap": [
           {
            "marker": {
             "colorbar": {
              "outlinewidth": 0,
              "ticks": ""
             }
            },
            "type": "scattermap"
           }
          ],
          "scattermapbox": [
           {
            "marker": {
             "colorbar": {
              "outlinewidth": 0,
              "ticks": ""
             }
            },
            "type": "scattermapbox"
           }
          ],
          "scatterpolar": [
           {
            "marker": {
             "colorbar": {
              "outlinewidth": 0,
              "ticks": ""
             }
            },
            "type": "scatterpolar"
           }
          ],
          "scatterpolargl": [
           {
            "marker": {
             "colorbar": {
              "outlinewidth": 0,
              "ticks": ""
             }
            },
            "type": "scatterpolargl"
           }
          ],
          "scatterternary": [
           {
            "marker": {
             "colorbar": {
              "outlinewidth": 0,
              "ticks": ""
             }
            },
            "type": "scatterternary"
           }
          ],
          "surface": [
           {
            "colorbar": {
             "outlinewidth": 0,
             "ticks": ""
            },
            "colorscale": [
             [
              0,
              "#0d0887"
             ],
             [
              0.1111111111111111,
              "#46039f"
             ],
             [
              0.2222222222222222,
              "#7201a8"
             ],
             [
              0.3333333333333333,
              "#9c179e"
             ],
             [
              0.4444444444444444,
              "#bd3786"
             ],
             [
              0.5555555555555556,
              "#d8576b"
             ],
             [
              0.6666666666666666,
              "#ed7953"
             ],
             [
              0.7777777777777778,
              "#fb9f3a"
             ],
             [
              0.8888888888888888,
              "#fdca26"
             ],
             [
              1,
              "#f0f921"
             ]
            ],
            "type": "surface"
           }
          ],
          "table": [
           {
            "cells": {
             "fill": {
              "color": "#EBF0F8"
             },
             "line": {
              "color": "white"
             }
            },
            "header": {
             "fill": {
              "color": "#C8D4E3"
             },
             "line": {
              "color": "white"
             }
            },
            "type": "table"
           }
          ]
         },
         "layout": {
          "annotationdefaults": {
           "arrowcolor": "#2a3f5f",
           "arrowhead": 0,
           "arrowwidth": 1
          },
          "autotypenumbers": "strict",
          "coloraxis": {
           "colorbar": {
            "outlinewidth": 0,
            "ticks": ""
           }
          },
          "colorscale": {
           "diverging": [
            [
             0,
             "#8e0152"
            ],
            [
             0.1,
             "#c51b7d"
            ],
            [
             0.2,
             "#de77ae"
            ],
            [
             0.3,
             "#f1b6da"
            ],
            [
             0.4,
             "#fde0ef"
            ],
            [
             0.5,
             "#f7f7f7"
            ],
            [
             0.6,
             "#e6f5d0"
            ],
            [
             0.7,
             "#b8e186"
            ],
            [
             0.8,
             "#7fbc41"
            ],
            [
             0.9,
             "#4d9221"
            ],
            [
             1,
             "#276419"
            ]
           ],
           "sequential": [
            [
             0,
             "#0d0887"
            ],
            [
             0.1111111111111111,
             "#46039f"
            ],
            [
             0.2222222222222222,
             "#7201a8"
            ],
            [
             0.3333333333333333,
             "#9c179e"
            ],
            [
             0.4444444444444444,
             "#bd3786"
            ],
            [
             0.5555555555555556,
             "#d8576b"
            ],
            [
             0.6666666666666666,
             "#ed7953"
            ],
            [
             0.7777777777777778,
             "#fb9f3a"
            ],
            [
             0.8888888888888888,
             "#fdca26"
            ],
            [
             1,
             "#f0f921"
            ]
           ],
           "sequentialminus": [
            [
             0,
             "#0d0887"
            ],
            [
             0.1111111111111111,
             "#46039f"
            ],
            [
             0.2222222222222222,
             "#7201a8"
            ],
            [
             0.3333333333333333,
             "#9c179e"
            ],
            [
             0.4444444444444444,
             "#bd3786"
            ],
            [
             0.5555555555555556,
             "#d8576b"
            ],
            [
             0.6666666666666666,
             "#ed7953"
            ],
            [
             0.7777777777777778,
             "#fb9f3a"
            ],
            [
             0.8888888888888888,
             "#fdca26"
            ],
            [
             1,
             "#f0f921"
            ]
           ]
          },
          "colorway": [
           "#636efa",
           "#EF553B",
           "#00cc96",
           "#ab63fa",
           "#FFA15A",
           "#19d3f3",
           "#FF6692",
           "#B6E880",
           "#FF97FF",
           "#FECB52"
          ],
          "font": {
           "color": "#2a3f5f"
          },
          "geo": {
           "bgcolor": "white",
           "lakecolor": "white",
           "landcolor": "#E5ECF6",
           "showlakes": true,
           "showland": true,
           "subunitcolor": "white"
          },
          "hoverlabel": {
           "align": "left"
          },
          "hovermode": "closest",
          "mapbox": {
           "style": "light"
          },
          "paper_bgcolor": "white",
          "plot_bgcolor": "#E5ECF6",
          "polar": {
           "angularaxis": {
            "gridcolor": "white",
            "linecolor": "white",
            "ticks": ""
           },
           "bgcolor": "#E5ECF6",
           "radialaxis": {
            "gridcolor": "white",
            "linecolor": "white",
            "ticks": ""
           }
          },
          "scene": {
           "xaxis": {
            "backgroundcolor": "#E5ECF6",
            "gridcolor": "white",
            "gridwidth": 2,
            "linecolor": "white",
            "showbackground": true,
            "ticks": "",
            "zerolinecolor": "white"
           },
           "yaxis": {
            "backgroundcolor": "#E5ECF6",
            "gridcolor": "white",
            "gridwidth": 2,
            "linecolor": "white",
            "showbackground": true,
            "ticks": "",
            "zerolinecolor": "white"
           },
           "zaxis": {
            "backgroundcolor": "#E5ECF6",
            "gridcolor": "white",
            "gridwidth": 2,
            "linecolor": "white",
            "showbackground": true,
            "ticks": "",
            "zerolinecolor": "white"
           }
          },
          "shapedefaults": {
           "line": {
            "color": "#2a3f5f"
           }
          },
          "ternary": {
           "aaxis": {
            "gridcolor": "white",
            "linecolor": "white",
            "ticks": ""
           },
           "baxis": {
            "gridcolor": "white",
            "linecolor": "white",
            "ticks": ""
           },
           "bgcolor": "#E5ECF6",
           "caxis": {
            "gridcolor": "white",
            "linecolor": "white",
            "ticks": ""
           }
          },
          "title": {
           "x": 0.05
          },
          "xaxis": {
           "automargin": true,
           "gridcolor": "white",
           "linecolor": "white",
           "ticks": "",
           "title": {
            "standoff": 15
           },
           "zerolinecolor": "white",
           "zerolinewidth": 2
          },
          "yaxis": {
           "automargin": true,
           "gridcolor": "white",
           "linecolor": "white",
           "ticks": "",
           "title": {
            "standoff": 15
           },
           "zerolinecolor": "white",
           "zerolinewidth": 2
          }
         }
        },
        "title": {
         "font": {
          "size": 20
         },
         "text": "Региональная зависимость числа вакансий и средней зарплаты",
         "x": 0.5,
         "xanchor": "center"
        },
        "width": 1200,
        "xaxis": {
         "anchor": "y",
         "domain": [
          0,
          1
         ],
         "gridcolor": "lightgrey",
         "title": {
          "text": "Средняя зарплата"
         }
        },
        "yaxis": {
         "anchor": "x",
         "domain": [
          0,
          1
         ],
         "gridcolor": "lightgrey",
         "title": {
          "text": "Число вакансий"
         }
        }
       }
      }
     },
     "metadata": {},
     "output_type": "display_data"
    }
   ],
   "source": [
    "# Optional Enhancements 7 — Анализ вакансий по регионам\n",
    "# Визуализация с помощью Plotly Express\n",
    "\n",
    "import plotly.express as px\n",
    "\n",
    "df_plot = df['skills_area_salary_demand'].copy()\n",
    "\n",
    "fig = px.scatter(\n",
    "    df_plot,\n",
    "    x='avg_salary',           # Ось X — средняя зарплата\n",
    "    y='vacancy_count',        # Ось Y — число вакансий\n",
    "    color='avg_salary',       # Цветовая градация по зарплате\n",
    "    hover_name='area',\n",
    "    hover_data={\n",
    "        'area': True,\n",
    "        'avg_salary': True,\n",
    "        'vacancy_count': True,\n",
    "        'skill_one': True,\n",
    "        'skill_two': True,\n",
    "        'skill_three': True\n",
    "    },\n",
    "    text='area',\n",
    "    title='Региональная зависимость числа вакансий и средней зарплаты',\n",
    "    labels={\n",
    "        'avg_salary': 'Средняя зарплата',\n",
    "        'vacancy_count': 'Число вакансий'\n",
    "    },\n",
    "    color_continuous_scale='Viridis',\n",
    "    width=1200,\n",
    "    height=600\n",
    ")\n",
    "\n",
    "fig.update_traces(\n",
    "    marker=dict(size=14, line=dict(width=1, color='darkgrey')),\n",
    "    textposition='top center'\n",
    ")\n",
    "\n",
    "fig.update_layout(\n",
    "    title={\n",
    "        'text': 'Региональная зависимость числа вакансий и средней зарплаты',\n",
    "        'x': 0.5,\n",
    "        'xanchor': 'center'\n",
    "    },\n",
    "    font=dict(size=14, family='Arial'),\n",
    "    title_font=dict(size=20),\n",
    "    xaxis=dict(title='Средняя зарплата', gridcolor='lightgrey'),\n",
    "    yaxis=dict(title='Число вакансий', gridcolor='lightgrey'),\n",
    "    plot_bgcolor='white',\n",
    "    hoverlabel=dict(bgcolor='white', font_size=13, font_family='Arial'),\n",
    "    margin=dict(l=40, r=40, t=60, b=40),\n",
    "    coloraxis_colorbar=dict(title='Средняя зарплата')\n",
    ")\n",
    "\n",
    "fig.write_image(\"plots/vacancy_vs_salary_by_area.png\", width=1200, height=600)\n",
    "fig.show()\n",
    "\n",
    "\n"
   ]
  },
  {
   "cell_type": "markdown",
   "id": "0d67198f",
   "metadata": {},
   "source": [
    "### Анализ вакансий по регионам\n",
    "\n",
    "![Вакансии по регионам и зарплаты](plots/salary_vs_vacancy_count_by_area.png)\n",
    "\n",
    "Комментарий к графику: Зарплата vs Количество вакансий по регионам\n",
    "На графике представлена взаимосвязь между средним уровнем зарплаты и количеством вакансий по регионам России. Цвет точек отражает уровень средней зарплаты: от тёмно-фиолетового (низкие значения) до ярко-жёлтого (высокие значения).\n",
    "\n",
    "🟡 Москва — лидер по обоим показателям: более 3800 вакансий и средняя зарплата около 140 000 ₽. Это самый яркий и крупный маркер на графике.\n",
    "\n",
    "🟢 Санкт-Петербург — второй по количеству вакансий (~2200), но со средней зарплатой около 110 000 ₽, заметно ниже, чем в Москве.\n",
    "\n",
    "🟣 Новосибирск, Екатеринбург, Казань — имеют от 600 до 1000 вакансий, со средней зарплатой в диапазоне 80 000–100 000 ₽.\n",
    "\n",
    "🔵 Нижний Новгород, Ростов-на-Дону, Краснодар — демонстрируют умеренные значения: 400–700 вакансий и зарплаты около 85 000 ₽.\n",
    "\n",
    "⚫ Пермь, Томск, Иркутск — находятся в нижней части графика: менее 300 вакансий и зарплаты ниже 80 000 ₽.\n",
    "\n",
    "График подчёркивает сильную концентрацию вакансий и высоких зарплат в Москве, а также заметный разрыв между столичными и региональными рынками труда."
   ]
  },
  {
   "cell_type": "code",
   "execution_count": 90,
   "id": "6574bce1",
   "metadata": {},
   "outputs": [
    {
     "data": {
      "text/html": [
       "<style type=\"text/css\">\n",
       "</style>\n",
       "<table id=\"T_e7656\">\n",
       "  <caption>Top 3 Skills per Area</caption>\n",
       "  <thead>\n",
       "    <tr>\n",
       "      <th class=\"blank level0\" >&nbsp;</th>\n",
       "      <th id=\"T_e7656_level0_col0\" class=\"col_heading level0 col0\" >area</th>\n",
       "      <th id=\"T_e7656_level0_col1\" class=\"col_heading level0 col1\" >skill_one</th>\n",
       "      <th id=\"T_e7656_level0_col2\" class=\"col_heading level0 col2\" >skill_two</th>\n",
       "      <th id=\"T_e7656_level0_col3\" class=\"col_heading level0 col3\" >skill_three</th>\n",
       "    </tr>\n",
       "  </thead>\n",
       "  <tbody>\n",
       "    <tr>\n",
       "      <th id=\"T_e7656_level0_row0\" class=\"row_heading level0 row0\" >0</th>\n",
       "      <td id=\"T_e7656_row0_col0\" class=\"data row0 col0\" >Москва</td>\n",
       "      <td id=\"T_e7656_row0_col1\" class=\"data row0 col1\" >SQL</td>\n",
       "      <td id=\"T_e7656_row0_col2\" class=\"data row0 col2\" >Python</td>\n",
       "      <td id=\"T_e7656_row0_col3\" class=\"data row0 col3\" >Английский язык</td>\n",
       "    </tr>\n",
       "    <tr>\n",
       "      <th id=\"T_e7656_level0_row1\" class=\"row_heading level0 row1\" >1</th>\n",
       "      <td id=\"T_e7656_row1_col0\" class=\"data row1 col0\" >Санкт-Петербург</td>\n",
       "      <td id=\"T_e7656_row1_col1\" class=\"data row1 col1\" >SQL</td>\n",
       "      <td id=\"T_e7656_row1_col2\" class=\"data row1 col2\" >Английский язык</td>\n",
       "      <td id=\"T_e7656_row1_col3\" class=\"data row1 col3\" >Python</td>\n",
       "    </tr>\n",
       "    <tr>\n",
       "      <th id=\"T_e7656_level0_row2\" class=\"row_heading level0 row2\" >2</th>\n",
       "      <td id=\"T_e7656_row2_col0\" class=\"data row2 col0\" >Минск</td>\n",
       "      <td id=\"T_e7656_row2_col1\" class=\"data row2 col1\" >Английский язык</td>\n",
       "      <td id=\"T_e7656_row2_col2\" class=\"data row2 col2\" >JavaScript</td>\n",
       "      <td id=\"T_e7656_row2_col3\" class=\"data row2 col3\" >Git</td>\n",
       "    </tr>\n",
       "    <tr>\n",
       "      <th id=\"T_e7656_level0_row3\" class=\"row_heading level0 row3\" >3</th>\n",
       "      <td id=\"T_e7656_row3_col0\" class=\"data row3 col0\" >Новосибирск</td>\n",
       "      <td id=\"T_e7656_row3_col1\" class=\"data row3 col1\" >SQL</td>\n",
       "      <td id=\"T_e7656_row3_col2\" class=\"data row3 col2\" >Git</td>\n",
       "      <td id=\"T_e7656_row3_col3\" class=\"data row3 col3\" >Linux</td>\n",
       "    </tr>\n",
       "    <tr>\n",
       "      <th id=\"T_e7656_level0_row4\" class=\"row_heading level0 row4\" >4</th>\n",
       "      <td id=\"T_e7656_row4_col0\" class=\"data row4 col0\" >Алматы</td>\n",
       "      <td id=\"T_e7656_row4_col1\" class=\"data row4 col1\" >Английский язык</td>\n",
       "      <td id=\"T_e7656_row4_col2\" class=\"data row4 col2\" >SQL</td>\n",
       "      <td id=\"T_e7656_row4_col3\" class=\"data row4 col3\" >Git</td>\n",
       "    </tr>\n",
       "    <tr>\n",
       "      <th id=\"T_e7656_level0_row5\" class=\"row_heading level0 row5\" >5</th>\n",
       "      <td id=\"T_e7656_row5_col0\" class=\"data row5 col0\" >Екатеринбург</td>\n",
       "      <td id=\"T_e7656_row5_col1\" class=\"data row5 col1\" >SQL</td>\n",
       "      <td id=\"T_e7656_row5_col2\" class=\"data row5 col2\" >Git</td>\n",
       "      <td id=\"T_e7656_row5_col3\" class=\"data row5 col3\" >Linux</td>\n",
       "    </tr>\n",
       "    <tr>\n",
       "      <th id=\"T_e7656_level0_row6\" class=\"row_heading level0 row6\" >6</th>\n",
       "      <td id=\"T_e7656_row6_col0\" class=\"data row6 col0\" >Нижний Новгород</td>\n",
       "      <td id=\"T_e7656_row6_col1\" class=\"data row6 col1\" >SQL</td>\n",
       "      <td id=\"T_e7656_row6_col2\" class=\"data row6 col2\" >Linux</td>\n",
       "      <td id=\"T_e7656_row6_col3\" class=\"data row6 col3\" >Git</td>\n",
       "    </tr>\n",
       "    <tr>\n",
       "      <th id=\"T_e7656_level0_row7\" class=\"row_heading level0 row7\" >7</th>\n",
       "      <td id=\"T_e7656_row7_col0\" class=\"data row7 col0\" >Казань</td>\n",
       "      <td id=\"T_e7656_row7_col1\" class=\"data row7 col1\" >SQL</td>\n",
       "      <td id=\"T_e7656_row7_col2\" class=\"data row7 col2\" >Git</td>\n",
       "      <td id=\"T_e7656_row7_col3\" class=\"data row7 col3\" >Linux</td>\n",
       "    </tr>\n",
       "    <tr>\n",
       "      <th id=\"T_e7656_level0_row8\" class=\"row_heading level0 row8\" >8</th>\n",
       "      <td id=\"T_e7656_row8_col0\" class=\"data row8 col0\" >Краснодар</td>\n",
       "      <td id=\"T_e7656_row8_col1\" class=\"data row8 col1\" >SQL</td>\n",
       "      <td id=\"T_e7656_row8_col2\" class=\"data row8 col2\" >Git</td>\n",
       "      <td id=\"T_e7656_row8_col3\" class=\"data row8 col3\" >1С программирование</td>\n",
       "    </tr>\n",
       "    <tr>\n",
       "      <th id=\"T_e7656_level0_row9\" class=\"row_heading level0 row9\" >9</th>\n",
       "      <td id=\"T_e7656_row9_col0\" class=\"data row9 col0\" >Самара</td>\n",
       "      <td id=\"T_e7656_row9_col1\" class=\"data row9 col1\" >SQL</td>\n",
       "      <td id=\"T_e7656_row9_col2\" class=\"data row9 col2\" >Java</td>\n",
       "      <td id=\"T_e7656_row9_col3\" class=\"data row9 col3\" >Git</td>\n",
       "    </tr>\n",
       "    <tr>\n",
       "      <th id=\"T_e7656_level0_row10\" class=\"row_heading level0 row10\" >10</th>\n",
       "      <td id=\"T_e7656_row10_col0\" class=\"data row10 col0\" >Ростов-на-Дону</td>\n",
       "      <td id=\"T_e7656_row10_col1\" class=\"data row10 col1\" >SQL</td>\n",
       "      <td id=\"T_e7656_row10_col2\" class=\"data row10 col2\" >Git</td>\n",
       "      <td id=\"T_e7656_row10_col3\" class=\"data row10 col3\" >Linux</td>\n",
       "    </tr>\n",
       "    <tr>\n",
       "      <th id=\"T_e7656_level0_row11\" class=\"row_heading level0 row11\" >11</th>\n",
       "      <td id=\"T_e7656_row11_col0\" class=\"data row11 col0\" >Воронеж</td>\n",
       "      <td id=\"T_e7656_row11_col1\" class=\"data row11 col1\" >SQL</td>\n",
       "      <td id=\"T_e7656_row11_col2\" class=\"data row11 col2\" >1С программирование</td>\n",
       "      <td id=\"T_e7656_row11_col3\" class=\"data row11 col3\" >Работа в команде</td>\n",
       "    </tr>\n",
       "    <tr>\n",
       "      <th id=\"T_e7656_level0_row12\" class=\"row_heading level0 row12\" >12</th>\n",
       "      <td id=\"T_e7656_row12_col0\" class=\"data row12 col0\" >Ташкент</td>\n",
       "      <td id=\"T_e7656_row12_col1\" class=\"data row12 col1\" >Английский язык</td>\n",
       "      <td id=\"T_e7656_row12_col2\" class=\"data row12 col2\" >Git</td>\n",
       "      <td id=\"T_e7656_row12_col3\" class=\"data row12 col3\" >SQL</td>\n",
       "    </tr>\n",
       "    <tr>\n",
       "      <th id=\"T_e7656_level0_row13\" class=\"row_heading level0 row13\" >13</th>\n",
       "      <td id=\"T_e7656_row13_col0\" class=\"data row13 col0\" >Красноярск</td>\n",
       "      <td id=\"T_e7656_row13_col1\" class=\"data row13 col1\" >Работа в команде</td>\n",
       "      <td id=\"T_e7656_row13_col2\" class=\"data row13 col2\" >1С программирование</td>\n",
       "      <td id=\"T_e7656_row13_col3\" class=\"data row13 col3\" >1С: Предприятие 8</td>\n",
       "    </tr>\n",
       "    <tr>\n",
       "      <th id=\"T_e7656_level0_row14\" class=\"row_heading level0 row14\" >14</th>\n",
       "      <td id=\"T_e7656_row14_col0\" class=\"data row14 col0\" >Нур-Султан</td>\n",
       "      <td id=\"T_e7656_row14_col1\" class=\"data row14 col1\" >Английский язык</td>\n",
       "      <td id=\"T_e7656_row14_col2\" class=\"data row14 col2\" >SQL</td>\n",
       "      <td id=\"T_e7656_row14_col3\" class=\"data row14 col3\" >Git</td>\n",
       "    </tr>\n",
       "    <tr>\n",
       "      <th id=\"T_e7656_level0_row15\" class=\"row_heading level0 row15\" >15</th>\n",
       "      <td id=\"T_e7656_row15_col0\" class=\"data row15 col0\" >Челябинск</td>\n",
       "      <td id=\"T_e7656_row15_col1\" class=\"data row15 col1\" >SQL</td>\n",
       "      <td id=\"T_e7656_row15_col2\" class=\"data row15 col2\" >1С программирование</td>\n",
       "      <td id=\"T_e7656_row15_col3\" class=\"data row15 col3\" >Git</td>\n",
       "    </tr>\n",
       "    <tr>\n",
       "      <th id=\"T_e7656_level0_row16\" class=\"row_heading level0 row16\" >16</th>\n",
       "      <td id=\"T_e7656_row16_col0\" class=\"data row16 col0\" >Пермь</td>\n",
       "      <td id=\"T_e7656_row16_col1\" class=\"data row16 col1\" >SQL</td>\n",
       "      <td id=\"T_e7656_row16_col2\" class=\"data row16 col2\" >Git</td>\n",
       "      <td id=\"T_e7656_row16_col3\" class=\"data row16 col3\" >1С программирование</td>\n",
       "    </tr>\n",
       "    <tr>\n",
       "      <th id=\"T_e7656_level0_row17\" class=\"row_heading level0 row17\" >17</th>\n",
       "      <td id=\"T_e7656_row17_col0\" class=\"data row17 col0\" >Уфа</td>\n",
       "      <td id=\"T_e7656_row17_col1\" class=\"data row17 col1\" >SQL</td>\n",
       "      <td id=\"T_e7656_row17_col2\" class=\"data row17 col2\" >Git</td>\n",
       "      <td id=\"T_e7656_row17_col3\" class=\"data row17 col3\" >Работа в команде</td>\n",
       "    </tr>\n",
       "    <tr>\n",
       "      <th id=\"T_e7656_level0_row18\" class=\"row_heading level0 row18\" >18</th>\n",
       "      <td id=\"T_e7656_row18_col0\" class=\"data row18 col0\" >Томск</td>\n",
       "      <td id=\"T_e7656_row18_col1\" class=\"data row18 col1\" >Git</td>\n",
       "      <td id=\"T_e7656_row18_col2\" class=\"data row18 col2\" >SQL</td>\n",
       "      <td id=\"T_e7656_row18_col3\" class=\"data row18 col3\" >Linux</td>\n",
       "    </tr>\n",
       "    <tr>\n",
       "      <th id=\"T_e7656_level0_row19\" class=\"row_heading level0 row19\" >19</th>\n",
       "      <td id=\"T_e7656_row19_col0\" class=\"data row19 col0\" >Омск</td>\n",
       "      <td id=\"T_e7656_row19_col1\" class=\"data row19 col1\" >Git</td>\n",
       "      <td id=\"T_e7656_row19_col2\" class=\"data row19 col2\" >SQL</td>\n",
       "      <td id=\"T_e7656_row19_col3\" class=\"data row19 col3\" >Linux</td>\n",
       "    </tr>\n",
       "  </tbody>\n",
       "</table>\n"
      ],
      "text/plain": [
       "<pandas.io.formats.style.Styler at 0x273c221b230>"
      ]
     },
     "execution_count": 90,
     "metadata": {},
     "output_type": "execute_result"
    }
   ],
   "source": [
    "# Optional Enhancements 7 — Анализ вакансий по регионам\n",
    "# Выводим таблицу с топ-3 навыками по регионам\n",
    "\n",
    "df['skills_area_salary_demand'][['area', 'skill_one', 'skill_two', 'skill_three']].style.set_caption(\"Top 3 Skills per Area\")\n"
   ]
  },
  {
   "cell_type": "code",
   "execution_count": 91,
   "id": "9d81f5d8",
   "metadata": {},
   "outputs": [
    {
     "data": {
      "text/html": [
       "<div>\n",
       "<style scoped>\n",
       "    .dataframe tbody tr th:only-of-type {\n",
       "        vertical-align: middle;\n",
       "    }\n",
       "\n",
       "    .dataframe tbody tr th {\n",
       "        vertical-align: top;\n",
       "    }\n",
       "\n",
       "    .dataframe thead th {\n",
       "        text-align: right;\n",
       "    }\n",
       "</style>\n",
       "<table border=\"1\" class=\"dataframe\">\n",
       "  <thead>\n",
       "    <tr style=\"text-align: right;\">\n",
       "      <th></th>\n",
       "      <th>employer</th>\n",
       "      <th>vacancy_count</th>\n",
       "      <th>vacancy_percentage</th>\n",
       "      <th>industry_rank_ratio</th>\n",
       "    </tr>\n",
       "  </thead>\n",
       "  <tbody>\n",
       "    <tr>\n",
       "      <th>0</th>\n",
       "      <td>Яндекс</td>\n",
       "      <td>1933</td>\n",
       "      <td>3.93</td>\n",
       "      <td>0.47</td>\n",
       "    </tr>\n",
       "    <tr>\n",
       "      <th>1</th>\n",
       "      <td>Ростелеком</td>\n",
       "      <td>491</td>\n",
       "      <td>1.00</td>\n",
       "      <td>1.87</td>\n",
       "    </tr>\n",
       "    <tr>\n",
       "      <th>2</th>\n",
       "      <td>Тинькофф</td>\n",
       "      <td>444</td>\n",
       "      <td>0.90</td>\n",
       "      <td>2.33</td>\n",
       "    </tr>\n",
       "    <tr>\n",
       "      <th>3</th>\n",
       "      <td>СБЕР</td>\n",
       "      <td>428</td>\n",
       "      <td>0.87</td>\n",
       "      <td>0.47</td>\n",
       "    </tr>\n",
       "    <tr>\n",
       "      <th>4</th>\n",
       "      <td>Газпром нефть</td>\n",
       "      <td>331</td>\n",
       "      <td>0.67</td>\n",
       "      <td>1.40</td>\n",
       "    </tr>\n",
       "  </tbody>\n",
       "</table>\n",
       "</div>"
      ],
      "text/plain": [
       "        employer  vacancy_count  vacancy_percentage  industry_rank_ratio\n",
       "0         Яндекс           1933                3.93                 0.47\n",
       "1     Ростелеком            491                1.00                 1.87\n",
       "2       Тинькофф            444                0.90                 2.33\n",
       "3           СБЕР            428                0.87                 0.47\n",
       "4  Газпром нефть            331                0.67                 1.40"
      ]
     },
     "execution_count": 91,
     "metadata": {},
     "output_type": "execute_result"
    }
   ],
   "source": [
    "# Optional Enhancements 8 — Рейтинг работодателей по отраслям и вакансиям\n",
    "\n",
    "connection = create_sqlalchemy_connection()\n",
    "\n",
    "def employers_vacancies_industries_ratio(connection):\n",
    "    \n",
    "    \"\"\"\n",
    "    Возвращает список ведущих работодателей с количеством вакансий, долей от общего числа вакансий\n",
    "    и отраслевым ранговым коэффициентом (число отраслей на одного работодателя, делённое на среднее значение).\n",
    "    \n",
    "    Параметры:\n",
    "        connection (sqlalchemy.engine.base.Connection): Активное соединение SQLAlchemy с Public DB.\n",
    "    \n",
    "    Возвращает:\n",
    "        pandas.DataFrame: Таблица с колонками:\n",
    "            - employer\n",
    "            - vacancy_count\n",
    "            - vacancy_percentage\n",
    "            - industry_rank_ratio\n",
    "    \"\"\"\n",
    "\n",
    "    query = \"\"\"\n",
    "    WITH industry_stats AS (\n",
    "        SELECT \n",
    "            e.id AS employer_id,\n",
    "            COUNT(DISTINCT ei.industry_id) AS industry_count,\n",
    "            ROUND(\n",
    "                COUNT(DISTINCT ei.industry_id) * 1.0 / (\n",
    "                    SELECT AVG(industry_total)\n",
    "                    FROM (\n",
    "                        SELECT COUNT(DISTINCT ei2.industry_id) AS industry_total\n",
    "                        FROM employers_industries ei2\n",
    "                        GROUP BY ei2.employer_id\n",
    "                    ) AS subquery\n",
    "                ),\n",
    "                2\n",
    "            ) AS industry_rank_ratio\n",
    "        FROM employers e\n",
    "        JOIN employers_industries ei ON e.id = ei.employer_id\n",
    "        GROUP BY e.id\n",
    "    )\n",
    "    SELECT \n",
    "        e.name AS employer,\n",
    "        COUNT(v.id) AS vacancy_count,\n",
    "        ROUND(\n",
    "            COUNT(v.id) * 100.0 / (SELECT COUNT(*) FROM vacancies),\n",
    "            2\n",
    "        ) AS vacancy_percentage,\n",
    "        s.industry_rank_ratio\n",
    "    FROM vacancies v\n",
    "    JOIN employers e ON v.employer_id = e.id\n",
    "    LEFT JOIN industry_stats s ON e.id = s.employer_id\n",
    "    GROUP BY e.name, s.industry_rank_ratio\n",
    "    ORDER BY vacancy_count DESC\n",
    "    LIMIT 20;\n",
    "    \"\"\"\n",
    "    return pd.read_sql(query, connection)\n",
    "\n",
    "df['employers_vacancies_industries_ratio'] = employers_vacancies_industries_ratio(connection)\n",
    "df['employers_vacancies_industries_ratio'].head()  # показываем"
   ]
  },
  {
   "cell_type": "code",
   "execution_count": 92,
   "id": "f00bc246",
   "metadata": {},
   "outputs": [
    {
     "data": {
      "application/vnd.plotly.v1+json": {
       "config": {
        "plotlyServerURL": "https://plot.ly"
       },
       "data": [
        {
         "customdata": {
          "bdata": "jQc=",
          "dtype": "i2",
          "shape": "1, 1"
         },
         "hovertemplate": "<b>%{hovertext}</b><br><br>employer=%{text}<br>Доля вакансий (%)=%{x}<br>Отраслевой ранг (норм.)=%{y}<br>vacancy_count=%{customdata[0]}<extra></extra>",
         "hovertext": [
          "Яндекс"
         ],
         "legendgroup": "Яндекс",
         "marker": {
          "color": "#636efa",
          "line": {
           "color": "darkgrey",
           "width": 1
          },
          "size": 16,
          "symbol": "circle"
         },
         "mode": "markers+text",
         "name": "Яндекс",
         "orientation": "v",
         "showlegend": true,
         "text": [
          "Яндекс"
         ],
         "textposition": "top center",
         "type": "scatter",
         "x": {
          "bdata": "cT0K16NwD0A=",
          "dtype": "f8"
         },
         "xaxis": "x",
         "y": {
          "bdata": "FK5H4XoU3j8=",
          "dtype": "f8"
         },
         "yaxis": "y"
        },
        {
         "customdata": {
          "bdata": "6wE=",
          "dtype": "i2",
          "shape": "1, 1"
         },
         "hovertemplate": "<b>%{hovertext}</b><br><br>employer=%{text}<br>Доля вакансий (%)=%{x}<br>Отраслевой ранг (норм.)=%{y}<br>vacancy_count=%{customdata[0]}<extra></extra>",
         "hovertext": [
          "Ростелеком"
         ],
         "legendgroup": "Ростелеком",
         "marker": {
          "color": "#EF553B",
          "line": {
           "color": "darkgrey",
           "width": 1
          },
          "size": 16,
          "symbol": "circle"
         },
         "mode": "markers+text",
         "name": "Ростелеком",
         "orientation": "v",
         "showlegend": true,
         "text": [
          "Ростелеком"
         ],
         "textposition": "top center",
         "type": "scatter",
         "x": {
          "bdata": "AAAAAAAA8D8=",
          "dtype": "f8"
         },
         "xaxis": "x",
         "y": {
          "bdata": "7FG4HoXr/T8=",
          "dtype": "f8"
         },
         "yaxis": "y"
        },
        {
         "customdata": {
          "bdata": "vAE=",
          "dtype": "i2",
          "shape": "1, 1"
         },
         "hovertemplate": "<b>%{hovertext}</b><br><br>employer=%{text}<br>Доля вакансий (%)=%{x}<br>Отраслевой ранг (норм.)=%{y}<br>vacancy_count=%{customdata[0]}<extra></extra>",
         "hovertext": [
          "Тинькофф"
         ],
         "legendgroup": "Тинькофф",
         "marker": {
          "color": "#00cc96",
          "line": {
           "color": "darkgrey",
           "width": 1
          },
          "size": 16,
          "symbol": "circle"
         },
         "mode": "markers+text",
         "name": "Тинькофф",
         "orientation": "v",
         "showlegend": true,
         "text": [
          "Тинькофф"
         ],
         "textposition": "top center",
         "type": "scatter",
         "x": {
          "bdata": "zczMzMzM7D8=",
          "dtype": "f8"
         },
         "xaxis": "x",
         "y": {
          "bdata": "pHA9CtejAkA=",
          "dtype": "f8"
         },
         "yaxis": "y"
        },
        {
         "customdata": {
          "bdata": "rAE=",
          "dtype": "i2",
          "shape": "1, 1"
         },
         "hovertemplate": "<b>%{hovertext}</b><br><br>employer=%{text}<br>Доля вакансий (%)=%{x}<br>Отраслевой ранг (норм.)=%{y}<br>vacancy_count=%{customdata[0]}<extra></extra>",
         "hovertext": [
          "СБЕР"
         ],
         "legendgroup": "СБЕР",
         "marker": {
          "color": "#ab63fa",
          "line": {
           "color": "darkgrey",
           "width": 1
          },
          "size": 16,
          "symbol": "circle"
         },
         "mode": "markers+text",
         "name": "СБЕР",
         "orientation": "v",
         "showlegend": true,
         "text": [
          "СБЕР"
         ],
         "textposition": "top center",
         "type": "scatter",
         "x": {
          "bdata": "16NwPQrX6z8=",
          "dtype": "f8"
         },
         "xaxis": "x",
         "y": {
          "bdata": "FK5H4XoU3j8=",
          "dtype": "f8"
         },
         "yaxis": "y"
        },
        {
         "customdata": {
          "bdata": "SwE=",
          "dtype": "i2",
          "shape": "1, 1"
         },
         "hovertemplate": "<b>%{hovertext}</b><br><br>employer=%{text}<br>Доля вакансий (%)=%{x}<br>Отраслевой ранг (норм.)=%{y}<br>vacancy_count=%{customdata[0]}<extra></extra>",
         "hovertext": [
          "Газпром нефть"
         ],
         "legendgroup": "Газпром нефть",
         "marker": {
          "color": "#FFA15A",
          "line": {
           "color": "darkgrey",
           "width": 1
          },
          "size": 16,
          "symbol": "circle"
         },
         "mode": "markers+text",
         "name": "Газпром нефть",
         "orientation": "v",
         "showlegend": true,
         "text": [
          "Газпром нефть"
         ],
         "textposition": "top center",
         "type": "scatter",
         "x": {
          "bdata": "cT0K16Nw5T8=",
          "dtype": "f8"
         },
         "xaxis": "x",
         "y": {
          "bdata": "ZmZmZmZm9j8=",
          "dtype": "f8"
         },
         "yaxis": "y"
        },
        {
         "customdata": {
          "bdata": "RwE=",
          "dtype": "i2",
          "shape": "1, 1"
         },
         "hovertemplate": "<b>%{hovertext}</b><br><br>employer=%{text}<br>Доля вакансий (%)=%{x}<br>Отраслевой ранг (норм.)=%{y}<br>vacancy_count=%{customdata[0]}<extra></extra>",
         "hovertext": [
          "ИК СИБИНТЕК"
         ],
         "legendgroup": "ИК СИБИНТЕК",
         "marker": {
          "color": "#19d3f3",
          "line": {
           "color": "darkgrey",
           "width": 1
          },
          "size": 16,
          "symbol": "circle"
         },
         "mode": "markers+text",
         "name": "ИК СИБИНТЕК",
         "orientation": "v",
         "showlegend": true,
         "text": [
          "ИК СИБИНТЕК"
         ],
         "textposition": "top center",
         "type": "scatter",
         "x": {
          "bdata": "H4XrUbge5T8=",
          "dtype": "f8"
         },
         "xaxis": "x",
         "y": {
          "bdata": "FK5H4XoU3j8=",
          "dtype": "f8"
         },
         "yaxis": "y"
        },
        {
         "customdata": {
          "bdata": "JAE=",
          "dtype": "i2",
          "shape": "1, 1"
         },
         "hovertemplate": "<b>%{hovertext}</b><br><br>employer=%{text}<br>Доля вакансий (%)=%{x}<br>Отраслевой ранг (норм.)=%{y}<br>vacancy_count=%{customdata[0]}<extra></extra>",
         "hovertext": [
          "МТС"
         ],
         "legendgroup": "МТС",
         "marker": {
          "color": "#FF6692",
          "line": {
           "color": "darkgrey",
           "width": 1
          },
          "size": 16,
          "symbol": "circle"
         },
         "mode": "markers+text",
         "name": "МТС",
         "orientation": "v",
         "showlegend": true,
         "text": [
          "МТС"
         ],
         "textposition": "top center",
         "type": "scatter",
         "x": {
          "bdata": "4XoUrkfh4j8=",
          "dtype": "f8"
         },
         "xaxis": "x",
         "y": {
          "bdata": "FK5H4XoU3j8=",
          "dtype": "f8"
         },
         "yaxis": "y"
        },
        {
         "customdata": {
          "bdata": "9wA=",
          "dtype": "i2",
          "shape": "1, 1"
         },
         "hovertemplate": "<b>%{hovertext}</b><br><br>employer=%{text}<br>Доля вакансий (%)=%{x}<br>Отраслевой ранг (норм.)=%{y}<br>vacancy_count=%{customdata[0]}<extra></extra>",
         "hovertext": [
          "DataArt"
         ],
         "legendgroup": "DataArt",
         "marker": {
          "color": "#B6E880",
          "line": {
           "color": "darkgrey",
           "width": 1
          },
          "size": 16,
          "symbol": "circle"
         },
         "mode": "markers+text",
         "name": "DataArt",
         "orientation": "v",
         "showlegend": true,
         "text": [
          "DataArt"
         ],
         "textposition": "top center",
         "type": "scatter",
         "x": {
          "bdata": "AAAAAAAA4D8=",
          "dtype": "f8"
         },
         "xaxis": "x",
         "y": {
          "bdata": "w/UoXI/C7T8=",
          "dtype": "f8"
         },
         "yaxis": "y"
        },
        {
         "customdata": {
          "bdata": "zAA=",
          "dtype": "i2",
          "shape": "1, 1"
         },
         "hovertemplate": "<b>%{hovertext}</b><br><br>employer=%{text}<br>Доля вакансий (%)=%{x}<br>Отраслевой ранг (норм.)=%{y}<br>vacancy_count=%{customdata[0]}<extra></extra>",
         "hovertext": [
          "Совкомбанк Технологии"
         ],
         "legendgroup": "Совкомбанк Технологии",
         "marker": {
          "color": "#FF97FF",
          "line": {
           "color": "darkgrey",
           "width": 1
          },
          "size": 16,
          "symbol": "circle"
         },
         "mode": "markers+text",
         "name": "Совкомбанк Технологии",
         "orientation": "v",
         "showlegend": true,
         "text": [
          "Совкомбанк Технологии"
         ],
         "textposition": "top center",
         "type": "scatter",
         "x": {
          "bdata": "PQrXo3A92j8=",
          "dtype": "f8"
         },
         "xaxis": "x",
         "y": {
          "bdata": "FK5H4XoU3j8=",
          "dtype": "f8"
         },
         "yaxis": "y"
        },
        {
         "customdata": {
          "bdata": "sAA=",
          "dtype": "i2",
          "shape": "1, 1"
         },
         "hovertemplate": "<b>%{hovertext}</b><br><br>employer=%{text}<br>Доля вакансий (%)=%{x}<br>Отраслевой ранг (норм.)=%{y}<br>vacancy_count=%{customdata[0]}<extra></extra>",
         "hovertext": [
          "Первый Бит"
         ],
         "legendgroup": "Первый Бит",
         "marker": {
          "color": "#FECB52",
          "line": {
           "color": "darkgrey",
           "width": 1
          },
          "size": 16,
          "symbol": "circle"
         },
         "mode": "markers+text",
         "name": "Первый Бит",
         "orientation": "v",
         "showlegend": true,
         "text": [
          "Первый Бит"
         ],
         "textposition": "top center",
         "type": "scatter",
         "x": {
          "bdata": "CtejcD0K1z8=",
          "dtype": "f8"
         },
         "xaxis": "x",
         "y": {
          "bdata": "FK5H4XoU3j8=",
          "dtype": "f8"
         },
         "yaxis": "y"
        },
        {
         "customdata": {
          "bdata": "rwA=",
          "dtype": "i2",
          "shape": "1, 1"
         },
         "hovertemplate": "<b>%{hovertext}</b><br><br>employer=%{text}<br>Доля вакансий (%)=%{x}<br>Отраслевой ранг (норм.)=%{y}<br>vacancy_count=%{customdata[0]}<extra></extra>",
         "hovertext": [
          "IBS"
         ],
         "legendgroup": "IBS",
         "marker": {
          "color": "#636efa",
          "line": {
           "color": "darkgrey",
           "width": 1
          },
          "size": 16,
          "symbol": "circle"
         },
         "mode": "markers+text",
         "name": "IBS",
         "orientation": "v",
         "showlegend": true,
         "text": [
          "IBS"
         ],
         "textposition": "top center",
         "type": "scatter",
         "x": {
          "bdata": "CtejcD0K1z8=",
          "dtype": "f8"
         },
         "xaxis": "x",
         "y": {
          "bdata": "w/UoXI/C7T8=",
          "dtype": "f8"
         },
         "yaxis": "y"
        },
        {
         "customdata": {
          "bdata": "rwA=",
          "dtype": "i2",
          "shape": "1, 1"
         },
         "hovertemplate": "<b>%{hovertext}</b><br><br>employer=%{text}<br>Доля вакансий (%)=%{x}<br>Отраслевой ранг (норм.)=%{y}<br>vacancy_count=%{customdata[0]}<extra></extra>",
         "hovertext": [
          "Ozon"
         ],
         "legendgroup": "Ozon",
         "marker": {
          "color": "#EF553B",
          "line": {
           "color": "darkgrey",
           "width": 1
          },
          "size": 16,
          "symbol": "circle"
         },
         "mode": "markers+text",
         "name": "Ozon",
         "orientation": "v",
         "showlegend": true,
         "text": [
          "Ozon"
         ],
         "textposition": "top center",
         "type": "scatter",
         "x": {
          "bdata": "CtejcD0K1z8=",
          "dtype": "f8"
         },
         "xaxis": "x",
         "y": {
          "bdata": "7FG4HoXr/T8=",
          "dtype": "f8"
         },
         "yaxis": "y"
        },
        {
         "customdata": {
          "bdata": "mwA=",
          "dtype": "i2",
          "shape": "1, 1"
         },
         "hovertemplate": "<b>%{hovertext}</b><br><br>employer=%{text}<br>Доля вакансий (%)=%{x}<br>Отраслевой ранг (норм.)=%{y}<br>vacancy_count=%{customdata[0]}<extra></extra>",
         "hovertext": [
          "Andersen"
         ],
         "legendgroup": "Andersen",
         "marker": {
          "color": "#00cc96",
          "line": {
           "color": "darkgrey",
           "width": 1
          },
          "size": 16,
          "symbol": "circle"
         },
         "mode": "markers+text",
         "name": "Andersen",
         "orientation": "v",
         "showlegend": true,
         "text": [
          "Andersen"
         ],
         "textposition": "top center",
         "type": "scatter",
         "x": {
          "bdata": "exSuR+F61D8=",
          "dtype": "f8"
         },
         "xaxis": "x",
         "y": {
          "bdata": "w/UoXI/C7T8=",
          "dtype": "f8"
         },
         "yaxis": "y"
        },
        {
         "customdata": {
          "bdata": "mwA=",
          "dtype": "i2",
          "shape": "1, 1"
         },
         "hovertemplate": "<b>%{hovertext}</b><br><br>employer=%{text}<br>Доля вакансий (%)=%{x}<br>Отраслевой ранг (норм.)=%{y}<br>vacancy_count=%{customdata[0]}<extra></extra>",
         "hovertext": [
          "Тензор"
         ],
         "legendgroup": "Тензор",
         "marker": {
          "color": "#ab63fa",
          "line": {
           "color": "darkgrey",
           "width": 1
          },
          "size": 16,
          "symbol": "circle"
         },
         "mode": "markers+text",
         "name": "Тензор",
         "orientation": "v",
         "showlegend": true,
         "text": [
          "Тензор"
         ],
         "textposition": "top center",
         "type": "scatter",
         "x": {
          "bdata": "exSuR+F61D8=",
          "dtype": "f8"
         },
         "xaxis": "x",
         "y": {
          "bdata": "FK5H4XoU3j8=",
          "dtype": "f8"
         },
         "yaxis": "y"
        },
        {
         "customdata": {
          "bdata": "lwA=",
          "dtype": "i2",
          "shape": "1, 1"
         },
         "hovertemplate": "<b>%{hovertext}</b><br><br>employer=%{text}<br>Доля вакансий (%)=%{x}<br>Отраслевой ранг (норм.)=%{y}<br>vacancy_count=%{customdata[0]}<extra></extra>",
         "hovertext": [
          "Спецремонт"
         ],
         "legendgroup": "Спецремонт",
         "marker": {
          "color": "#FFA15A",
          "line": {
           "color": "darkgrey",
           "width": 1
          },
          "size": 16,
          "symbol": "circle"
         },
         "mode": "markers+text",
         "name": "Спецремонт",
         "orientation": "v",
         "showlegend": true,
         "text": [
          "Спецремонт"
         ],
         "textposition": "top center",
         "type": "scatter",
         "x": {
          "bdata": "16NwPQrX0z8=",
          "dtype": "f8"
         },
         "xaxis": "x",
         "y": {
          "bdata": "AAAAAAAA+H8=",
          "dtype": "f8"
         },
         "yaxis": "y"
        },
        {
         "customdata": {
          "bdata": "lgA=",
          "dtype": "i2",
          "shape": "1, 1"
         },
         "hovertemplate": "<b>%{hovertext}</b><br><br>employer=%{text}<br>Доля вакансий (%)=%{x}<br>Отраслевой ранг (норм.)=%{y}<br>vacancy_count=%{customdata[0]}<extra></extra>",
         "hovertext": [
          "VK"
         ],
         "legendgroup": "VK",
         "marker": {
          "color": "#19d3f3",
          "line": {
           "color": "darkgrey",
           "width": 1
          },
          "size": 16,
          "symbol": "circle"
         },
         "mode": "markers+text",
         "name": "VK",
         "orientation": "v",
         "showlegend": true,
         "text": [
          "VK"
         ],
         "textposition": "top center",
         "type": "scatter",
         "x": {
          "bdata": "MzMzMzMz0z8=",
          "dtype": "f8"
         },
         "xaxis": "x",
         "y": {
          "bdata": "ZmZmZmZm9j8=",
          "dtype": "f8"
         },
         "yaxis": "y"
        },
        {
         "customdata": {
          "bdata": "fw==",
          "dtype": "i1",
          "shape": "1, 1"
         },
         "hovertemplate": "<b>%{hovertext}</b><br><br>employer=%{text}<br>Доля вакансий (%)=%{x}<br>Отраслевой ранг (норм.)=%{y}<br>vacancy_count=%{customdata[0]}<extra></extra>",
         "hovertext": [
          "Поляков Денис Иванович"
         ],
         "legendgroup": "Поляков Денис Иванович",
         "marker": {
          "color": "#FF6692",
          "line": {
           "color": "darkgrey",
           "width": 1
          },
          "size": 16,
          "symbol": "circle"
         },
         "mode": "markers+text",
         "name": "Поляков Денис Иванович",
         "orientation": "v",
         "showlegend": true,
         "text": [
          "Поляков Денис Иванович"
         ],
         "textposition": "top center",
         "type": "scatter",
         "x": {
          "bdata": "pHA9Ctej0D8=",
          "dtype": "f8"
         },
         "xaxis": "x",
         "y": {
          "bdata": "AAAAAAAA+H8=",
          "dtype": "f8"
         },
         "yaxis": "y"
        },
        {
         "customdata": {
          "bdata": "eg==",
          "dtype": "i1",
          "shape": "1, 1"
         },
         "hovertemplate": "<b>%{hovertext}</b><br><br>employer=%{text}<br>Доля вакансий (%)=%{x}<br>Отраслевой ранг (норм.)=%{y}<br>vacancy_count=%{customdata[0]}<extra></extra>",
         "hovertext": [
          "Иннотех, Группа компаний"
         ],
         "legendgroup": "Иннотех, Группа компаний",
         "marker": {
          "color": "#B6E880",
          "line": {
           "color": "darkgrey",
           "width": 1
          },
          "size": 16,
          "symbol": "circle"
         },
         "mode": "markers+text",
         "name": "Иннотех, Группа компаний",
         "orientation": "v",
         "showlegend": true,
         "text": [
          "Иннотех, Группа компаний"
         ],
         "textposition": "top center",
         "type": "scatter",
         "x": {
          "bdata": "AAAAAAAA0D8=",
          "dtype": "f8"
         },
         "xaxis": "x",
         "y": {
          "bdata": "AAAAAAAA+H8=",
          "dtype": "f8"
         },
         "yaxis": "y"
        },
        {
         "customdata": {
          "bdata": "eQ==",
          "dtype": "i1",
          "shape": "1, 1"
         },
         "hovertemplate": "<b>%{hovertext}</b><br><br>employer=%{text}<br>Доля вакансий (%)=%{x}<br>Отраслевой ранг (норм.)=%{y}<br>vacancy_count=%{customdata[0]}<extra></extra>",
         "hovertext": [
          "Bell Integrator"
         ],
         "legendgroup": "Bell Integrator",
         "marker": {
          "color": "#FF97FF",
          "line": {
           "color": "darkgrey",
           "width": 1
          },
          "size": 16,
          "symbol": "circle"
         },
         "mode": "markers+text",
         "name": "Bell Integrator",
         "orientation": "v",
         "showlegend": true,
         "text": [
          "Bell Integrator"
         ],
         "textposition": "top center",
         "type": "scatter",
         "x": {
          "bdata": "AAAAAAAA0D8=",
          "dtype": "f8"
         },
         "xaxis": "x",
         "y": {
          "bdata": "FK5H4XoU3j8=",
          "dtype": "f8"
         },
         "yaxis": "y"
        },
        {
         "customdata": {
          "bdata": "dg==",
          "dtype": "i1",
          "shape": "1, 1"
         },
         "hovertemplate": "<b>%{hovertext}</b><br><br>employer=%{text}<br>Доля вакансий (%)=%{x}<br>Отраслевой ранг (норм.)=%{y}<br>vacancy_count=%{customdata[0]}<extra></extra>",
         "hovertext": [
          "ANCOR"
         ],
         "legendgroup": "ANCOR",
         "marker": {
          "color": "#FECB52",
          "line": {
           "color": "darkgrey",
           "width": 1
          },
          "size": 16,
          "symbol": "circle"
         },
         "mode": "markers+text",
         "name": "ANCOR",
         "orientation": "v",
         "showlegend": true,
         "text": [
          "ANCOR"
         ],
         "textposition": "top center",
         "type": "scatter",
         "x": {
          "bdata": "uB6F61G4zj8=",
          "dtype": "f8"
         },
         "xaxis": "x",
         "y": {
          "bdata": "FK5H4XoU3j8=",
          "dtype": "f8"
         },
         "yaxis": "y"
        }
       ],
       "layout": {
        "font": {
         "size": 14
        },
        "height": 700,
        "hoverlabel": {
         "bgcolor": "white",
         "font": {
          "family": "Arial",
          "size": 13
         }
        },
        "legend": {
         "title": {
          "text": "Работодатель"
         },
         "tracegroupgap": 0
        },
        "margin": {
         "b": 40,
         "l": 40,
         "r": 40,
         "t": 60
        },
        "plot_bgcolor": "white",
        "template": {
         "data": {
          "bar": [
           {
            "error_x": {
             "color": "#2a3f5f"
            },
            "error_y": {
             "color": "#2a3f5f"
            },
            "marker": {
             "line": {
              "color": "#E5ECF6",
              "width": 0.5
             },
             "pattern": {
              "fillmode": "overlay",
              "size": 10,
              "solidity": 0.2
             }
            },
            "type": "bar"
           }
          ],
          "barpolar": [
           {
            "marker": {
             "line": {
              "color": "#E5ECF6",
              "width": 0.5
             },
             "pattern": {
              "fillmode": "overlay",
              "size": 10,
              "solidity": 0.2
             }
            },
            "type": "barpolar"
           }
          ],
          "carpet": [
           {
            "aaxis": {
             "endlinecolor": "#2a3f5f",
             "gridcolor": "white",
             "linecolor": "white",
             "minorgridcolor": "white",
             "startlinecolor": "#2a3f5f"
            },
            "baxis": {
             "endlinecolor": "#2a3f5f",
             "gridcolor": "white",
             "linecolor": "white",
             "minorgridcolor": "white",
             "startlinecolor": "#2a3f5f"
            },
            "type": "carpet"
           }
          ],
          "choropleth": [
           {
            "colorbar": {
             "outlinewidth": 0,
             "ticks": ""
            },
            "type": "choropleth"
           }
          ],
          "contour": [
           {
            "colorbar": {
             "outlinewidth": 0,
             "ticks": ""
            },
            "colorscale": [
             [
              0,
              "#0d0887"
             ],
             [
              0.1111111111111111,
              "#46039f"
             ],
             [
              0.2222222222222222,
              "#7201a8"
             ],
             [
              0.3333333333333333,
              "#9c179e"
             ],
             [
              0.4444444444444444,
              "#bd3786"
             ],
             [
              0.5555555555555556,
              "#d8576b"
             ],
             [
              0.6666666666666666,
              "#ed7953"
             ],
             [
              0.7777777777777778,
              "#fb9f3a"
             ],
             [
              0.8888888888888888,
              "#fdca26"
             ],
             [
              1,
              "#f0f921"
             ]
            ],
            "type": "contour"
           }
          ],
          "contourcarpet": [
           {
            "colorbar": {
             "outlinewidth": 0,
             "ticks": ""
            },
            "type": "contourcarpet"
           }
          ],
          "heatmap": [
           {
            "colorbar": {
             "outlinewidth": 0,
             "ticks": ""
            },
            "colorscale": [
             [
              0,
              "#0d0887"
             ],
             [
              0.1111111111111111,
              "#46039f"
             ],
             [
              0.2222222222222222,
              "#7201a8"
             ],
             [
              0.3333333333333333,
              "#9c179e"
             ],
             [
              0.4444444444444444,
              "#bd3786"
             ],
             [
              0.5555555555555556,
              "#d8576b"
             ],
             [
              0.6666666666666666,
              "#ed7953"
             ],
             [
              0.7777777777777778,
              "#fb9f3a"
             ],
             [
              0.8888888888888888,
              "#fdca26"
             ],
             [
              1,
              "#f0f921"
             ]
            ],
            "type": "heatmap"
           }
          ],
          "histogram": [
           {
            "marker": {
             "pattern": {
              "fillmode": "overlay",
              "size": 10,
              "solidity": 0.2
             }
            },
            "type": "histogram"
           }
          ],
          "histogram2d": [
           {
            "colorbar": {
             "outlinewidth": 0,
             "ticks": ""
            },
            "colorscale": [
             [
              0,
              "#0d0887"
             ],
             [
              0.1111111111111111,
              "#46039f"
             ],
             [
              0.2222222222222222,
              "#7201a8"
             ],
             [
              0.3333333333333333,
              "#9c179e"
             ],
             [
              0.4444444444444444,
              "#bd3786"
             ],
             [
              0.5555555555555556,
              "#d8576b"
             ],
             [
              0.6666666666666666,
              "#ed7953"
             ],
             [
              0.7777777777777778,
              "#fb9f3a"
             ],
             [
              0.8888888888888888,
              "#fdca26"
             ],
             [
              1,
              "#f0f921"
             ]
            ],
            "type": "histogram2d"
           }
          ],
          "histogram2dcontour": [
           {
            "colorbar": {
             "outlinewidth": 0,
             "ticks": ""
            },
            "colorscale": [
             [
              0,
              "#0d0887"
             ],
             [
              0.1111111111111111,
              "#46039f"
             ],
             [
              0.2222222222222222,
              "#7201a8"
             ],
             [
              0.3333333333333333,
              "#9c179e"
             ],
             [
              0.4444444444444444,
              "#bd3786"
             ],
             [
              0.5555555555555556,
              "#d8576b"
             ],
             [
              0.6666666666666666,
              "#ed7953"
             ],
             [
              0.7777777777777778,
              "#fb9f3a"
             ],
             [
              0.8888888888888888,
              "#fdca26"
             ],
             [
              1,
              "#f0f921"
             ]
            ],
            "type": "histogram2dcontour"
           }
          ],
          "mesh3d": [
           {
            "colorbar": {
             "outlinewidth": 0,
             "ticks": ""
            },
            "type": "mesh3d"
           }
          ],
          "parcoords": [
           {
            "line": {
             "colorbar": {
              "outlinewidth": 0,
              "ticks": ""
             }
            },
            "type": "parcoords"
           }
          ],
          "pie": [
           {
            "automargin": true,
            "type": "pie"
           }
          ],
          "scatter": [
           {
            "fillpattern": {
             "fillmode": "overlay",
             "size": 10,
             "solidity": 0.2
            },
            "type": "scatter"
           }
          ],
          "scatter3d": [
           {
            "line": {
             "colorbar": {
              "outlinewidth": 0,
              "ticks": ""
             }
            },
            "marker": {
             "colorbar": {
              "outlinewidth": 0,
              "ticks": ""
             }
            },
            "type": "scatter3d"
           }
          ],
          "scattercarpet": [
           {
            "marker": {
             "colorbar": {
              "outlinewidth": 0,
              "ticks": ""
             }
            },
            "type": "scattercarpet"
           }
          ],
          "scattergeo": [
           {
            "marker": {
             "colorbar": {
              "outlinewidth": 0,
              "ticks": ""
             }
            },
            "type": "scattergeo"
           }
          ],
          "scattergl": [
           {
            "marker": {
             "colorbar": {
              "outlinewidth": 0,
              "ticks": ""
             }
            },
            "type": "scattergl"
           }
          ],
          "scattermap": [
           {
            "marker": {
             "colorbar": {
              "outlinewidth": 0,
              "ticks": ""
             }
            },
            "type": "scattermap"
           }
          ],
          "scattermapbox": [
           {
            "marker": {
             "colorbar": {
              "outlinewidth": 0,
              "ticks": ""
             }
            },
            "type": "scattermapbox"
           }
          ],
          "scatterpolar": [
           {
            "marker": {
             "colorbar": {
              "outlinewidth": 0,
              "ticks": ""
             }
            },
            "type": "scatterpolar"
           }
          ],
          "scatterpolargl": [
           {
            "marker": {
             "colorbar": {
              "outlinewidth": 0,
              "ticks": ""
             }
            },
            "type": "scatterpolargl"
           }
          ],
          "scatterternary": [
           {
            "marker": {
             "colorbar": {
              "outlinewidth": 0,
              "ticks": ""
             }
            },
            "type": "scatterternary"
           }
          ],
          "surface": [
           {
            "colorbar": {
             "outlinewidth": 0,
             "ticks": ""
            },
            "colorscale": [
             [
              0,
              "#0d0887"
             ],
             [
              0.1111111111111111,
              "#46039f"
             ],
             [
              0.2222222222222222,
              "#7201a8"
             ],
             [
              0.3333333333333333,
              "#9c179e"
             ],
             [
              0.4444444444444444,
              "#bd3786"
             ],
             [
              0.5555555555555556,
              "#d8576b"
             ],
             [
              0.6666666666666666,
              "#ed7953"
             ],
             [
              0.7777777777777778,
              "#fb9f3a"
             ],
             [
              0.8888888888888888,
              "#fdca26"
             ],
             [
              1,
              "#f0f921"
             ]
            ],
            "type": "surface"
           }
          ],
          "table": [
           {
            "cells": {
             "fill": {
              "color": "#EBF0F8"
             },
             "line": {
              "color": "white"
             }
            },
            "header": {
             "fill": {
              "color": "#C8D4E3"
             },
             "line": {
              "color": "white"
             }
            },
            "type": "table"
           }
          ]
         },
         "layout": {
          "annotationdefaults": {
           "arrowcolor": "#2a3f5f",
           "arrowhead": 0,
           "arrowwidth": 1
          },
          "autotypenumbers": "strict",
          "coloraxis": {
           "colorbar": {
            "outlinewidth": 0,
            "ticks": ""
           }
          },
          "colorscale": {
           "diverging": [
            [
             0,
             "#8e0152"
            ],
            [
             0.1,
             "#c51b7d"
            ],
            [
             0.2,
             "#de77ae"
            ],
            [
             0.3,
             "#f1b6da"
            ],
            [
             0.4,
             "#fde0ef"
            ],
            [
             0.5,
             "#f7f7f7"
            ],
            [
             0.6,
             "#e6f5d0"
            ],
            [
             0.7,
             "#b8e186"
            ],
            [
             0.8,
             "#7fbc41"
            ],
            [
             0.9,
             "#4d9221"
            ],
            [
             1,
             "#276419"
            ]
           ],
           "sequential": [
            [
             0,
             "#0d0887"
            ],
            [
             0.1111111111111111,
             "#46039f"
            ],
            [
             0.2222222222222222,
             "#7201a8"
            ],
            [
             0.3333333333333333,
             "#9c179e"
            ],
            [
             0.4444444444444444,
             "#bd3786"
            ],
            [
             0.5555555555555556,
             "#d8576b"
            ],
            [
             0.6666666666666666,
             "#ed7953"
            ],
            [
             0.7777777777777778,
             "#fb9f3a"
            ],
            [
             0.8888888888888888,
             "#fdca26"
            ],
            [
             1,
             "#f0f921"
            ]
           ],
           "sequentialminus": [
            [
             0,
             "#0d0887"
            ],
            [
             0.1111111111111111,
             "#46039f"
            ],
            [
             0.2222222222222222,
             "#7201a8"
            ],
            [
             0.3333333333333333,
             "#9c179e"
            ],
            [
             0.4444444444444444,
             "#bd3786"
            ],
            [
             0.5555555555555556,
             "#d8576b"
            ],
            [
             0.6666666666666666,
             "#ed7953"
            ],
            [
             0.7777777777777778,
             "#fb9f3a"
            ],
            [
             0.8888888888888888,
             "#fdca26"
            ],
            [
             1,
             "#f0f921"
            ]
           ]
          },
          "colorway": [
           "#636efa",
           "#EF553B",
           "#00cc96",
           "#ab63fa",
           "#FFA15A",
           "#19d3f3",
           "#FF6692",
           "#B6E880",
           "#FF97FF",
           "#FECB52"
          ],
          "font": {
           "color": "#2a3f5f"
          },
          "geo": {
           "bgcolor": "white",
           "lakecolor": "white",
           "landcolor": "#E5ECF6",
           "showlakes": true,
           "showland": true,
           "subunitcolor": "white"
          },
          "hoverlabel": {
           "align": "left"
          },
          "hovermode": "closest",
          "mapbox": {
           "style": "light"
          },
          "paper_bgcolor": "white",
          "plot_bgcolor": "#E5ECF6",
          "polar": {
           "angularaxis": {
            "gridcolor": "white",
            "linecolor": "white",
            "ticks": ""
           },
           "bgcolor": "#E5ECF6",
           "radialaxis": {
            "gridcolor": "white",
            "linecolor": "white",
            "ticks": ""
           }
          },
          "scene": {
           "xaxis": {
            "backgroundcolor": "#E5ECF6",
            "gridcolor": "white",
            "gridwidth": 2,
            "linecolor": "white",
            "showbackground": true,
            "ticks": "",
            "zerolinecolor": "white"
           },
           "yaxis": {
            "backgroundcolor": "#E5ECF6",
            "gridcolor": "white",
            "gridwidth": 2,
            "linecolor": "white",
            "showbackground": true,
            "ticks": "",
            "zerolinecolor": "white"
           },
           "zaxis": {
            "backgroundcolor": "#E5ECF6",
            "gridcolor": "white",
            "gridwidth": 2,
            "linecolor": "white",
            "showbackground": true,
            "ticks": "",
            "zerolinecolor": "white"
           }
          },
          "shapedefaults": {
           "line": {
            "color": "#2a3f5f"
           }
          },
          "ternary": {
           "aaxis": {
            "gridcolor": "white",
            "linecolor": "white",
            "ticks": ""
           },
           "baxis": {
            "gridcolor": "white",
            "linecolor": "white",
            "ticks": ""
           },
           "bgcolor": "#E5ECF6",
           "caxis": {
            "gridcolor": "white",
            "linecolor": "white",
            "ticks": ""
           }
          },
          "title": {
           "x": 0.05
          },
          "xaxis": {
           "automargin": true,
           "gridcolor": "white",
           "linecolor": "white",
           "ticks": "",
           "title": {
            "standoff": 15
           },
           "zerolinecolor": "white",
           "zerolinewidth": 2
          },
          "yaxis": {
           "automargin": true,
           "gridcolor": "white",
           "linecolor": "white",
           "ticks": "",
           "title": {
            "standoff": 15
           },
           "zerolinecolor": "white",
           "zerolinewidth": 2
          }
         }
        },
        "title": {
         "font": {
          "size": 20
         },
         "text": "Сравнение активности работодателей: % вакансий vs охват отраслей",
         "x": 0.5,
         "xanchor": "center"
        },
        "width": 1000,
        "xaxis": {
         "anchor": "y",
         "domain": [
          0,
          1
         ],
         "gridcolor": "lightgrey",
         "title": {
          "text": "Доля вакансий (%)"
         }
        },
        "yaxis": {
         "anchor": "x",
         "domain": [
          0,
          1
         ],
         "gridcolor": "lightgrey",
         "title": {
          "text": "Отраслевой ранг (норм.)"
         }
        }
       }
      }
     },
     "metadata": {},
     "output_type": "display_data"
    }
   ],
   "source": [
    "# Optional Enhancements 8 — Рейтинг работодателей по отраслям и вакансиям/ Визуализация с помощью Plotly Express\n",
    "\n",
    "import plotly.express as px\n",
    "\n",
    "df_plot = df['employers_vacancies_industries_ratio'].copy()\n",
    "\n",
    "fig = px.scatter(\n",
    "    df_plot,\n",
    "    x='vacancy_percentage',\n",
    "    y='industry_rank_ratio',\n",
    "    color='employer',\n",
    "    hover_name='employer',\n",
    "    hover_data={\n",
    "        'vacancy_count': True,\n",
    "        'vacancy_percentage': True,\n",
    "        'industry_rank_ratio': True\n",
    "    },\n",
    "    text='employer',\n",
    "    title='Employer Vacancy Share vs Industry Spread',\n",
    "    labels={\n",
    "        'vacancy_percentage': 'Доля вакансий (%)',\n",
    "        'industry_rank_ratio': 'Отраслевой ранг (норм.)'\n",
    "    },\n",
    "    width=1000,\n",
    "    height=700\n",
    ")\n",
    "\n",
    "fig.update_traces(\n",
    "    marker=dict(size=16, line=dict(width=1, color='darkgrey')),\n",
    "    textposition='top center'\n",
    ")\n",
    "\n",
    "fig.update_layout(\n",
    "    title={\n",
    "        'text': 'Сравнение активности работодателей: % вакансий vs охват отраслей',\n",
    "        'x': 0.5,\n",
    "        'xanchor': 'center'\n",
    "    },\n",
    "    font=dict(size=14),\n",
    "    title_font=dict(size=20),\n",
    "    xaxis=dict(title='Доля вакансий (%)', gridcolor='lightgrey'),\n",
    "    yaxis=dict(title='Отраслевой ранг (норм.)', gridcolor='lightgrey'),\n",
    "    plot_bgcolor='white',\n",
    "    hoverlabel=dict(bgcolor='white', font_size=13, font_family='Arial'),\n",
    "    margin=dict(l=40, r=40, t=60, b=40),\n",
    "    legend_title='Работодатель'\n",
    ")\n",
    "\n",
    "fig.write_image(\"plots/employers_vacancies_industries_ratio.png\", width=1200, height=600)\n",
    "fig.show()\n"
   ]
  },
  {
   "cell_type": "markdown",
   "id": "6f7b44aa",
   "metadata": {},
   "source": [
    "### Сравнение активности работодателей: % вакансий vs охват отраслей\n",
    "\n",
    "![Сравнение работодателей по отраслям и вакансиям](plots/employers_vacancies_industries_ratio.png)\n",
    "\n",
    "**Сравнение активности работодателей: % вакансий vs охват отраслей**:  \n",
    "На графике представлены работодатели, сравниваемые по двум ключевым метрикам:\n",
    "\n",
    "Ось X — доля вакансий (%) от общего числа в базе.\n",
    "\n",
    "Ось Y — отраслевой ранг (нормализованный), отражающий количество отраслей, в которых представлен работодатель, делённое на среднее значение по всем работодателям.\n",
    "\n",
    "Каждая точка — это компания, цветом и подписью обозначено её название.\n",
    "\n",
    "**Ключевые наблюдения**:  \n",
    "Тинькофф — лидер по отраслевому охвату (2.33), несмотря на умеренную долю вакансий.\n",
    "\n",
    "Озон и Ростелеком — сочетают высокую долю вакансий с широкой отраслевой представленностью.\n",
    "\n",
    "Сбер, Газпром нефть, ИК СИБИНТЕК — демонстрируют сбалансированную активность.\n",
    "\n",
    "Яндекс — имеет наибольшее число вакансий, но сравнительно узкий отраслевой охват (0.47).\n",
    "\n",
    "Компании, такие как VK, МТС, DataArt, IBS, Первый Бит, — представлены в разных сегментах, но с разной степенью активности.\n",
    "\n",
    "**Интерпретация**:  \n",
    "Верхний правый угол графика — работодатели с высокой долей вакансий и широким отраслевым охватом.\n",
    "\n",
    "Нижний левый — узкоспециализированные компании с ограниченным присутствием.\n",
    "\n",
    "График помогает выявить стратегию найма: кто ориентируется на массовый набор, а кто — на мультиотраслевое присутствие.\n"
   ]
  },
  {
   "cell_type": "code",
   "execution_count": 93,
   "id": "90370108",
   "metadata": {},
   "outputs": [
    {
     "data": {
      "text/html": [
       "<div>\n",
       "<style scoped>\n",
       "    .dataframe tbody tr th:only-of-type {\n",
       "        vertical-align: middle;\n",
       "    }\n",
       "\n",
       "    .dataframe tbody tr th {\n",
       "        vertical-align: top;\n",
       "    }\n",
       "\n",
       "    .dataframe thead th {\n",
       "        text-align: right;\n",
       "    }\n",
       "</style>\n",
       "<table border=\"1\" class=\"dataframe\">\n",
       "  <thead>\n",
       "    <tr style=\"text-align: right;\">\n",
       "      <th></th>\n",
       "      <th>industry</th>\n",
       "      <th>vacancy_count</th>\n",
       "      <th>employer_n_one</th>\n",
       "      <th>employer_one_avg_salary</th>\n",
       "      <th>employer_n_two</th>\n",
       "      <th>employer_two_avg_salary</th>\n",
       "      <th>employer_n_three</th>\n",
       "      <th>employer_three_avg_salary</th>\n",
       "    </tr>\n",
       "  </thead>\n",
       "  <tbody>\n",
       "    <tr>\n",
       "      <th>0</th>\n",
       "      <td>Разработка программного обеспечения</td>\n",
       "      <td>12499</td>\n",
       "      <td>Тензор</td>\n",
       "      <td>171149.0</td>\n",
       "      <td>Andersen</td>\n",
       "      <td>269475.0</td>\n",
       "      <td>1C-Рарус</td>\n",
       "      <td>81548.0</td>\n",
       "    </tr>\n",
       "    <tr>\n",
       "      <th>1</th>\n",
       "      <td>Системная интеграция,  автоматизации технологи...</td>\n",
       "      <td>11034</td>\n",
       "      <td>Первый Бит</td>\n",
       "      <td>92324.0</td>\n",
       "      <td>Andersen</td>\n",
       "      <td>269475.0</td>\n",
       "      <td>1C-Рарус</td>\n",
       "      <td>81548.0</td>\n",
       "    </tr>\n",
       "    <tr>\n",
       "      <th>2</th>\n",
       "      <td>Интернет-компания (поисковики, платежные систе...</td>\n",
       "      <td>6413</td>\n",
       "      <td>Яндекс</td>\n",
       "      <td>25884.0</td>\n",
       "      <td>Homework</td>\n",
       "      <td>93333.0</td>\n",
       "      <td>Mintrocket</td>\n",
       "      <td>121310.0</td>\n",
       "    </tr>\n",
       "    <tr>\n",
       "      <th>3</th>\n",
       "      <td>Банк</td>\n",
       "      <td>2742</td>\n",
       "      <td>АТМ АЛЬЯНС</td>\n",
       "      <td>53921.0</td>\n",
       "      <td>СБЕР</td>\n",
       "      <td>153847.0</td>\n",
       "      <td>Точка</td>\n",
       "      <td>197295.0</td>\n",
       "    </tr>\n",
       "    <tr>\n",
       "      <th>4</th>\n",
       "      <td>Мобильная связь</td>\n",
       "      <td>1585</td>\n",
       "      <td>Ростелеком</td>\n",
       "      <td>46980.0</td>\n",
       "      <td>МТС</td>\n",
       "      <td>64521.0</td>\n",
       "      <td>ЭР-Телеком</td>\n",
       "      <td>50858.0</td>\n",
       "    </tr>\n",
       "  </tbody>\n",
       "</table>\n",
       "</div>"
      ],
      "text/plain": [
       "                                            industry  vacancy_count  \\\n",
       "0                Разработка программного обеспечения          12499   \n",
       "1  Системная интеграция,  автоматизации технологи...          11034   \n",
       "2  Интернет-компания (поисковики, платежные систе...           6413   \n",
       "3                                               Банк           2742   \n",
       "4                                    Мобильная связь           1585   \n",
       "\n",
       "  employer_n_one  employer_one_avg_salary employer_n_two  \\\n",
       "0         Тензор                 171149.0       Andersen   \n",
       "1     Первый Бит                  92324.0       Andersen   \n",
       "2         Яндекс                  25884.0       Homework   \n",
       "3     АТМ АЛЬЯНС                  53921.0           СБЕР   \n",
       "4     Ростелеком                  46980.0            МТС   \n",
       "\n",
       "   employer_two_avg_salary employer_n_three  employer_three_avg_salary  \n",
       "0                 269475.0         1C-Рарус                    81548.0  \n",
       "1                 269475.0         1C-Рарус                    81548.0  \n",
       "2                  93333.0       Mintrocket                   121310.0  \n",
       "3                 153847.0            Точка                   197295.0  \n",
       "4                  64521.0       ЭР-Телеком                    50858.0  "
      ]
     },
     "execution_count": 93,
     "metadata": {},
     "output_type": "execute_result"
    }
   ],
   "source": [
    "# Optional Enhancements 9 — Зарплата по топ-3 работодателям в каждой отрасли\n",
    "\n",
    "connection = create_sqlalchemy_connection()\n",
    "\n",
    "def salary_by_major_industry_employers(connection):\n",
    "    \"\"\"\n",
    "    Возвращает топ-3 работодателей по каждой отрасли, учитывая только тех, кто указывает зарплату.\n",
    "    Для каждого работодателя рассчитывается средняя зарплата по отрасли.\n",
    "\n",
    "    Параметры:\n",
    "        connection (sqlalchemy.engine.base.Connection): Активное соединение SQLAlchemy с Public DB.\n",
    "\n",
    "    Возвращает:\n",
    "        pandas.DataFrame: Таблица с колонками:\n",
    "            - industry\n",
    "            - vacancy_count\n",
    "            - employer_n_one\n",
    "            - employer_one_avg_salary\n",
    "            - employer_n_two\n",
    "            - employer_two_avg_salary\n",
    "            - employer_n_three\n",
    "            - employer_three_avg_salary\n",
    "    \"\"\"\n",
    "    query = \"\"\"\n",
    "    WITH salary_vacancies AS (\n",
    "        SELECT \n",
    "            i.name AS industry,\n",
    "            v.employer_id,\n",
    "            COUNT(v.id) AS vacancy_count\n",
    "        FROM vacancies v\n",
    "        JOIN employers_industries ei ON v.employer_id = ei.employer_id\n",
    "        JOIN industries i ON ei.industry_id = i.id\n",
    "        WHERE v.salary_from IS NOT NULL OR v.salary_to IS NOT NULL\n",
    "        GROUP BY i.name, v.employer_id\n",
    "    ),\n",
    "    ranked_employers AS (\n",
    "        SELECT \n",
    "            sv.industry,\n",
    "            e.name AS employer,\n",
    "            sv.employer_id,\n",
    "            sv.vacancy_count,\n",
    "            ROW_NUMBER() OVER (PARTITION BY sv.industry ORDER BY sv.vacancy_count DESC) AS rank\n",
    "        FROM salary_vacancies sv\n",
    "        JOIN employers e ON sv.employer_id = e.id\n",
    "    ),\n",
    "    top_employers AS (\n",
    "        SELECT \n",
    "            industry,\n",
    "            MAX(CASE WHEN rank = 1 THEN employer END) AS employer_n_one,\n",
    "            MAX(CASE WHEN rank = 2 THEN employer END) AS employer_n_two,\n",
    "            MAX(CASE WHEN rank = 3 THEN employer END) AS employer_n_three,\n",
    "            MAX(CASE WHEN rank = 1 THEN employer_id END) AS employer_id_one,\n",
    "            MAX(CASE WHEN rank = 2 THEN employer_id END) AS employer_id_two,\n",
    "            MAX(CASE WHEN rank = 3 THEN employer_id END) AS employer_id_three\n",
    "        FROM ranked_employers\n",
    "        WHERE rank <= 3\n",
    "        GROUP BY industry\n",
    "    )\n",
    "    SELECT \n",
    "        i.name AS industry,\n",
    "        COUNT(v.id) AS vacancy_count,\n",
    "        t.employer_n_one,\n",
    "        (\n",
    "            SELECT ROUND(AVG(\n",
    "                CASE \n",
    "                  WHEN v1.salary_from IS NOT NULL AND v1.salary_to IS NOT NULL THEN (v1.salary_from + v1.salary_to) / 2.0\n",
    "                  WHEN v1.salary_from IS NOT NULL THEN v1.salary_from\n",
    "                  WHEN v1.salary_to IS NOT NULL THEN v1.salary_to\n",
    "                  ELSE NULL\n",
    "                END\n",
    "            ), 0)\n",
    "            FROM vacancies v1\n",
    "            JOIN employers_industries ei1 ON v1.employer_id = ei1.employer_id\n",
    "            JOIN industries i1 ON ei1.industry_id = i1.id\n",
    "            WHERE v1.employer_id = t.employer_id_one AND i1.name = i.name\n",
    "              AND (v1.salary_from IS NOT NULL OR v1.salary_to IS NOT NULL)\n",
    "        ) AS employer_one_avg_salary,\n",
    "        t.employer_n_two,\n",
    "        (\n",
    "            SELECT ROUND(AVG(\n",
    "                CASE \n",
    "                  WHEN v2.salary_from IS NOT NULL AND v2.salary_to IS NOT NULL THEN (v2.salary_from + v2.salary_to) / 2.0\n",
    "                  WHEN v2.salary_from IS NOT NULL THEN v2.salary_from\n",
    "                  WHEN v2.salary_to IS NOT NULL THEN v2.salary_to\n",
    "                  ELSE NULL\n",
    "                END\n",
    "            ), 0)\n",
    "            FROM vacancies v2\n",
    "            JOIN employers_industries ei2 ON v2.employer_id = ei2.employer_id\n",
    "            JOIN industries i2 ON ei2.industry_id = i2.id\n",
    "            WHERE v2.employer_id = t.employer_id_two AND i2.name = i.name\n",
    "              AND (v2.salary_from IS NOT NULL OR v2.salary_to IS NOT NULL)\n",
    "        ) AS employer_two_avg_salary,\n",
    "        t.employer_n_three,\n",
    "        (\n",
    "            SELECT ROUND(AVG(\n",
    "                CASE \n",
    "                  WHEN v3.salary_from IS NOT NULL AND v3.salary_to IS NOT NULL THEN (v3.salary_from + v3.salary_to) / 2.0\n",
    "                  WHEN v3.salary_from IS NOT NULL THEN v3.salary_from\n",
    "                  WHEN v3.salary_to IS NOT NULL THEN v3.salary_to\n",
    "                  ELSE NULL\n",
    "                END\n",
    "            ), 0)\n",
    "            FROM vacancies v3\n",
    "            JOIN employers_industries ei3 ON v3.employer_id = ei3.employer_id\n",
    "            JOIN industries i3 ON ei3.industry_id = i3.id\n",
    "            WHERE v3.employer_id = t.employer_id_three AND i3.name = i.name\n",
    "              AND (v3.salary_from IS NOT NULL OR v3.salary_to IS NOT NULL)\n",
    "        ) AS employer_three_avg_salary\n",
    "    FROM vacancies v\n",
    "    JOIN employers_industries ei ON v.employer_id = ei.employer_id\n",
    "    JOIN industries i ON ei.industry_id = i.id\n",
    "    LEFT JOIN top_employers t ON i.name = t.industry\n",
    "    GROUP BY i.name, t.employer_n_one, t.employer_n_two, t.employer_n_three,\n",
    "             t.employer_id_one, t.employer_id_two, t.employer_id_three\n",
    "    ORDER BY vacancy_count DESC\n",
    "    LIMIT 20;\n",
    "    \"\"\"\n",
    "    return pd.read_sql(query, connection)\n",
    "    \n",
    "df['salary_by_major_industry_employers'] = salary_by_major_industry_employers(connection)\n",
    "df['salary_by_major_industry_employers'].head()  # показываем первые строки\n"
   ]
  },
  {
   "cell_type": "code",
   "execution_count": 94,
   "id": "919b6708",
   "metadata": {},
   "outputs": [
    {
     "data": {
      "application/vnd.plotly.v1+json": {
       "config": {
        "plotlyServerURL": "https://plot.ly"
       },
       "data": [
        {
         "hovertemplate": "Работодатель=Тензор<br>Средняя зарплата (₽)=%{text}<br>Отрасль=%{y}<extra></extra>",
         "legendgroup": "Тензор",
         "marker": {
          "color": "#636efa",
          "line": {
           "color": "darkgrey",
           "width": 1
          },
          "pattern": {
           "shape": ""
          }
         },
         "name": "Тензор",
         "orientation": "h",
         "showlegend": true,
         "text": {
          "bdata": "AAAAAGjkBEE=",
          "dtype": "f8"
         },
         "textposition": "outside",
         "texttemplate": "%{text:.0f} ₽",
         "type": "bar",
         "x": {
          "bdata": "AAAAAGjkBEE=",
          "dtype": "f8"
         },
         "xaxis": "x",
         "y": [
          "Разработка программного<br>обеспечения"
         ],
         "yaxis": "y"
        },
        {
         "hovertemplate": "Работодатель=Andersen<br>Средняя зарплата (₽)=%{text}<br>Отрасль=%{y}<extra></extra>",
         "legendgroup": "Andersen",
         "marker": {
          "color": "#EF553B",
          "line": {
           "color": "darkgrey",
           "width": 1
          },
          "pattern": {
           "shape": ""
          }
         },
         "name": "Andersen",
         "orientation": "h",
         "showlegend": true,
         "text": {
          "bdata": "AAAAAIxyEEEAAAAAjHIQQQ==",
          "dtype": "f8"
         },
         "textposition": "outside",
         "texttemplate": "%{text:.0f} ₽",
         "type": "bar",
         "x": {
          "bdata": "AAAAAIxyEEEAAAAAjHIQQQ==",
          "dtype": "f8"
         },
         "xaxis": "x",
         "y": [
          "Разработка программного<br>обеспечения",
          "Системная интеграция,<br>автоматизации технологических<br>и бизнес-процессов<br>предприятия, ИТ-консалтинг"
         ],
         "yaxis": "y"
        },
        {
         "hovertemplate": "Работодатель=1C-Рарус<br>Средняя зарплата (₽)=%{text}<br>Отрасль=%{y}<extra></extra>",
         "legendgroup": "1C-Рарус",
         "marker": {
          "color": "#00cc96",
          "line": {
           "color": "darkgrey",
           "width": 1
          },
          "pattern": {
           "shape": ""
          }
         },
         "name": "1C-Рарус",
         "orientation": "h",
         "showlegend": true,
         "text": {
          "bdata": "AAAAAMDo80AAAAAAwOjzQA==",
          "dtype": "f8"
         },
         "textposition": "outside",
         "texttemplate": "%{text:.0f} ₽",
         "type": "bar",
         "x": {
          "bdata": "AAAAAMDo80AAAAAAwOjzQA==",
          "dtype": "f8"
         },
         "xaxis": "x",
         "y": [
          "Разработка программного<br>обеспечения",
          "Системная интеграция,<br>автоматизации технологических<br>и бизнес-процессов<br>предприятия, ИТ-консалтинг"
         ],
         "yaxis": "y"
        },
        {
         "hovertemplate": "Работодатель=Первый Бит<br>Средняя зарплата (₽)=%{text}<br>Отрасль=%{y}<extra></extra>",
         "legendgroup": "Первый Бит",
         "marker": {
          "color": "#ab63fa",
          "line": {
           "color": "darkgrey",
           "width": 1
          },
          "pattern": {
           "shape": ""
          }
         },
         "name": "Первый Бит",
         "orientation": "h",
         "showlegend": true,
         "text": {
          "bdata": "AAAAAECK9kA=",
          "dtype": "f8"
         },
         "textposition": "outside",
         "texttemplate": "%{text:.0f} ₽",
         "type": "bar",
         "x": {
          "bdata": "AAAAAECK9kA=",
          "dtype": "f8"
         },
         "xaxis": "x",
         "y": [
          "Системная интеграция,<br>автоматизации технологических<br>и бизнес-процессов<br>предприятия, ИТ-консалтинг"
         ],
         "yaxis": "y"
        },
        {
         "hovertemplate": "Работодатель=Яндекс<br>Средняя зарплата (₽)=%{text}<br>Отрасль=%{y}<extra></extra>",
         "legendgroup": "Яндекс",
         "marker": {
          "color": "#FFA15A",
          "line": {
           "color": "darkgrey",
           "width": 1
          },
          "pattern": {
           "shape": ""
          }
         },
         "name": "Яндекс",
         "orientation": "h",
         "showlegend": true,
         "text": {
          "bdata": "AAAAAABH2UA=",
          "dtype": "f8"
         },
         "textposition": "outside",
         "texttemplate": "%{text:.0f} ₽",
         "type": "bar",
         "x": {
          "bdata": "AAAAAABH2UA=",
          "dtype": "f8"
         },
         "xaxis": "x",
         "y": [
          "Интернет-компания (поисковики,<br>платежные системы, соц.сети,<br>информационно-познавательные и<br>развлекательные ресурсы,<br>продвижение сайтов и прочее)"
         ],
         "yaxis": "y"
        },
        {
         "hovertemplate": "Работодатель=Homework<br>Средняя зарплата (₽)=%{text}<br>Отрасль=%{y}<extra></extra>",
         "legendgroup": "Homework",
         "marker": {
          "color": "#19d3f3",
          "line": {
           "color": "darkgrey",
           "width": 1
          },
          "pattern": {
           "shape": ""
          }
         },
         "name": "Homework",
         "orientation": "h",
         "showlegend": true,
         "text": {
          "bdata": "AAAAAFDJ9kA=",
          "dtype": "f8"
         },
         "textposition": "outside",
         "texttemplate": "%{text:.0f} ₽",
         "type": "bar",
         "x": {
          "bdata": "AAAAAFDJ9kA=",
          "dtype": "f8"
         },
         "xaxis": "x",
         "y": [
          "Интернет-компания (поисковики,<br>платежные системы, соц.сети,<br>информационно-познавательные и<br>развлекательные ресурсы,<br>продвижение сайтов и прочее)"
         ],
         "yaxis": "y"
        },
        {
         "hovertemplate": "Работодатель=Mintrocket<br>Средняя зарплата (₽)=%{text}<br>Отрасль=%{y}<extra></extra>",
         "legendgroup": "Mintrocket",
         "marker": {
          "color": "#FF6692",
          "line": {
           "color": "darkgrey",
           "width": 1
          },
          "pattern": {
           "shape": ""
          }
         },
         "name": "Mintrocket",
         "orientation": "h",
         "showlegend": true,
         "text": {
          "bdata": "AAAAAOCd/UA=",
          "dtype": "f8"
         },
         "textposition": "outside",
         "texttemplate": "%{text:.0f} ₽",
         "type": "bar",
         "x": {
          "bdata": "AAAAAOCd/UA=",
          "dtype": "f8"
         },
         "xaxis": "x",
         "y": [
          "Интернет-компания (поисковики,<br>платежные системы, соц.сети,<br>информационно-познавательные и<br>развлекательные ресурсы,<br>продвижение сайтов и прочее)"
         ],
         "yaxis": "y"
        },
        {
         "hovertemplate": "Работодатель=АТМ АЛЬЯНС<br>Средняя зарплата (₽)=%{text}<br>Отрасль=%{y}<extra></extra>",
         "legendgroup": "АТМ АЛЬЯНС",
         "marker": {
          "color": "#B6E880",
          "line": {
           "color": "darkgrey",
           "width": 1
          },
          "pattern": {
           "shape": ""
          }
         },
         "name": "АТМ АЛЬЯНС",
         "orientation": "h",
         "showlegend": true,
         "text": {
          "bdata": "AAAAACBU6kAAAAAAIFTqQA==",
          "dtype": "f8"
         },
         "textposition": "outside",
         "texttemplate": "%{text:.0f} ₽",
         "type": "bar",
         "x": {
          "bdata": "AAAAACBU6kAAAAAAIFTqQA==",
          "dtype": "f8"
         },
         "xaxis": "x",
         "y": [
          "Банк",
          "Консалтинговые услуги"
         ],
         "yaxis": "y"
        },
        {
         "hovertemplate": "Работодатель=СБЕР<br>Средняя зарплата (₽)=%{text}<br>Отрасль=%{y}<extra></extra>",
         "legendgroup": "СБЕР",
         "marker": {
          "color": "#FF97FF",
          "line": {
           "color": "darkgrey",
           "width": 1
          },
          "pattern": {
           "shape": ""
          }
         },
         "name": "СБЕР",
         "orientation": "h",
         "showlegend": true,
         "text": {
          "bdata": "AAAAALjHAkE=",
          "dtype": "f8"
         },
         "textposition": "outside",
         "texttemplate": "%{text:.0f} ₽",
         "type": "bar",
         "x": {
          "bdata": "AAAAALjHAkE=",
          "dtype": "f8"
         },
         "xaxis": "x",
         "y": [
          "Банк"
         ],
         "yaxis": "y"
        },
        {
         "hovertemplate": "Работодатель=Точка<br>Средняя зарплата (₽)=%{text}<br>Отрасль=%{y}<extra></extra>",
         "legendgroup": "Точка",
         "marker": {
          "color": "#FECB52",
          "line": {
           "color": "darkgrey",
           "width": 1
          },
          "pattern": {
           "shape": ""
          }
         },
         "name": "Точка",
         "orientation": "h",
         "showlegend": true,
         "text": {
          "bdata": "AAAAAHgVCEE=",
          "dtype": "f8"
         },
         "textposition": "outside",
         "texttemplate": "%{text:.0f} ₽",
         "type": "bar",
         "x": {
          "bdata": "AAAAAHgVCEE=",
          "dtype": "f8"
         },
         "xaxis": "x",
         "y": [
          "Банк"
         ],
         "yaxis": "y"
        },
        {
         "hovertemplate": "Работодатель=Ростелеком<br>Средняя зарплата (₽)=%{text}<br>Отрасль=%{y}<extra></extra>",
         "legendgroup": "Ростелеком",
         "marker": {
          "color": "#636efa",
          "line": {
           "color": "darkgrey",
           "width": 1
          },
          "pattern": {
           "shape": ""
          }
         },
         "name": "Ростелеком",
         "orientation": "h",
         "showlegend": true,
         "text": {
          "bdata": "AAAAAIDw5kAAAAAAgPDmQAAAAACA8OZAAAAAAIDw5kA=",
          "dtype": "f8"
         },
         "textposition": "outside",
         "texttemplate": "%{text:.0f} ₽",
         "type": "bar",
         "x": {
          "bdata": "AAAAAIDw5kAAAAAAgPDmQAAAAACA8OZAAAAAAIDw5kA=",
          "dtype": "f8"
         },
         "xaxis": "x",
         "y": [
          "Мобильная связь",
          "Интернет-провайдер",
          "Фиксированная связь",
          "Оптоволоконная связь"
         ],
         "yaxis": "y"
        },
        {
         "hovertemplate": "Работодатель=МТС<br>Средняя зарплата (₽)=%{text}<br>Отрасль=%{y}<extra></extra>",
         "legendgroup": "МТС",
         "marker": {
          "color": "#EF553B",
          "line": {
           "color": "darkgrey",
           "width": 1
          },
          "pattern": {
           "shape": ""
          }
         },
         "name": "МТС",
         "orientation": "h",
         "showlegend": true,
         "text": {
          "bdata": "AAAAACCB70A=",
          "dtype": "f8"
         },
         "textposition": "outside",
         "texttemplate": "%{text:.0f} ₽",
         "type": "bar",
         "x": {
          "bdata": "AAAAACCB70A=",
          "dtype": "f8"
         },
         "xaxis": "x",
         "y": [
          "Мобильная связь"
         ],
         "yaxis": "y"
        },
        {
         "hovertemplate": "Работодатель=ЭР-Телеком<br>Средняя зарплата (₽)=%{text}<br>Отрасль=%{y}<extra></extra>",
         "legendgroup": "ЭР-Телеком",
         "marker": {
          "color": "#00cc96",
          "line": {
           "color": "darkgrey",
           "width": 1
          },
          "pattern": {
           "shape": ""
          }
         },
         "name": "ЭР-Телеком",
         "orientation": "h",
         "showlegend": true,
         "text": {
          "bdata": "AAAAAEDV6EAAAAAAQNXoQA==",
          "dtype": "f8"
         },
         "textposition": "outside",
         "texttemplate": "%{text:.0f} ₽",
         "type": "bar",
         "x": {
          "bdata": "AAAAAEDV6EAAAAAAQNXoQA==",
          "dtype": "f8"
         },
         "xaxis": "x",
         "y": [
          "Мобильная связь",
          "Интернет-провайдер"
         ],
         "yaxis": "y"
        },
        {
         "hovertemplate": "Работодатель=ANCOR<br>Средняя зарплата (₽)=%{text}<br>Отрасль=%{y}<extra></extra>",
         "legendgroup": "ANCOR",
         "marker": {
          "color": "#ab63fa",
          "line": {
           "color": "darkgrey",
           "width": 1
          },
          "pattern": {
           "shape": ""
          }
         },
         "name": "ANCOR",
         "orientation": "h",
         "showlegend": true,
         "text": {
          "bdata": "AAAAAAD690A=",
          "dtype": "f8"
         },
         "textposition": "outside",
         "texttemplate": "%{text:.0f} ₽",
         "type": "bar",
         "x": {
          "bdata": "AAAAAAD690A=",
          "dtype": "f8"
         },
         "xaxis": "x",
         "y": [
          "Кадровые агентства"
         ],
         "yaxis": "y"
        },
        {
         "hovertemplate": "Работодатель=Кадровое агентство Алексея Сухорукова<br>Средняя зарплата (₽)=%{text}<br>Отрасль=%{y}<extra></extra>",
         "legendgroup": "Кадровое агентство Алексея Сухорукова",
         "marker": {
          "color": "#FFA15A",
          "line": {
           "color": "darkgrey",
           "width": 1
          },
          "pattern": {
           "shape": ""
          }
         },
         "name": "Кадровое агентство Алексея Сухорукова",
         "orientation": "h",
         "showlegend": true,
         "text": {
          "bdata": "AAAAAFChDkEAAAAAUKEOQQ==",
          "dtype": "f8"
         },
         "textposition": "outside",
         "texttemplate": "%{text:.0f} ₽",
         "type": "bar",
         "x": {
          "bdata": "AAAAAFChDkEAAAAAUKEOQQ==",
          "dtype": "f8"
         },
         "xaxis": "x",
         "y": [
          "Кадровые агентства",
          "Интернет-провайдер"
         ],
         "yaxis": "y"
        },
        {
         "hovertemplate": "Работодатель=СПУТНИК-Персонал<br>Средняя зарплата (₽)=%{text}<br>Отрасль=%{y}<extra></extra>",
         "legendgroup": "СПУТНИК-Персонал",
         "marker": {
          "color": "#19d3f3",
          "line": {
           "color": "darkgrey",
           "width": 1
          },
          "pattern": {
           "shape": ""
          }
         },
         "name": "СПУТНИК-Персонал",
         "orientation": "h",
         "showlegend": true,
         "text": {
          "bdata": "AAAAABC1BUE=",
          "dtype": "f8"
         },
         "textposition": "outside",
         "texttemplate": "%{text:.0f} ₽",
         "type": "bar",
         "x": {
          "bdata": "AAAAABC1BUE=",
          "dtype": "f8"
         },
         "xaxis": "x",
         "y": [
          "Кадровые агентства"
         ],
         "yaxis": "y"
        },
        {
         "hovertemplate": "Работодатель=Wanted<br>Средняя зарплата (₽)=%{text}<br>Отрасль=%{y}<extra></extra>",
         "legendgroup": "Wanted",
         "marker": {
          "color": "#FF6692",
          "line": {
           "color": "darkgrey",
           "width": 1
          },
          "pattern": {
           "shape": ""
          }
         },
         "name": "Wanted",
         "orientation": "h",
         "showlegend": true,
         "text": {
          "bdata": "AAAAAAgtDkE=",
          "dtype": "f8"
         },
         "textposition": "outside",
         "texttemplate": "%{text:.0f} ₽",
         "type": "bar",
         "x": {
          "bdata": "AAAAAAgtDkE=",
          "dtype": "f8"
         },
         "xaxis": "x",
         "y": [
          "Консалтинговые услуги"
         ],
         "yaxis": "y"
        },
        {
         "hovertemplate": "Работодатель=Смартер<br>Средняя зарплата (₽)=%{text}<br>Отрасль=%{y}<extra></extra>",
         "legendgroup": "Смартер",
         "marker": {
          "color": "#B6E880",
          "line": {
           "color": "darkgrey",
           "width": 1
          },
          "pattern": {
           "shape": ""
          }
         },
         "name": "Смартер",
         "orientation": "h",
         "showlegend": true,
         "text": {
          "bdata": "AAAAAND090AAAAAA0PT3QA==",
          "dtype": "f8"
         },
         "textposition": "outside",
         "texttemplate": "%{text:.0f} ₽",
         "type": "bar",
         "x": {
          "bdata": "AAAAAND090AAAAAA0PT3QA==",
          "dtype": "f8"
         },
         "xaxis": "x",
         "y": [
          "Консалтинговые услуги",
          "Маркетинговые, рекламные, BTL,<br>дизайнерские, Event-, PR-<br>агентства, организация<br>выставок"
         ],
         "yaxis": "y"
        },
        {
         "hovertemplate": "Работодатель=Красное & Белое, розничная сеть<br>Средняя зарплата (₽)=%{text}<br>Отрасль=%{y}<extra></extra>",
         "legendgroup": "Красное & Белое, розничная сеть",
         "marker": {
          "color": "#FF97FF",
          "line": {
           "color": "darkgrey",
           "width": 1
          },
          "pattern": {
           "shape": ""
          }
         },
         "name": "Красное & Белое, розничная сеть",
         "orientation": "h",
         "showlegend": true,
         "text": {
          "bdata": "AAAAAPDW8kA=",
          "dtype": "f8"
         },
         "textposition": "outside",
         "texttemplate": "%{text:.0f} ₽",
         "type": "bar",
         "x": {
          "bdata": "AAAAAPDW8kA=",
          "dtype": "f8"
         },
         "xaxis": "x",
         "y": [
          "Розничная сеть (продуктовая)"
         ],
         "yaxis": "y"
        },
        {
         "hovertemplate": "Работодатель=МАГНИТ, Розничная сеть<br>Средняя зарплата (₽)=%{text}<br>Отрасль=%{y}<extra></extra>",
         "legendgroup": "МАГНИТ, Розничная сеть",
         "marker": {
          "color": "#FECB52",
          "line": {
           "color": "darkgrey",
           "width": 1
          },
          "pattern": {
           "shape": ""
          }
         },
         "name": "МАГНИТ, Розничная сеть",
         "orientation": "h",
         "showlegend": true,
         "text": {
          "bdata": "AAAAAMB77UA=",
          "dtype": "f8"
         },
         "textposition": "outside",
         "texttemplate": "%{text:.0f} ₽",
         "type": "bar",
         "x": {
          "bdata": "AAAAAMB77UA=",
          "dtype": "f8"
         },
         "xaxis": "x",
         "y": [
          "Розничная сеть (продуктовая)"
         ],
         "yaxis": "y"
        },
        {
         "hovertemplate": "Работодатель=Крестьянское хозяйство Волкова А.П.<br>Средняя зарплата (₽)=%{text}<br>Отрасль=%{y}<extra></extra>",
         "legendgroup": "Крестьянское хозяйство Волкова А.П.",
         "marker": {
          "color": "#636efa",
          "line": {
           "color": "darkgrey",
           "width": 1
          },
          "pattern": {
           "shape": ""
          }
         },
         "name": "Крестьянское хозяйство Волкова А.П.",
         "orientation": "h",
         "showlegend": true,
         "text": {
          "bdata": "AAAAAKBT6EA=",
          "dtype": "f8"
         },
         "textposition": "outside",
         "texttemplate": "%{text:.0f} ₽",
         "type": "bar",
         "x": {
          "bdata": "AAAAAKBT6EA=",
          "dtype": "f8"
         },
         "xaxis": "x",
         "y": [
          "Розничная сеть (продуктовая)"
         ],
         "yaxis": "y"
        },
        {
         "hovertemplate": "Работодатель=Ростелеком Контакт-центр<br>Средняя зарплата (₽)=%{text}<br>Отрасль=%{y}<extra></extra>",
         "legendgroup": "Ростелеком Контакт-центр",
         "marker": {
          "color": "#EF553B",
          "line": {
           "color": "darkgrey",
           "width": 1
          },
          "pattern": {
           "shape": ""
          }
         },
         "name": "Ростелеком Контакт-центр",
         "orientation": "h",
         "showlegend": true,
         "text": {
          "bdata": "AAAAACCG4UAAAAAAIIbhQA==",
          "dtype": "f8"
         },
         "textposition": "outside",
         "texttemplate": "%{text:.0f} ₽",
         "type": "bar",
         "x": {
          "bdata": "AAAAACCG4UAAAAAAIIbhQA==",
          "dtype": "f8"
         },
         "xaxis": "x",
         "y": [
          "Фиксированная связь",
          "Оптоволоконная связь"
         ],
         "yaxis": "y"
        },
        {
         "hovertemplate": "Работодатель=К Телеком,ООО<br>Средняя зарплата (₽)=%{text}<br>Отрасль=%{y}<extra></extra>",
         "legendgroup": "К Телеком,ООО",
         "marker": {
          "color": "#00cc96",
          "line": {
           "color": "darkgrey",
           "width": 1
          },
          "pattern": {
           "shape": ""
          }
         },
         "name": "К Телеком,ООО",
         "orientation": "h",
         "showlegend": true,
         "text": {
          "bdata": "AAAAAACo4kA=",
          "dtype": "f8"
         },
         "textposition": "outside",
         "texttemplate": "%{text:.0f} ₽",
         "type": "bar",
         "x": {
          "bdata": "AAAAAACo4kA=",
          "dtype": "f8"
         },
         "xaxis": "x",
         "y": [
          "Фиксированная связь"
         ],
         "yaxis": "y"
        },
        {
         "hovertemplate": "Работодатель=Уфанет<br>Средняя зарплата (₽)=%{text}<br>Отрасль=%{y}<extra></extra>",
         "legendgroup": "Уфанет",
         "marker": {
          "color": "#ab63fa",
          "line": {
           "color": "darkgrey",
           "width": 1
          },
          "pattern": {
           "shape": ""
          }
         },
         "name": "Уфанет",
         "orientation": "h",
         "showlegend": true,
         "text": {
          "bdata": "AAAAAADQ7UA=",
          "dtype": "f8"
         },
         "textposition": "outside",
         "texttemplate": "%{text:.0f} ₽",
         "type": "bar",
         "x": {
          "bdata": "AAAAAADQ7UA=",
          "dtype": "f8"
         },
         "xaxis": "x",
         "y": [
          "Оптоволоконная связь"
         ],
         "yaxis": "y"
        },
        {
         "hovertemplate": "Работодатель=РБ<br>Средняя зарплата (₽)=%{text}<br>Отрасль=%{y}<extra></extra>",
         "legendgroup": "РБ",
         "marker": {
          "color": "#FFA15A",
          "line": {
           "color": "darkgrey",
           "width": 1
          },
          "pattern": {
           "shape": ""
          }
         },
         "name": "РБ",
         "orientation": "h",
         "showlegend": true,
         "text": {
          "bdata": "AAAAAGhuCUE=",
          "dtype": "f8"
         },
         "textposition": "outside",
         "texttemplate": "%{text:.0f} ₽",
         "type": "bar",
         "x": {
          "bdata": "AAAAAGhuCUE=",
          "dtype": "f8"
         },
         "xaxis": "x",
         "y": [
          "Маркетинговые, рекламные, BTL,<br>дизайнерские, Event-, PR-<br>агентства, организация<br>выставок"
         ],
         "yaxis": "y"
        },
        {
         "hovertemplate": "Работодатель=ALP GROUP<br>Средняя зарплата (₽)=%{text}<br>Отрасль=%{y}<extra></extra>",
         "legendgroup": "ALP GROUP",
         "marker": {
          "color": "#19d3f3",
          "line": {
           "color": "darkgrey",
           "width": 1
          },
          "pattern": {
           "shape": ""
          }
         },
         "name": "ALP GROUP",
         "orientation": "h",
         "showlegend": true,
         "text": {
          "bdata": "AAAAAJifBEE=",
          "dtype": "f8"
         },
         "textposition": "outside",
         "texttemplate": "%{text:.0f} ₽",
         "type": "bar",
         "x": {
          "bdata": "AAAAAJifBEE=",
          "dtype": "f8"
         },
         "xaxis": "x",
         "y": [
          "Маркетинговые, рекламные, BTL,<br>дизайнерские, Event-, PR-<br>агентства, организация<br>выставок"
         ],
         "yaxis": "y"
        },
        {
         "hovertemplate": "Работодатель=КАЗАНЬЭКСПРЕСС<br>Средняя зарплата (₽)=%{text}<br>Отрасль=%{y}<extra></extra>",
         "legendgroup": "КАЗАНЬЭКСПРЕСС",
         "marker": {
          "color": "#FF6692",
          "line": {
           "color": "darkgrey",
           "width": 1
          },
          "pattern": {
           "shape": ""
          }
         },
         "name": "КАЗАНЬЭКСПРЕСС",
         "orientation": "h",
         "showlegend": true,
         "text": {
          "bdata": "AAAAAAgeCkE=",
          "dtype": "f8"
         },
         "textposition": "outside",
         "texttemplate": "%{text:.0f} ₽",
         "type": "bar",
         "x": {
          "bdata": "AAAAAAgeCkE=",
          "dtype": "f8"
         },
         "xaxis": "x",
         "y": [
          "Интернет-магазин"
         ],
         "yaxis": "y"
        },
        {
         "hovertemplate": "Работодатель=Катрен НПК<br>Средняя зарплата (₽)=%{text}<br>Отрасль=%{y}<extra></extra>",
         "legendgroup": "Катрен НПК",
         "marker": {
          "color": "#B6E880",
          "line": {
           "color": "darkgrey",
           "width": 1
          },
          "pattern": {
           "shape": ""
          }
         },
         "name": "Катрен НПК",
         "orientation": "h",
         "showlegend": true,
         "text": {
          "bdata": "AAAAAJC/90A=",
          "dtype": "f8"
         },
         "textposition": "outside",
         "texttemplate": "%{text:.0f} ₽",
         "type": "bar",
         "x": {
          "bdata": "AAAAAJC/90A=",
          "dtype": "f8"
         },
         "xaxis": "x",
         "y": [
          "Интернет-магазин"
         ],
         "yaxis": "y"
        },
        {
         "hovertemplate": "Работодатель=HOLODILNIK.RU<br>Средняя зарплата (₽)=%{text}<br>Отрасль=%{y}<extra></extra>",
         "legendgroup": "HOLODILNIK.RU",
         "marker": {
          "color": "#FF97FF",
          "line": {
           "color": "darkgrey",
           "width": 1
          },
          "pattern": {
           "shape": ""
          }
         },
         "name": "HOLODILNIK.RU",
         "orientation": "h",
         "showlegend": true,
         "text": {
          "bdata": "AAAAABCG+UA=",
          "dtype": "f8"
         },
         "textposition": "outside",
         "texttemplate": "%{text:.0f} ₽",
         "type": "bar",
         "x": {
          "bdata": "AAAAABCG+UA=",
          "dtype": "f8"
         },
         "xaxis": "x",
         "y": [
          "Интернет-магазин"
         ],
         "yaxis": "y"
        },
        {
         "hovertemplate": "Работодатель=ЭТМ, компания<br>Средняя зарплата (₽)=%{text}<br>Отрасль=%{y}<extra></extra>",
         "legendgroup": "ЭТМ, компания",
         "marker": {
          "color": "#FECB52",
          "line": {
           "color": "darkgrey",
           "width": 1
          },
          "pattern": {
           "shape": ""
          }
         },
         "name": "ЭТМ, компания",
         "orientation": "h",
         "showlegend": true,
         "text": {
          "bdata": "AAAAAEA17UAAAAAAQDXtQA==",
          "dtype": "f8"
         },
         "textposition": "outside",
         "texttemplate": "%{text:.0f} ₽",
         "type": "bar",
         "x": {
          "bdata": "AAAAAEA17UAAAAAAQDXtQA==",
          "dtype": "f8"
         },
         "xaxis": "x",
         "y": [
          "Электронно-вычислительная,<br>оптическая, контрольно-<br>измерительная техника,<br>радиоэлектроника, автоматика<br>(продвижение, оптовая<br>торговля)",
          "Промышленное, бытовое<br>электрооборудование и<br>электротехника (продвижение,<br>оптовая торговля)"
         ],
         "yaxis": "y"
        },
        {
         "hovertemplate": "Работодатель=Энергомера, Концерн<br>Средняя зарплата (₽)=%{text}<br>Отрасль=%{y}<extra></extra>",
         "legendgroup": "Энергомера, Концерн",
         "marker": {
          "color": "#636efa",
          "line": {
           "color": "darkgrey",
           "width": 1
          },
          "pattern": {
           "shape": ""
          }
         },
         "name": "Энергомера, Концерн",
         "orientation": "h",
         "showlegend": true,
         "text": {
          "bdata": "AAAAADDA8EAAAAAAMMDwQAAAAAAwwPBA",
          "dtype": "f8"
         },
         "textposition": "outside",
         "texttemplate": "%{text:.0f} ₽",
         "type": "bar",
         "x": {
          "bdata": "AAAAADDA8EAAAAAAMMDwQAAAAAAwwPBA",
          "dtype": "f8"
         },
         "xaxis": "x",
         "y": [
          "Электронно-вычислительная,<br>оптическая, контрольно-<br>измерительная техника,<br>радиоэлектроника, автоматика<br>(продвижение, оптовая<br>торговля)",
          "Промышленное, бытовое<br>электрооборудование и<br>электротехника (производство)",
          "Промышленное, бытовое<br>электрооборудование и<br>электротехника (продвижение,<br>оптовая торговля)"
         ],
         "yaxis": "y"
        },
        {
         "hovertemplate": "Работодатель=Офисный Мир КМ<br>Средняя зарплата (₽)=%{text}<br>Отрасль=%{y}<extra></extra>",
         "legendgroup": "Офисный Мир КМ",
         "marker": {
          "color": "#EF553B",
          "line": {
           "color": "darkgrey",
           "width": 1
          },
          "pattern": {
           "shape": ""
          }
         },
         "name": "Офисный Мир КМ",
         "orientation": "h",
         "showlegend": true,
         "text": {
          "bdata": "AAAAAFDaAUEAAAAAUNoBQQ==",
          "dtype": "f8"
         },
         "textposition": "outside",
         "texttemplate": "%{text:.0f} ₽",
         "type": "bar",
         "x": {
          "bdata": "AAAAAFDaAUEAAAAAUNoBQQ==",
          "dtype": "f8"
         },
         "xaxis": "x",
         "y": [
          "Электронно-вычислительная,<br>оптическая, контрольно-<br>измерительная техника,<br>радиоэлектроника, автоматика<br>(продвижение, оптовая<br>торговля)",
          "Электронно-вычислительная,<br>оптическая, контрольно-<br>измерительная техника,<br>радиоэлектроника, автоматика<br>(производство)"
         ],
         "yaxis": "y"
        },
        {
         "hovertemplate": "Работодатель=Крафтвэй корпорэйшн ПЛС<br>Средняя зарплата (₽)=%{text}<br>Отрасль=%{y}<extra></extra>",
         "legendgroup": "Крафтвэй корпорэйшн ПЛС",
         "marker": {
          "color": "#00cc96",
          "line": {
           "color": "darkgrey",
           "width": 1
          },
          "pattern": {
           "shape": ""
          }
         },
         "name": "Крафтвэй корпорэйшн ПЛС",
         "orientation": "h",
         "showlegend": true,
         "text": {
          "bdata": "AAAAAIB+70A=",
          "dtype": "f8"
         },
         "textposition": "outside",
         "texttemplate": "%{text:.0f} ₽",
         "type": "bar",
         "x": {
          "bdata": "AAAAAIB+70A=",
          "dtype": "f8"
         },
         "xaxis": "x",
         "y": [
          "Электронно-вычислительная,<br>оптическая, контрольно-<br>измерительная техника,<br>радиоэлектроника, автоматика<br>(производство)"
         ],
         "yaxis": "y"
        },
        {
         "hovertemplate": "Работодатель=Омский НИИ Приборостроения<br>Средняя зарплата (₽)=%{text}<br>Отрасль=%{y}<extra></extra>",
         "legendgroup": "Омский НИИ Приборостроения",
         "marker": {
          "color": "#ab63fa",
          "line": {
           "color": "darkgrey",
           "width": 1
          },
          "pattern": {
           "shape": ""
          }
         },
         "name": "Омский НИИ Приборостроения",
         "orientation": "h",
         "showlegend": true,
         "text": {
          "bdata": "AAAAAECA40AAAAAAQIDjQA==",
          "dtype": "f8"
         },
         "textposition": "outside",
         "texttemplate": "%{text:.0f} ₽",
         "type": "bar",
         "x": {
          "bdata": "AAAAAECA40AAAAAAQIDjQA==",
          "dtype": "f8"
         },
         "xaxis": "x",
         "y": [
          "Электронно-вычислительная,<br>оптическая, контрольно-<br>измерительная техника,<br>радиоэлектроника, автоматика<br>(производство)",
          "Промышленное, бытовое<br>электрооборудование и<br>электротехника (производство)"
         ],
         "yaxis": "y"
        },
        {
         "hovertemplate": "Работодатель=Красноярскнефтепродукт<br>Средняя зарплата (₽)=%{text}<br>Отрасль=%{y}<extra></extra>",
         "legendgroup": "Красноярскнефтепродукт",
         "marker": {
          "color": "#FFA15A",
          "line": {
           "color": "darkgrey",
           "width": 1
          },
          "pattern": {
           "shape": ""
          }
         },
         "name": "Красноярскнефтепродукт",
         "orientation": "h",
         "showlegend": true,
         "text": {
          "bdata": "AAAAAMCv7EAAAAAAwK/sQA==",
          "dtype": "f8"
         },
         "textposition": "outside",
         "texttemplate": "%{text:.0f} ₽",
         "type": "bar",
         "x": {
          "bdata": "AAAAAMCv7EAAAAAAwK/sQA==",
          "dtype": "f8"
         },
         "xaxis": "x",
         "y": [
          "Нефтепереработка, нефтехимия<br>(производство)",
          "ГСМ, топливо (розничная<br>торговля)"
         ],
         "yaxis": "y"
        },
        {
         "hovertemplate": "Работодатель=РН - Туапсинский НПЗ<br>Средняя зарплата (₽)=%{text}<br>Отрасль=%{y}<extra></extra>",
         "legendgroup": "РН - Туапсинский НПЗ",
         "marker": {
          "color": "#19d3f3",
          "line": {
           "color": "darkgrey",
           "width": 1
          },
          "pattern": {
           "shape": ""
          }
         },
         "name": "РН - Туапсинский НПЗ",
         "orientation": "h",
         "showlegend": true,
         "text": {
          "bdata": "AAAAAEB65kA=",
          "dtype": "f8"
         },
         "textposition": "outside",
         "texttemplate": "%{text:.0f} ₽",
         "type": "bar",
         "x": {
          "bdata": "AAAAAEB65kA=",
          "dtype": "f8"
         },
         "xaxis": "x",
         "y": [
          "Нефтепереработка, нефтехимия<br>(производство)"
         ],
         "yaxis": "y"
        },
        {
         "hovertemplate": "Работодатель=Ангарский завод полимеров<br>Средняя зарплата (₽)=%{text}<br>Отрасль=%{y}<extra></extra>",
         "legendgroup": "Ангарский завод полимеров",
         "marker": {
          "color": "#FF6692",
          "line": {
           "color": "darkgrey",
           "width": 1
          },
          "pattern": {
           "shape": ""
          }
         },
         "name": "Ангарский завод полимеров",
         "orientation": "h",
         "showlegend": true,
         "text": {
          "bdata": "AAAAAABY60A=",
          "dtype": "f8"
         },
         "textposition": "outside",
         "texttemplate": "%{text:.0f} ₽",
         "type": "bar",
         "x": {
          "bdata": "AAAAAABY60A=",
          "dtype": "f8"
         },
         "xaxis": "x",
         "y": [
          "Нефтепереработка, нефтехимия<br>(производство)"
         ],
         "yaxis": "y"
        },
        {
         "hovertemplate": "Работодатель=Консалтинг Групп<br>Средняя зарплата (₽)=%{text}<br>Отрасль=%{y}<extra></extra>",
         "legendgroup": "Консалтинг Групп",
         "marker": {
          "color": "#B6E880",
          "line": {
           "color": "darkgrey",
           "width": 1
          },
          "pattern": {
           "shape": ""
          }
         },
         "name": "Консалтинг Групп",
         "orientation": "h",
         "showlegend": true,
         "text": {
          "bdata": "AAAAAABw/UA=",
          "dtype": "f8"
         },
         "textposition": "outside",
         "texttemplate": "%{text:.0f} ₽",
         "type": "bar",
         "x": {
          "bdata": "AAAAAABw/UA=",
          "dtype": "f8"
         },
         "xaxis": "x",
         "y": [
          "Металлические изделия,<br>металлоконструкции<br>(производство)"
         ],
         "yaxis": "y"
        },
        {
         "hovertemplate": "Работодатель=Объединенная металлургическая компания<br>Средняя зарплата (₽)=%{text}<br>Отрасль=%{y}<extra></extra>",
         "legendgroup": "Объединенная металлургическая компания",
         "marker": {
          "color": "#FF97FF",
          "line": {
           "color": "darkgrey",
           "width": 1
          },
          "pattern": {
           "shape": ""
          }
         },
         "name": "Объединенная металлургическая компания",
         "orientation": "h",
         "showlegend": true,
         "text": {
          "bdata": "AAAAAIB740A=",
          "dtype": "f8"
         },
         "textposition": "outside",
         "texttemplate": "%{text:.0f} ₽",
         "type": "bar",
         "x": {
          "bdata": "AAAAAIB740A=",
          "dtype": "f8"
         },
         "xaxis": "x",
         "y": [
          "Металлические изделия,<br>металлоконструкции<br>(производство)"
         ],
         "yaxis": "y"
        },
        {
         "hovertemplate": "Работодатель=Экосистема<br>Средняя зарплата (₽)=%{text}<br>Отрасль=%{y}<extra></extra>",
         "legendgroup": "Экосистема",
         "marker": {
          "color": "#FECB52",
          "line": {
           "color": "darkgrey",
           "width": 1
          },
          "pattern": {
           "shape": ""
          }
         },
         "name": "Экосистема",
         "orientation": "h",
         "showlegend": true,
         "text": {
          "bdata": "AAAAAOCI70A=",
          "dtype": "f8"
         },
         "textposition": "outside",
         "texttemplate": "%{text:.0f} ₽",
         "type": "bar",
         "x": {
          "bdata": "AAAAAOCI70A=",
          "dtype": "f8"
         },
         "xaxis": "x",
         "y": [
          "Металлические изделия,<br>металлоконструкции<br>(производство)"
         ],
         "yaxis": "y"
        },
        {
         "hovertemplate": "Работодатель=ИНВИС<br>Средняя зарплата (₽)=%{text}<br>Отрасль=%{y}<extra></extra>",
         "legendgroup": "ИНВИС",
         "marker": {
          "color": "#636efa",
          "line": {
           "color": "darkgrey",
           "width": 1
          },
          "pattern": {
           "shape": ""
          }
         },
         "name": "ИНВИС",
         "orientation": "h",
         "showlegend": true,
         "text": {
          "bdata": "AAAAAICEDkE=",
          "dtype": "f8"
         },
         "textposition": "outside",
         "texttemplate": "%{text:.0f} ₽",
         "type": "bar",
         "x": {
          "bdata": "AAAAAICEDkE=",
          "dtype": "f8"
         },
         "xaxis": "x",
         "y": [
          "Промышленное, бытовое<br>электрооборудование и<br>электротехника (производство)"
         ],
         "yaxis": "y"
        },
        {
         "hovertemplate": "Работодатель=Гелиос<br>Средняя зарплата (₽)=%{text}<br>Отрасль=%{y}<extra></extra>",
         "legendgroup": "Гелиос",
         "marker": {
          "color": "#EF553B",
          "line": {
           "color": "darkgrey",
           "width": 1
          },
          "pattern": {
           "shape": ""
          }
         },
         "name": "Гелиос",
         "orientation": "h",
         "showlegend": true,
         "text": {
          "bdata": "AAAAAEBC0kA=",
          "dtype": "f8"
         },
         "textposition": "outside",
         "texttemplate": "%{text:.0f} ₽",
         "type": "bar",
         "x": {
          "bdata": "AAAAAEBC0kA=",
          "dtype": "f8"
         },
         "xaxis": "x",
         "y": [
          "ГСМ, топливо (розничная<br>торговля)"
         ],
         "yaxis": "y"
        },
        {
         "hovertemplate": "Работодатель=Автогаз Трэйд<br>Средняя зарплата (₽)=%{text}<br>Отрасль=%{y}<extra></extra>",
         "legendgroup": "Автогаз Трэйд",
         "marker": {
          "color": "#00cc96",
          "line": {
           "color": "darkgrey",
           "width": 1
          },
          "pattern": {
           "shape": ""
          }
         },
         "name": "Автогаз Трэйд",
         "orientation": "h",
         "showlegend": true,
         "text": {
          "bdata": "AAAAAGDL5kA=",
          "dtype": "f8"
         },
         "textposition": "outside",
         "texttemplate": "%{text:.0f} ₽",
         "type": "bar",
         "x": {
          "bdata": "AAAAAGDL5kA=",
          "dtype": "f8"
         },
         "xaxis": "x",
         "y": [
          "ГСМ, топливо (розничная<br>торговля)"
         ],
         "yaxis": "y"
        },
        {
         "hovertemplate": "Работодатель=Компания ТЕХНОТЕКС<br>Средняя зарплата (₽)=%{text}<br>Отрасль=%{y}<extra></extra>",
         "legendgroup": "Компания ТЕХНОТЕКС",
         "marker": {
          "color": "#ab63fa",
          "line": {
           "color": "darkgrey",
           "width": 1
          },
          "pattern": {
           "shape": ""
          }
         },
         "name": "Компания ТЕХНОТЕКС",
         "orientation": "h",
         "showlegend": true,
         "text": {
          "bdata": "AAAAAOBu70A=",
          "dtype": "f8"
         },
         "textposition": "outside",
         "texttemplate": "%{text:.0f} ₽",
         "type": "bar",
         "x": {
          "bdata": "AAAAAOBu70A=",
          "dtype": "f8"
         },
         "xaxis": "x",
         "y": [
          "Промышленное, бытовое<br>электрооборудование и<br>электротехника (продвижение,<br>оптовая торговля)"
         ],
         "yaxis": "y"
        }
       ],
       "layout": {
        "barmode": "relative",
        "font": {
         "family": "Arial",
         "size": 12
        },
        "height": 1200,
        "hoverlabel": {
         "bgcolor": "white",
         "font": {
          "family": "Arial",
          "size": 13
         }
        },
        "legend": {
         "title": {
          "text": "Работодатель"
         },
         "tracegroupgap": 0
        },
        "margin": {
         "b": 40,
         "l": 40,
         "r": 40,
         "t": 60
        },
        "plot_bgcolor": "white",
        "template": {
         "data": {
          "bar": [
           {
            "error_x": {
             "color": "#2a3f5f"
            },
            "error_y": {
             "color": "#2a3f5f"
            },
            "marker": {
             "line": {
              "color": "#E5ECF6",
              "width": 0.5
             },
             "pattern": {
              "fillmode": "overlay",
              "size": 10,
              "solidity": 0.2
             }
            },
            "type": "bar"
           }
          ],
          "barpolar": [
           {
            "marker": {
             "line": {
              "color": "#E5ECF6",
              "width": 0.5
             },
             "pattern": {
              "fillmode": "overlay",
              "size": 10,
              "solidity": 0.2
             }
            },
            "type": "barpolar"
           }
          ],
          "carpet": [
           {
            "aaxis": {
             "endlinecolor": "#2a3f5f",
             "gridcolor": "white",
             "linecolor": "white",
             "minorgridcolor": "white",
             "startlinecolor": "#2a3f5f"
            },
            "baxis": {
             "endlinecolor": "#2a3f5f",
             "gridcolor": "white",
             "linecolor": "white",
             "minorgridcolor": "white",
             "startlinecolor": "#2a3f5f"
            },
            "type": "carpet"
           }
          ],
          "choropleth": [
           {
            "colorbar": {
             "outlinewidth": 0,
             "ticks": ""
            },
            "type": "choropleth"
           }
          ],
          "contour": [
           {
            "colorbar": {
             "outlinewidth": 0,
             "ticks": ""
            },
            "colorscale": [
             [
              0,
              "#0d0887"
             ],
             [
              0.1111111111111111,
              "#46039f"
             ],
             [
              0.2222222222222222,
              "#7201a8"
             ],
             [
              0.3333333333333333,
              "#9c179e"
             ],
             [
              0.4444444444444444,
              "#bd3786"
             ],
             [
              0.5555555555555556,
              "#d8576b"
             ],
             [
              0.6666666666666666,
              "#ed7953"
             ],
             [
              0.7777777777777778,
              "#fb9f3a"
             ],
             [
              0.8888888888888888,
              "#fdca26"
             ],
             [
              1,
              "#f0f921"
             ]
            ],
            "type": "contour"
           }
          ],
          "contourcarpet": [
           {
            "colorbar": {
             "outlinewidth": 0,
             "ticks": ""
            },
            "type": "contourcarpet"
           }
          ],
          "heatmap": [
           {
            "colorbar": {
             "outlinewidth": 0,
             "ticks": ""
            },
            "colorscale": [
             [
              0,
              "#0d0887"
             ],
             [
              0.1111111111111111,
              "#46039f"
             ],
             [
              0.2222222222222222,
              "#7201a8"
             ],
             [
              0.3333333333333333,
              "#9c179e"
             ],
             [
              0.4444444444444444,
              "#bd3786"
             ],
             [
              0.5555555555555556,
              "#d8576b"
             ],
             [
              0.6666666666666666,
              "#ed7953"
             ],
             [
              0.7777777777777778,
              "#fb9f3a"
             ],
             [
              0.8888888888888888,
              "#fdca26"
             ],
             [
              1,
              "#f0f921"
             ]
            ],
            "type": "heatmap"
           }
          ],
          "histogram": [
           {
            "marker": {
             "pattern": {
              "fillmode": "overlay",
              "size": 10,
              "solidity": 0.2
             }
            },
            "type": "histogram"
           }
          ],
          "histogram2d": [
           {
            "colorbar": {
             "outlinewidth": 0,
             "ticks": ""
            },
            "colorscale": [
             [
              0,
              "#0d0887"
             ],
             [
              0.1111111111111111,
              "#46039f"
             ],
             [
              0.2222222222222222,
              "#7201a8"
             ],
             [
              0.3333333333333333,
              "#9c179e"
             ],
             [
              0.4444444444444444,
              "#bd3786"
             ],
             [
              0.5555555555555556,
              "#d8576b"
             ],
             [
              0.6666666666666666,
              "#ed7953"
             ],
             [
              0.7777777777777778,
              "#fb9f3a"
             ],
             [
              0.8888888888888888,
              "#fdca26"
             ],
             [
              1,
              "#f0f921"
             ]
            ],
            "type": "histogram2d"
           }
          ],
          "histogram2dcontour": [
           {
            "colorbar": {
             "outlinewidth": 0,
             "ticks": ""
            },
            "colorscale": [
             [
              0,
              "#0d0887"
             ],
             [
              0.1111111111111111,
              "#46039f"
             ],
             [
              0.2222222222222222,
              "#7201a8"
             ],
             [
              0.3333333333333333,
              "#9c179e"
             ],
             [
              0.4444444444444444,
              "#bd3786"
             ],
             [
              0.5555555555555556,
              "#d8576b"
             ],
             [
              0.6666666666666666,
              "#ed7953"
             ],
             [
              0.7777777777777778,
              "#fb9f3a"
             ],
             [
              0.8888888888888888,
              "#fdca26"
             ],
             [
              1,
              "#f0f921"
             ]
            ],
            "type": "histogram2dcontour"
           }
          ],
          "mesh3d": [
           {
            "colorbar": {
             "outlinewidth": 0,
             "ticks": ""
            },
            "type": "mesh3d"
           }
          ],
          "parcoords": [
           {
            "line": {
             "colorbar": {
              "outlinewidth": 0,
              "ticks": ""
             }
            },
            "type": "parcoords"
           }
          ],
          "pie": [
           {
            "automargin": true,
            "type": "pie"
           }
          ],
          "scatter": [
           {
            "fillpattern": {
             "fillmode": "overlay",
             "size": 10,
             "solidity": 0.2
            },
            "type": "scatter"
           }
          ],
          "scatter3d": [
           {
            "line": {
             "colorbar": {
              "outlinewidth": 0,
              "ticks": ""
             }
            },
            "marker": {
             "colorbar": {
              "outlinewidth": 0,
              "ticks": ""
             }
            },
            "type": "scatter3d"
           }
          ],
          "scattercarpet": [
           {
            "marker": {
             "colorbar": {
              "outlinewidth": 0,
              "ticks": ""
             }
            },
            "type": "scattercarpet"
           }
          ],
          "scattergeo": [
           {
            "marker": {
             "colorbar": {
              "outlinewidth": 0,
              "ticks": ""
             }
            },
            "type": "scattergeo"
           }
          ],
          "scattergl": [
           {
            "marker": {
             "colorbar": {
              "outlinewidth": 0,
              "ticks": ""
             }
            },
            "type": "scattergl"
           }
          ],
          "scattermap": [
           {
            "marker": {
             "colorbar": {
              "outlinewidth": 0,
              "ticks": ""
             }
            },
            "type": "scattermap"
           }
          ],
          "scattermapbox": [
           {
            "marker": {
             "colorbar": {
              "outlinewidth": 0,
              "ticks": ""
             }
            },
            "type": "scattermapbox"
           }
          ],
          "scatterpolar": [
           {
            "marker": {
             "colorbar": {
              "outlinewidth": 0,
              "ticks": ""
             }
            },
            "type": "scatterpolar"
           }
          ],
          "scatterpolargl": [
           {
            "marker": {
             "colorbar": {
              "outlinewidth": 0,
              "ticks": ""
             }
            },
            "type": "scatterpolargl"
           }
          ],
          "scatterternary": [
           {
            "marker": {
             "colorbar": {
              "outlinewidth": 0,
              "ticks": ""
             }
            },
            "type": "scatterternary"
           }
          ],
          "surface": [
           {
            "colorbar": {
             "outlinewidth": 0,
             "ticks": ""
            },
            "colorscale": [
             [
              0,
              "#0d0887"
             ],
             [
              0.1111111111111111,
              "#46039f"
             ],
             [
              0.2222222222222222,
              "#7201a8"
             ],
             [
              0.3333333333333333,
              "#9c179e"
             ],
             [
              0.4444444444444444,
              "#bd3786"
             ],
             [
              0.5555555555555556,
              "#d8576b"
             ],
             [
              0.6666666666666666,
              "#ed7953"
             ],
             [
              0.7777777777777778,
              "#fb9f3a"
             ],
             [
              0.8888888888888888,
              "#fdca26"
             ],
             [
              1,
              "#f0f921"
             ]
            ],
            "type": "surface"
           }
          ],
          "table": [
           {
            "cells": {
             "fill": {
              "color": "#EBF0F8"
             },
             "line": {
              "color": "white"
             }
            },
            "header": {
             "fill": {
              "color": "#C8D4E3"
             },
             "line": {
              "color": "white"
             }
            },
            "type": "table"
           }
          ]
         },
         "layout": {
          "annotationdefaults": {
           "arrowcolor": "#2a3f5f",
           "arrowhead": 0,
           "arrowwidth": 1
          },
          "autotypenumbers": "strict",
          "coloraxis": {
           "colorbar": {
            "outlinewidth": 0,
            "ticks": ""
           }
          },
          "colorscale": {
           "diverging": [
            [
             0,
             "#8e0152"
            ],
            [
             0.1,
             "#c51b7d"
            ],
            [
             0.2,
             "#de77ae"
            ],
            [
             0.3,
             "#f1b6da"
            ],
            [
             0.4,
             "#fde0ef"
            ],
            [
             0.5,
             "#f7f7f7"
            ],
            [
             0.6,
             "#e6f5d0"
            ],
            [
             0.7,
             "#b8e186"
            ],
            [
             0.8,
             "#7fbc41"
            ],
            [
             0.9,
             "#4d9221"
            ],
            [
             1,
             "#276419"
            ]
           ],
           "sequential": [
            [
             0,
             "#0d0887"
            ],
            [
             0.1111111111111111,
             "#46039f"
            ],
            [
             0.2222222222222222,
             "#7201a8"
            ],
            [
             0.3333333333333333,
             "#9c179e"
            ],
            [
             0.4444444444444444,
             "#bd3786"
            ],
            [
             0.5555555555555556,
             "#d8576b"
            ],
            [
             0.6666666666666666,
             "#ed7953"
            ],
            [
             0.7777777777777778,
             "#fb9f3a"
            ],
            [
             0.8888888888888888,
             "#fdca26"
            ],
            [
             1,
             "#f0f921"
            ]
           ],
           "sequentialminus": [
            [
             0,
             "#0d0887"
            ],
            [
             0.1111111111111111,
             "#46039f"
            ],
            [
             0.2222222222222222,
             "#7201a8"
            ],
            [
             0.3333333333333333,
             "#9c179e"
            ],
            [
             0.4444444444444444,
             "#bd3786"
            ],
            [
             0.5555555555555556,
             "#d8576b"
            ],
            [
             0.6666666666666666,
             "#ed7953"
            ],
            [
             0.7777777777777778,
             "#fb9f3a"
            ],
            [
             0.8888888888888888,
             "#fdca26"
            ],
            [
             1,
             "#f0f921"
            ]
           ]
          },
          "colorway": [
           "#636efa",
           "#EF553B",
           "#00cc96",
           "#ab63fa",
           "#FFA15A",
           "#19d3f3",
           "#FF6692",
           "#B6E880",
           "#FF97FF",
           "#FECB52"
          ],
          "font": {
           "color": "#2a3f5f"
          },
          "geo": {
           "bgcolor": "white",
           "lakecolor": "white",
           "landcolor": "#E5ECF6",
           "showlakes": true,
           "showland": true,
           "subunitcolor": "white"
          },
          "hoverlabel": {
           "align": "left"
          },
          "hovermode": "closest",
          "mapbox": {
           "style": "light"
          },
          "paper_bgcolor": "white",
          "plot_bgcolor": "#E5ECF6",
          "polar": {
           "angularaxis": {
            "gridcolor": "white",
            "linecolor": "white",
            "ticks": ""
           },
           "bgcolor": "#E5ECF6",
           "radialaxis": {
            "gridcolor": "white",
            "linecolor": "white",
            "ticks": ""
           }
          },
          "scene": {
           "xaxis": {
            "backgroundcolor": "#E5ECF6",
            "gridcolor": "white",
            "gridwidth": 2,
            "linecolor": "white",
            "showbackground": true,
            "ticks": "",
            "zerolinecolor": "white"
           },
           "yaxis": {
            "backgroundcolor": "#E5ECF6",
            "gridcolor": "white",
            "gridwidth": 2,
            "linecolor": "white",
            "showbackground": true,
            "ticks": "",
            "zerolinecolor": "white"
           },
           "zaxis": {
            "backgroundcolor": "#E5ECF6",
            "gridcolor": "white",
            "gridwidth": 2,
            "linecolor": "white",
            "showbackground": true,
            "ticks": "",
            "zerolinecolor": "white"
           }
          },
          "shapedefaults": {
           "line": {
            "color": "#2a3f5f"
           }
          },
          "ternary": {
           "aaxis": {
            "gridcolor": "white",
            "linecolor": "white",
            "ticks": ""
           },
           "baxis": {
            "gridcolor": "white",
            "linecolor": "white",
            "ticks": ""
           },
           "bgcolor": "#E5ECF6",
           "caxis": {
            "gridcolor": "white",
            "linecolor": "white",
            "ticks": ""
           }
          },
          "title": {
           "x": 0.05
          },
          "xaxis": {
           "automargin": true,
           "gridcolor": "white",
           "linecolor": "white",
           "ticks": "",
           "title": {
            "standoff": 15
           },
           "zerolinecolor": "white",
           "zerolinewidth": 2
          },
          "yaxis": {
           "automargin": true,
           "gridcolor": "white",
           "linecolor": "white",
           "ticks": "",
           "title": {
            "standoff": 15
           },
           "zerolinecolor": "white",
           "zerolinewidth": 2
          }
         }
        },
        "title": {
         "font": {
          "size": 20
         },
         "text": "Средняя зарплата топ-работодателей по отраслям",
         "x": 0.5,
         "xanchor": "center"
        },
        "width": 1400,
        "xaxis": {
         "anchor": "y",
         "domain": [
          0,
          1
         ],
         "gridcolor": "lightgrey",
         "tickfont": {
          "size": 11
         },
         "title": {
          "font": {
           "size": 16
          },
          "text": "Средняя зарплата (₽)"
         }
        },
        "yaxis": {
         "anchor": "x",
         "domain": [
          0,
          1
         ],
         "gridcolor": "lightgrey",
         "tickfont": {
          "size": 9
         },
         "title": {
          "font": {
           "size": 16
          },
          "text": "Отрасль"
         }
        }
       }
      }
     },
     "metadata": {},
     "output_type": "display_data"
    }
   ],
   "source": [
    "# Optional Enhancements 9 — Зарплата по топ-3 работодателям в каждой отрасли/ Визуализация с помощью Plotly Express\n",
    "\n",
    "import plotly.express as px\n",
    "import pandas as pd\n",
    "\n",
    "df_plot = df['salary_by_major_industry_employers'].copy()\n",
    "\n",
    "# Вставляем переносы строк в длинные названия отраслей\n",
    "def wrap_label(text, width=30):\n",
    "    import textwrap\n",
    "    return '<br>'.join(textwrap.wrap(text, width=width))\n",
    "\n",
    "df_plot['industry_wrapped'] = df_plot['industry'].apply(lambda x: wrap_label(x, width=30))\n",
    "\n",
    "# Преобразуем данные в длинный формат\n",
    "df_long = pd.DataFrame({\n",
    "    'industry': df_plot['industry_wrapped'].repeat(3),\n",
    "    'employer': df_plot[['employer_n_one', 'employer_n_two', 'employer_n_three']].values.flatten(),\n",
    "    'avg_salary': df_plot[['employer_one_avg_salary', 'employer_two_avg_salary', 'employer_three_avg_salary']].values.flatten()\n",
    "})\n",
    "\n",
    "df_long = df_long[df_long['avg_salary'].notnull()]\n",
    "\n",
    "fig = px.bar(\n",
    "    df_long,\n",
    "    x='avg_salary',\n",
    "    y='industry',\n",
    "    color='employer',\n",
    "    orientation='h',\n",
    "    text='avg_salary',\n",
    "    title='Средняя зарплата топ-работодателей по отраслям',\n",
    "    labels={\n",
    "        'avg_salary': 'Средняя зарплата (₽)',\n",
    "        'industry': 'Отрасль',\n",
    "        'employer': 'Работодатель'\n",
    "    },\n",
    "    height=1200,\n",
    "    width=1400\n",
    ")\n",
    "\n",
    "fig.update_traces(\n",
    "    texttemplate='%{text:.0f} ₽',\n",
    "    textposition='outside',\n",
    "    marker_line_width=1,\n",
    "    marker_line_color='darkgrey'\n",
    ")\n",
    "\n",
    "fig.update_layout(\n",
    "    title=dict(\n",
    "        text='Средняя зарплата топ-работодателей по отраслям',\n",
    "        x=0.5,\n",
    "        xanchor='center',\n",
    "        font=dict(size=20)  # Title font size\n",
    "    ),\n",
    "    font=dict(size=12, family='Arial'),  # Global font for tick labels\n",
    "    plot_bgcolor='white',\n",
    "    xaxis=dict(\n",
    "        title='Средняя зарплата (₽)',\n",
    "        title_font=dict(size=16),       # X-axis label font\n",
    "        tickfont=dict(size=11),         # X-axis tick font\n",
    "        gridcolor='lightgrey'\n",
    "    ),\n",
    "    yaxis=dict(\n",
    "        title='Отрасль',\n",
    "        title_font=dict(size=16),       # Y-axis label font\n",
    "        tickfont=dict(size=9),         # Y-axis tick font\n",
    "        gridcolor='lightgrey'\n",
    "    ),\n",
    "    legend_title='Работодатель',\n",
    "    margin=dict(l=40, r=40, t=60, b=40),\n",
    "    hoverlabel=dict(bgcolor='white', font_size=13, font_family='Arial')\n",
    ")\n",
    "\n",
    "fig.write_image(\"plots/salary_by_major_industry_employers.png\", width=1400, height=1200)\n",
    "fig.show()\n",
    "\n",
    "\n"
   ]
  },
  {
   "cell_type": "markdown",
   "id": "24c2ec68",
   "metadata": {},
   "source": [
    "### Optional Enhancements 9 — Зарплата по топ-3 работодателям в каждой отрасли\n",
    "\n",
    "![Зарплата по топ-3 работодателям в каждой отрасли](plots/salary_by_major_industry_employers.png)\n",
    "\n",
    "**Средняя зарплата топ-работодателей по отраслям**  \n",
    "\n",
    "График демонстрирует, какие работодатели предлагают самые высокие средние зарплаты в различных отраслях. Для каждой отрасли представлены до трёх компаний, у которых есть вакансии с указанной зарплатой. Данные агрегированы по средней зарплате, рассчитанной на основе диапазона salary_from и salary_to.\n",
    "\n",
    "**Структура графика**:  \n",
    "\n",
    "Ось Y — отрасли: телеком, IT, финансы, ритейл, промышленность, энергетика, транспорт, строительство, недвижимость, АПК, медиа, HoReCa, услуги, госсектор.\n",
    "\n",
    "Ось X — средняя зарплата в рублях (₽).\n",
    "\n",
    "Цветовая кодировка — разные работодатели.\n",
    "\n",
    "Подписи — значения средней зарплаты.\n",
    "\n",
    "**Ключевые наблюдения**:  \n",
    "\n",
    "Andersen — один из лидеров по зарплатам в нескольких отраслях, включая IT и консалтинг (до 269,000 ₽).\n",
    "\n",
    "Точка и СБЕР — выделяются в банковском секторе с зарплатами выше 150,000 ₽.\n",
    "\n",
    "КАЗАНЬЭКСПРЕСС — лидер в интернет-торговле с зарплатой свыше 200,000 ₽.\n",
    "\n",
    "ALP GROUP и РБ — доминируют в маркетинге и PR с предложениями от 168,000 ₽.\n",
    "\n",
    "В ритейле, телекоммуникациях и госсекторе зарплаты значительно ниже — от 30,000 до 80,000 ₽.\n",
    "\n",
    "**Интерпретация**:  \n",
    "\n",
    "График позволяет быстро оценить, какие отрасли и работодатели предлагают конкурентные условия.\n",
    "\n",
    "Высокие зарплаты часто встречаются в IT, консалтинге, маркетинге и банковской сфере.\n",
    "\n",
    "Низкие значения характерны для массовых сегментов — ритейл, телеком, услуги."
   ]
  },
  {
   "cell_type": "markdown",
   "id": "9086823b",
   "metadata": {},
   "source": [
    "### Финал"
   ]
  },
  {
   "cell_type": "code",
   "execution_count": null,
   "id": "03b03b6a",
   "metadata": {},
   "outputs": [],
   "source": [
    "# Закрываем соединение с базой по завершении работы — это хорошая практика\n",
    "connection.close()"
   ]
  }
 ],
 "metadata": {
  "colab": {
   "collapsed_sections": [],
   "provenance": []
  },
  "kernelspec": {
   "display_name": "Conda_SkillsFactory",
   "language": "python",
   "name": "python3"
  },
  "language_info": {
   "codemirror_mode": {
    "name": "ipython",
    "version": 3
   },
   "file_extension": ".py",
   "mimetype": "text/x-python",
   "name": "python",
   "nbconvert_exporter": "python",
   "pygments_lexer": "ipython3",
   "version": "3.13.5"
  }
 },
 "nbformat": 4,
 "nbformat_minor": 5
}
