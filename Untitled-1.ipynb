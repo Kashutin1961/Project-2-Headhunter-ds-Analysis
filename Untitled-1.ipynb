{
 "cells": [
  {
   "cell_type": "code",
   "execution_count": 2,
   "id": "231aab03",
   "metadata": {},
   "outputs": [
    {
     "name": "stdout",
     "output_type": "stream",
     "text": [
      "dates   2023-01-01 12:00:00\n",
      "dtype: datetime64[ns]\n"
     ]
    }
   ],
   "source": [
    "import warnings\n",
    "# warnings.simplefilter(\"ignore\", FutureWarning)\n",
    "\n",
    "import pandas as pd\n",
    "# Code that might trigger FutureWarning\n",
    "df = pd.DataFrame({'dates': pd.to_datetime(['2023-01-01', '2023-01-02'])})\n",
    "print(df.mean())  # Might raise a FutureWarning\n"
   ]
  },
  {
   "cell_type": "code",
   "execution_count": null,
   "id": "ef81f117",
   "metadata": {},
   "outputs": [],
   "source": [
    "dir(print)"
   ]
  },
  {
   "cell_type": "code",
   "execution_count": null,
   "id": "e2525a51",
   "metadata": {},
   "outputs": [],
   "source": [
    "dir(len)"
   ]
  },
  {
   "cell_type": "code",
   "execution_count": 10,
   "id": "2a68df60",
   "metadata": {},
   "outputs": [
    {
     "name": "stdout",
     "output_type": "stream",
     "text": [
      "9\n",
      "8\n"
     ]
    }
   ],
   "source": [
    "def square(x): return x * x\n",
    "def cube(x): return x * x * x\n",
    "\n",
    "funcs = [square, cube]\n",
    "print(funcs[0](3))  # → 9\n",
    "print(funcs[1](2))  # → 8\n"
   ]
  },
  {
   "cell_type": "code",
   "execution_count": null,
   "id": "a28c5d31",
   "metadata": {},
   "outputs": [],
   "source": [
    "# Задание 5.7 — для 'Яндекс' собираем вакансии по крупным городам (миллионникам) и добавляем строку Total.\n",
    "\n",
    "# Сначала получаем список городов-миллионников из Википедии.\n",
    "import requests\n",
    "from bs4 import BeautifulSoup\n",
    "\n",
    "url = 'https://ru.wikipedia.org/wiki/Города-миллионеры_России'\n",
    "headers = {'User-Agent': 'Mozilla/5.0'}\n",
    "\n",
    "# Запрашиваем страницу и парсим HTML\n",
    "response = requests.get(url, headers=headers)\n",
    "soup = BeautifulSoup(response.text, 'html.parser')\n",
    "\n",
    "# Находим первый элемент <table> на странице\n",
    "table_html = soup.find('table')\n",
    "\n",
    "# Парсим только эту таблицу в DataFrame\n",
    "cities_df = pd.read_html(str(table_html))[0]\n",
    "\n",
    "cities = tuple(cities_df['Город'].str.replace('\\xa0', ' ').str.strip())\n",
    "\n",
    "\n",
    "query5_7 = f'''\n",
    "    SELECT a.name AS area_name,\n",
    "           COUNT(v.id) AS vacancy_count\n",
    "    FROM public.vacancies v\n",
    "    JOIN public.areas a ON v.area_id = a.id\n",
    "    WHERE v.employer_id = (SELECT id FROM public.employers WHERE name = 'Яндекс')\n",
    "      AND a.name IN {cities}\n",
    "    GROUP BY a.id, a.name\n",
    "    UNION ALL\n",
    "    SELECT 'Total' AS area_name,\n",
    "           COUNT(v.id) AS vacancy_count\n",
    "    FROM public.vacancies v\n",
    "    WHERE v.employer_id = (SELECT id FROM public.employers WHERE name = 'Яндекс')\n",
    "'''\n",
    "df['yandex_millionaire_areas'] = pd.read_sql_query(query5_7, connection)\n",
    "display(df['yandex_millionaire_areas'])  # выводим таблицу по Яндексу"
   ]
  }
 ],
 "metadata": {
  "kernelspec": {
   "display_name": "Conda_SkillsFactory",
   "language": "python",
   "name": "python3"
  },
  "language_info": {
   "codemirror_mode": {
    "name": "ipython",
    "version": 3
   },
   "file_extension": ".py",
   "mimetype": "text/x-python",
   "name": "python",
   "nbconvert_exporter": "python",
   "pygments_lexer": "ipython3",
   "version": "3.13.5"
  }
 },
 "nbformat": 4,
 "nbformat_minor": 5
}
